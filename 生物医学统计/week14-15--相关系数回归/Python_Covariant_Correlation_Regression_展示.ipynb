{
 "cells": [
  {
   "cell_type": "markdown",
   "metadata": {},
   "source": [
    "# Unit 4: Covariance, Correlation and Regression"
   ]
  },
  {
   "cell_type": "markdown",
   "metadata": {},
   "source": [
    "## 1 Covariance estimation 协变量<br>\n",
    "$cov_s(x,y)=\\frac{\\sum(x_i-\\bar{x})(y_i-\\bar{y})}{n-1}$\n"
   ]
  },
  {
   "cell_type": "code",
   "execution_count": 1,
   "metadata": {},
   "outputs": [
    {
     "name": "stdout",
     "output_type": "stream",
     "text": [
      "[[3 2]\n",
      " [1 5]\n",
      " [2 7]\n",
      " [4 5]]\n"
     ]
    }
   ],
   "source": [
    "### using the numpy.cov \n",
    "import numpy as np\n",
    "data= np.array([[3, 2], [1, 5], [2, 7],[4,5]])\n",
    "print(data)"
   ]
  },
  {
   "cell_type": "code",
   "execution_count": 2,
   "metadata": {},
   "outputs": [
    {
     "name": "stdout",
     "output_type": "stream",
     "text": [
      "[[ 0.5 -2.  -2.5 -0.5]\n",
      " [-2.   8.  10.   2. ]\n",
      " [-2.5 10.  12.5  2.5]\n",
      " [-0.5  2.   2.5  0.5]]\n",
      "[[ 1.66666667 -0.83333333]\n",
      " [-0.83333333  4.25      ]]\n"
     ]
    }
   ],
   "source": [
    "#each row is treated a variable，row=true 时，是把每一行作为一个变量，再来计算变量间的协方差。\n",
    "# 这样我们就有4个变量，出来结果应该是个4x4的矩阵，计算两两之间的协方差\n",
    "print(np.cov(data,rowvar=True,ddof=1))\n",
    "\n",
    "#each column is treated a variable，row=true 时，是把每一列作为一个变量，再来计算变量间的协方差\n",
    "# 这样我们就有2个变量，出来结果应该是个2x2的矩阵，计算两两之间的协方差\n",
    "print(np.cov(data,rowvar=False,ddof=1))"
   ]
  },
  {
   "cell_type": "code",
   "execution_count": 11,
   "metadata": {},
   "outputs": [
    {
     "name": "stdout",
     "output_type": "stream",
     "text": [
      "1.6666666666666667\n",
      "4.25\n"
     ]
    }
   ],
   "source": [
    "#我们还可以把变量提出来，放到数据列表格式里去计算\n",
    "### verifying the diagnonals are variances: \n",
    "dr1=data.T[0]\n",
    "dr2=data.T[1]\n",
    "\n",
    "print(np.var(dr1,ddof=1))\n",
    "print(np.var(dr2,ddof=1))"
   ]
  },
  {
   "cell_type": "code",
   "execution_count": 4,
   "metadata": {},
   "outputs": [
    {
     "data": {
      "text/plain": [
       "\u001b[1;31mSignature:\u001b[0m\n",
       "\u001b[0mnp\u001b[0m\u001b[1;33m.\u001b[0m\u001b[0mcov\u001b[0m\u001b[1;33m(\u001b[0m\u001b[1;33m\n",
       "\u001b[0m    \u001b[0mm\u001b[0m\u001b[1;33m,\u001b[0m\u001b[1;33m\n",
       "\u001b[0m    \u001b[0my\u001b[0m\u001b[1;33m=\u001b[0m\u001b[1;32mNone\u001b[0m\u001b[1;33m,\u001b[0m\u001b[1;33m\n",
       "\u001b[0m    \u001b[0mrowvar\u001b[0m\u001b[1;33m=\u001b[0m\u001b[1;32mTrue\u001b[0m\u001b[1;33m,\u001b[0m\u001b[1;33m\n",
       "\u001b[0m    \u001b[0mbias\u001b[0m\u001b[1;33m=\u001b[0m\u001b[1;32mFalse\u001b[0m\u001b[1;33m,\u001b[0m\u001b[1;33m\n",
       "\u001b[0m    \u001b[0mddof\u001b[0m\u001b[1;33m=\u001b[0m\u001b[1;32mNone\u001b[0m\u001b[1;33m,\u001b[0m\u001b[1;33m\n",
       "\u001b[0m    \u001b[0mfweights\u001b[0m\u001b[1;33m=\u001b[0m\u001b[1;32mNone\u001b[0m\u001b[1;33m,\u001b[0m\u001b[1;33m\n",
       "\u001b[0m    \u001b[0maweights\u001b[0m\u001b[1;33m=\u001b[0m\u001b[1;32mNone\u001b[0m\u001b[1;33m,\u001b[0m\u001b[1;33m\n",
       "\u001b[0m    \u001b[1;33m*\u001b[0m\u001b[1;33m,\u001b[0m\u001b[1;33m\n",
       "\u001b[0m    \u001b[0mdtype\u001b[0m\u001b[1;33m=\u001b[0m\u001b[1;32mNone\u001b[0m\u001b[1;33m,\u001b[0m\u001b[1;33m\n",
       "\u001b[0m\u001b[1;33m)\u001b[0m\u001b[1;33m\u001b[0m\u001b[1;33m\u001b[0m\u001b[0m\n",
       "\u001b[1;31mDocstring:\u001b[0m\n",
       "Estimate a covariance matrix, given data and weights.\n",
       "\n",
       "Covariance indicates the level to which two variables vary together.\n",
       "If we examine N-dimensional samples, :math:`X = [x_1, x_2, ... x_N]^T`,\n",
       "then the covariance matrix element :math:`C_{ij}` is the covariance of\n",
       ":math:`x_i` and :math:`x_j`. The element :math:`C_{ii}` is the variance\n",
       "of :math:`x_i`.\n",
       "\n",
       "See the notes for an outline of the algorithm.\n",
       "\n",
       "Parameters\n",
       "----------\n",
       "m : array_like\n",
       "    A 1-D or 2-D array containing multiple variables and observations.\n",
       "    Each row of `m` represents a variable, and each column a single\n",
       "    observation of all those variables. Also see `rowvar` below.\n",
       "y : array_like, optional\n",
       "    An additional set of variables and observations. `y` has the same form\n",
       "    as that of `m`.\n",
       "rowvar : bool, optional\n",
       "    If `rowvar` is True (default), then each row represents a\n",
       "    variable, with observations in the columns. Otherwise, the relationship\n",
       "    is transposed: each column represents a variable, while the rows\n",
       "    contain observations.\n",
       "bias : bool, optional\n",
       "    Default normalization (False) is by ``(N - 1)``, where ``N`` is the\n",
       "    number of observations given (unbiased estimate). If `bias` is True,\n",
       "    then normalization is by ``N``. These values can be overridden by using\n",
       "    the keyword ``ddof`` in numpy versions >= 1.5.\n",
       "ddof : int, optional\n",
       "    If not ``None`` the default value implied by `bias` is overridden.\n",
       "    Note that ``ddof=1`` will return the unbiased estimate, even if both\n",
       "    `fweights` and `aweights` are specified, and ``ddof=0`` will return\n",
       "    the simple average. See the notes for the details. The default value\n",
       "    is ``None``.\n",
       "\n",
       "    .. versionadded:: 1.5\n",
       "fweights : array_like, int, optional\n",
       "    1-D array of integer frequency weights; the number of times each\n",
       "    observation vector should be repeated.\n",
       "\n",
       "    .. versionadded:: 1.10\n",
       "aweights : array_like, optional\n",
       "    1-D array of observation vector weights. These relative weights are\n",
       "    typically large for observations considered \"important\" and smaller for\n",
       "    observations considered less \"important\". If ``ddof=0`` the array of\n",
       "    weights can be used to assign probabilities to observation vectors.\n",
       "\n",
       "    .. versionadded:: 1.10\n",
       "dtype : data-type, optional\n",
       "    Data-type of the result. By default, the return data-type will have\n",
       "    at least `numpy.float64` precision.\n",
       "\n",
       "    .. versionadded:: 1.20\n",
       "\n",
       "Returns\n",
       "-------\n",
       "out : ndarray\n",
       "    The covariance matrix of the variables.\n",
       "\n",
       "See Also\n",
       "--------\n",
       "corrcoef : Normalized covariance matrix\n",
       "\n",
       "Notes\n",
       "-----\n",
       "Assume that the observations are in the columns of the observation\n",
       "array `m` and let ``f = fweights`` and ``a = aweights`` for brevity. The\n",
       "steps to compute the weighted covariance are as follows::\n",
       "\n",
       "    >>> m = np.arange(10, dtype=np.float64)\n",
       "    >>> f = np.arange(10) * 2\n",
       "    >>> a = np.arange(10) ** 2.\n",
       "    >>> ddof = 1\n",
       "    >>> w = f * a\n",
       "    >>> v1 = np.sum(w)\n",
       "    >>> v2 = np.sum(w * a)\n",
       "    >>> m -= np.sum(m * w, axis=None, keepdims=True) / v1\n",
       "    >>> cov = np.dot(m * w, m.T) * v1 / (v1**2 - ddof * v2)\n",
       "\n",
       "Note that when ``a == 1``, the normalization factor\n",
       "``v1 / (v1**2 - ddof * v2)`` goes over to ``1 / (np.sum(f) - ddof)``\n",
       "as it should.\n",
       "\n",
       "Examples\n",
       "--------\n",
       "Consider two variables, :math:`x_0` and :math:`x_1`, which\n",
       "correlate perfectly, but in opposite directions:\n",
       "\n",
       ">>> x = np.array([[0, 2], [1, 1], [2, 0]]).T\n",
       ">>> x\n",
       "array([[0, 1, 2],\n",
       "       [2, 1, 0]])\n",
       "\n",
       "Note how :math:`x_0` increases while :math:`x_1` decreases. The covariance\n",
       "matrix shows this clearly:\n",
       "\n",
       ">>> np.cov(x)\n",
       "array([[ 1., -1.],\n",
       "       [-1.,  1.]])\n",
       "\n",
       "Note that element :math:`C_{0,1}`, which shows the correlation between\n",
       ":math:`x_0` and :math:`x_1`, is negative.\n",
       "\n",
       "Further, note how `x` and `y` are combined:\n",
       "\n",
       ">>> x = [-2.1, -1,  4.3]\n",
       ">>> y = [3,  1.1,  0.12]\n",
       ">>> X = np.stack((x, y), axis=0)\n",
       ">>> np.cov(X)\n",
       "array([[11.71      , -4.286     ], # may vary\n",
       "       [-4.286     ,  2.144133]])\n",
       ">>> np.cov(x, y)\n",
       "array([[11.71      , -4.286     ], # may vary\n",
       "       [-4.286     ,  2.144133]])\n",
       ">>> np.cov(x)\n",
       "array(11.71)\n",
       "\u001b[1;31mFile:\u001b[0m      c:\\users\\zzh19\\anaconda3\\lib\\site-packages\\numpy\\lib\\function_base.py\n",
       "\u001b[1;31mType:\u001b[0m      function\n"
      ]
     },
     "metadata": {},
     "output_type": "display_data"
    }
   ],
   "source": [
    "?np.cov   #查看指令"
   ]
  },
  {
   "cell_type": "markdown",
   "metadata": {},
   "source": [
    "## 2 Correlation coefficient\n",
    "### 2.1. Pearson's r   "
   ]
  },
  {
   "cell_type": "code",
   "execution_count": 2,
   "metadata": {},
   "outputs": [
    {
     "data": {
      "image/png": "[encoded data removed]",
      "text/plain": [
       "<Figure size 432x288 with 1 Axes>"
      ]
     },
     "metadata": {},
     "output_type": "display_data"
    },
    {
     "name": "stdout",
     "output_type": "stream",
     "text": [
      "Pearson's correlation coefficient is:  0.7277471405370615 and the 2-tailed p-value is:  9.764291298148432e-18\n"
     ]
    }
   ],
   "source": [
    "import matplotlib.pyplot as plt\n",
    "from scipy.stats import linregress\n",
    "import scipy.stats as stats\n",
    "import numpy as np\n",
    "import matplotlib.pyplot as plt\n",
    "import seaborn as sns\n",
    "sns.set_style(\"darkgrid\")\n",
    "\n",
    "x =np.arange(0,10,0.1)\n",
    "# 设一个变量取用随机值来仿真数据\n",
    "# 如果加大仿真值的系数0.5到5，试试看结果。\n",
    "y =x + 0.5*np.random.normal(loc=0,scale=5,size=100)\n",
    "\n",
    "plt.plot(x,y,\"*\")\n",
    "plt.show()\n",
    "#scipy pearson r, and p values\n",
    "r,p=stats.pearsonr(x,y)\n",
    "print(\"Pearson's correlation coefficient is: \", r,  \"and the 2-tailed p-value is: \",p)\n",
    "\n",
    "### numpy correlation coefficients\n",
    "#r=np.corrcoef(x,y)\n",
    "#print(\"Pearson's correlation coefficient btw x and y is :\", r[0][1])\n",
    "\n"
   ]
  },
  {
   "cell_type": "markdown",
   "metadata": {},
   "source": [
    "###  2.2 spearman's $\\rho$, : for two ordinal variables, or  ratio/scale data of non-normal distribution"
   ]
  },
  {
   "cell_type": "code",
   "execution_count": 14,
   "metadata": {},
   "outputs": [
    {
     "name": "stdout",
     "output_type": "stream",
     "text": [
      "SpearmanrResult(correlation=0.1358295829582958, pvalue=0.17782803728611013)\n",
      "(0.12500584915771518, 0.2152679254988894)\n"
     ]
    }
   ],
   "source": [
    "import scipy.stats as stats\n",
    "import numpy as np\n",
    "np.random.seed(100)\n",
    "x =np.arange(0,10,0.1)\n",
    "y =x+10*stats.uniform.rvs(loc=0,scale=10,size=100)\n",
    "\n",
    "\n",
    "print(stats.spearmanr(x,y))\n",
    "print(stats.pearsonr(x,y))"
   ]
  },
  {
   "cell_type": "markdown",
   "metadata": {},
   "source": [
    "### 2.3. Kendall's $\\tau$: for two ordinal variables"
   ]
  },
  {
   "cell_type": "code",
   "execution_count": 15,
   "metadata": {},
   "outputs": [
    {
     "name": "stdout",
     "output_type": "stream",
     "text": [
      "KendalltauResult(correlation=0.2501851166488378, pvalue=0.3016793558075872)\n",
      "SpearmanrResult(correlation=0.3579915357347819, pvalue=0.27970362478978855)\n",
      "(0.37666305382827525, 0.25352957176912916)\n"
     ]
    }
   ],
   "source": [
    "x=np.array([7, 8, 4, 5.5, 4.5, 4, 5, 3, 2, 0.5, 1])\n",
    "y=np.array([4, 2, 5, 0.5, 1.5, 2, 0, 1, 0, 1.5, 0])\n",
    "\n",
    "print(stats.kendalltau(x,y))\n",
    "print(stats.spearmanr(x,y))\n",
    "print(stats.pearsonr(x,y))"
   ]
  },
  {
   "cell_type": "markdown",
   "metadata": {},
   "source": [
    "同样的数据，一般来说 Kendall的值会比Spearman算出来要小，Spearman 的数值幅度会大点，鲁棒性差点"
   ]
  },
  {
   "cell_type": "code",
   "execution_count": 4,
   "metadata": {},
   "outputs": [
    {
     "data": {
      "text/plain": [
       "\u001b[1;31mSignature:\u001b[0m\n",
       "\u001b[0mstats\u001b[0m\u001b[1;33m.\u001b[0m\u001b[0mkendalltau\u001b[0m\u001b[1;33m(\u001b[0m\u001b[1;33m\n",
       "\u001b[0m    \u001b[0mx\u001b[0m\u001b[1;33m,\u001b[0m\u001b[1;33m\n",
       "\u001b[0m    \u001b[0my\u001b[0m\u001b[1;33m,\u001b[0m\u001b[1;33m\n",
       "\u001b[0m    \u001b[0minitial_lexsort\u001b[0m\u001b[1;33m=\u001b[0m\u001b[1;32mNone\u001b[0m\u001b[1;33m,\u001b[0m\u001b[1;33m\n",
       "\u001b[0m    \u001b[0mnan_policy\u001b[0m\u001b[1;33m=\u001b[0m\u001b[1;34m'propagate'\u001b[0m\u001b[1;33m,\u001b[0m\u001b[1;33m\n",
       "\u001b[0m    \u001b[0mmethod\u001b[0m\u001b[1;33m=\u001b[0m\u001b[1;34m'auto'\u001b[0m\u001b[1;33m,\u001b[0m\u001b[1;33m\n",
       "\u001b[0m    \u001b[0mvariant\u001b[0m\u001b[1;33m=\u001b[0m\u001b[1;34m'b'\u001b[0m\u001b[1;33m,\u001b[0m\u001b[1;33m\n",
       "\u001b[0m\u001b[1;33m)\u001b[0m\u001b[1;33m\u001b[0m\u001b[1;33m\u001b[0m\u001b[0m\n",
       "\u001b[1;31mDocstring:\u001b[0m\n",
       "Calculate Kendall's tau, a correlation measure for ordinal data.\n",
       "\n",
       "Kendall's tau is a measure of the correspondence between two rankings.\n",
       "Values close to 1 indicate strong agreement, and values close to -1\n",
       "indicate strong disagreement. This implements two variants of Kendall's\n",
       "tau: tau-b (the default) and tau-c (also known as Stuart's tau-c). These\n",
       "differ only in how they are normalized to lie within the range -1 to 1;\n",
       "the hypothesis tests (their p-values) are identical. Kendall's original\n",
       "tau-a is not implemented separately because both tau-b and tau-c reduce\n",
       "to tau-a in the absence of ties.\n",
       "\n",
       "Parameters\n",
       "----------\n",
       "x, y : array_like\n",
       "    Arrays of rankings, of the same shape. If arrays are not 1-D, they\n",
       "    will be flattened to 1-D.\n",
       "initial_lexsort : bool, optional\n",
       "    Unused (deprecated).\n",
       "nan_policy : {'propagate', 'raise', 'omit'}, optional\n",
       "    Defines how to handle when input contains nan.\n",
       "    The following options are available (default is 'propagate'):\n",
       "\n",
       "      * 'propagate': returns nan\n",
       "      * 'raise': throws an error\n",
       "      * 'omit': performs the calculations ignoring nan values\n",
       "\n",
       "method : {'auto', 'asymptotic', 'exact'}, optional\n",
       "    Defines which method is used to calculate the p-value [5]_.\n",
       "    The following options are available (default is 'auto'):\n",
       "\n",
       "      * 'auto': selects the appropriate method based on a trade-off\n",
       "        between speed and accuracy\n",
       "      * 'asymptotic': uses a normal approximation valid for large samples\n",
       "      * 'exact': computes the exact p-value, but can only be used if no ties\n",
       "        are present. As the sample size increases, the 'exact' computation\n",
       "        time may grow and the result may lose some precision.\n",
       "\n",
       "variant: {'b', 'c'}, optional\n",
       "    Defines which variant of Kendall's tau is returned. Default is 'b'.\n",
       "\n",
       "Returns\n",
       "-------\n",
       "correlation : float\n",
       "   The tau statistic.\n",
       "pvalue : float\n",
       "   The two-sided p-value for a hypothesis test whose null hypothesis is\n",
       "   an absence of association, tau = 0.\n",
       "\n",
       "See Also\n",
       "--------\n",
       "spearmanr : Calculates a Spearman rank-order correlation coefficient.\n",
       "theilslopes : Computes the Theil-Sen estimator for a set of points (x, y).\n",
       "weightedtau : Computes a weighted version of Kendall's tau.\n",
       "\n",
       "Notes\n",
       "-----\n",
       "The definition of Kendall's tau that is used is [2]_::\n",
       "\n",
       "  tau_b = (P - Q) / sqrt((P + Q + T) * (P + Q + U))\n",
       "\n",
       "  tau_c = 2 (P - Q) / (n**2 * (m - 1) / m)\n",
       "\n",
       "where P is the number of concordant pairs, Q the number of discordant\n",
       "pairs, T the number of ties only in `x`, and U the number of ties only in\n",
       "`y`.  If a tie occurs for the same pair in both `x` and `y`, it is not\n",
       "added to either T or U. n is the total number of samples, and m is the\n",
       "number of unique values in either `x` or `y`, whichever is smaller.\n",
       "\n",
       "References\n",
       "----------\n",
       ".. [1] Maurice G. Kendall, \"A New Measure of Rank Correlation\", Biometrika\n",
       "       Vol. 30, No. 1/2, pp. 81-93, 1938.\n",
       ".. [2] Maurice G. Kendall, \"The treatment of ties in ranking problems\",\n",
       "       Biometrika Vol. 33, No. 3, pp. 239-251. 1945.\n",
       ".. [3] Gottfried E. Noether, \"Elements of Nonparametric Statistics\", John\n",
       "       Wiley & Sons, 1967.\n",
       ".. [4] Peter M. Fenwick, \"A new data structure for cumulative frequency\n",
       "       tables\", Software: Practice and Experience, Vol. 24, No. 3,\n",
       "       pp. 327-336, 1994.\n",
       ".. [5] Maurice G. Kendall, \"Rank Correlation Methods\" (4th Edition),\n",
       "       Charles Griffin & Co., 1970.\n",
       "\n",
       "Examples\n",
       "--------\n",
       ">>> from scipy import stats\n",
       ">>> x1 = [12, 2, 1, 12, 2]\n",
       ">>> x2 = [1, 4, 7, 1, 0]\n",
       ">>> tau, p_value = stats.kendalltau(x1, x2)\n",
       ">>> tau\n",
       "-0.47140452079103173\n",
       ">>> p_value\n",
       "0.2827454599327748\n",
       "\u001b[1;31mFile:\u001b[0m      c:\\users\\zzh19\\anaconda3\\lib\\site-packages\\scipy\\stats\\stats.py\n",
       "\u001b[1;31mType:\u001b[0m      function\n"
      ]
     },
     "metadata": {},
     "output_type": "display_data"
    }
   ],
   "source": [
    "?stats.kendalltau"
   ]
  },
  {
   "cell_type": "markdown",
   "metadata": {},
   "source": [
    "## 接下来，我们展示下如何对一组数据里的多个变量同时间进行两两相关系数计算\n",
    "\n",
    "### 用 pandas 的函数还计算 相关系数"
   ]
  },
  {
   "cell_type": "code",
   "execution_count": 16,
   "metadata": {},
   "outputs": [
    {
     "data": {
      "text/html": [
       "<div>\n",
       "<style scoped>\n",
       "    .dataframe tbody tr th:only-of-type {\n",
       "        vertical-align: middle;\n",
       "    }\n",
       "\n",
       "    .dataframe tbody tr th {\n",
       "        vertical-align: top;\n",
       "    }\n",
       "\n",
       "    .dataframe thead th {\n",
       "        text-align: right;\n",
       "    }\n",
       "</style>\n",
       "<table border=\"1\" class=\"dataframe\">\n",
       "  <thead>\n",
       "    <tr style=\"text-align: right;\">\n",
       "      <th></th>\n",
       "      <th>country</th>\n",
       "      <th>year</th>\n",
       "      <th>sex</th>\n",
       "      <th>age</th>\n",
       "      <th>suicides_no</th>\n",
       "      <th>population</th>\n",
       "      <th>suicides/100k pop</th>\n",
       "      <th>country-year</th>\n",
       "      <th>HDI for year</th>\n",
       "      <th>gdp_for_year ($)</th>\n",
       "      <th>gdp_per_capita ($)</th>\n",
       "      <th>generation</th>\n",
       "    </tr>\n",
       "  </thead>\n",
       "  <tbody>\n",
       "    <tr>\n",
       "      <th>0</th>\n",
       "      <td>Albania</td>\n",
       "      <td>1987</td>\n",
       "      <td>male</td>\n",
       "      <td>15-24 years</td>\n",
       "      <td>21</td>\n",
       "      <td>312900</td>\n",
       "      <td>6.71</td>\n",
       "      <td>Albania1987</td>\n",
       "      <td>NaN</td>\n",
       "      <td>2,156,624,900</td>\n",
       "      <td>796</td>\n",
       "      <td>Generation X</td>\n",
       "    </tr>\n",
       "    <tr>\n",
       "      <th>1</th>\n",
       "      <td>Albania</td>\n",
       "      <td>1987</td>\n",
       "      <td>male</td>\n",
       "      <td>35-54 years</td>\n",
       "      <td>16</td>\n",
       "      <td>308000</td>\n",
       "      <td>5.19</td>\n",
       "      <td>Albania1987</td>\n",
       "      <td>NaN</td>\n",
       "      <td>2,156,624,900</td>\n",
       "      <td>796</td>\n",
       "      <td>Silent</td>\n",
       "    </tr>\n",
       "    <tr>\n",
       "      <th>2</th>\n",
       "      <td>Albania</td>\n",
       "      <td>1987</td>\n",
       "      <td>female</td>\n",
       "      <td>15-24 years</td>\n",
       "      <td>14</td>\n",
       "      <td>289700</td>\n",
       "      <td>4.83</td>\n",
       "      <td>Albania1987</td>\n",
       "      <td>NaN</td>\n",
       "      <td>2,156,624,900</td>\n",
       "      <td>796</td>\n",
       "      <td>Generation X</td>\n",
       "    </tr>\n",
       "    <tr>\n",
       "      <th>3</th>\n",
       "      <td>Albania</td>\n",
       "      <td>1987</td>\n",
       "      <td>male</td>\n",
       "      <td>75+ years</td>\n",
       "      <td>1</td>\n",
       "      <td>21800</td>\n",
       "      <td>4.59</td>\n",
       "      <td>Albania1987</td>\n",
       "      <td>NaN</td>\n",
       "      <td>2,156,624,900</td>\n",
       "      <td>796</td>\n",
       "      <td>G.I. Generation</td>\n",
       "    </tr>\n",
       "    <tr>\n",
       "      <th>4</th>\n",
       "      <td>Albania</td>\n",
       "      <td>1987</td>\n",
       "      <td>male</td>\n",
       "      <td>25-34 years</td>\n",
       "      <td>9</td>\n",
       "      <td>274300</td>\n",
       "      <td>3.28</td>\n",
       "      <td>Albania1987</td>\n",
       "      <td>NaN</td>\n",
       "      <td>2,156,624,900</td>\n",
       "      <td>796</td>\n",
       "      <td>Boomers</td>\n",
       "    </tr>\n",
       "  </tbody>\n",
       "</table>\n",
       "</div>"
      ],
      "text/plain": [
       "   country  year     sex          age  suicides_no  population  \\\n",
       "0  Albania  1987    male  15-24 years           21      312900   \n",
       "1  Albania  1987    male  35-54 years           16      308000   \n",
       "2  Albania  1987  female  15-24 years           14      289700   \n",
       "3  Albania  1987    male    75+ years            1       21800   \n",
       "4  Albania  1987    male  25-34 years            9      274300   \n",
       "\n",
       "   suicides/100k pop country-year  HDI for year  gdp_for_year ($)   \\\n",
       "0               6.71  Albania1987           NaN      2,156,624,900   \n",
       "1               5.19  Albania1987           NaN      2,156,624,900   \n",
       "2               4.83  Albania1987           NaN      2,156,624,900   \n",
       "3               4.59  Albania1987           NaN      2,156,624,900   \n",
       "4               3.28  Albania1987           NaN      2,156,624,900   \n",
       "\n",
       "   gdp_per_capita ($)       generation  \n",
       "0                 796     Generation X  \n",
       "1                 796           Silent  \n",
       "2                 796     Generation X  \n",
       "3                 796  G.I. Generation  \n",
       "4                 796          Boomers  "
      ]
     },
     "execution_count": 16,
     "metadata": {},
     "output_type": "execute_result"
    }
   ],
   "source": [
    "import numpy as np\n",
    "import pandas as pd\n",
    "\n",
    "SuicideRate = pd.read_csv(\"Data_suicide-rates-overview-1985-to-2016.csv\")\n",
    "SuicideRate.head()"
   ]
  },
  {
   "cell_type": "markdown",
   "metadata": {},
   "source": [
    "#### 每列均为一个变量，我们来计算每两列之间的相关系数"
   ]
  },
  {
   "cell_type": "code",
   "execution_count": 6,
   "metadata": {},
   "outputs": [
    {
     "data": {
      "text/html": [
       "<div>\n",
       "<style scoped>\n",
       "    .dataframe tbody tr th:only-of-type {\n",
       "        vertical-align: middle;\n",
       "    }\n",
       "\n",
       "    .dataframe tbody tr th {\n",
       "        vertical-align: top;\n",
       "    }\n",
       "\n",
       "    .dataframe thead th {\n",
       "        text-align: right;\n",
       "    }\n",
       "</style>\n",
       "<table border=\"1\" class=\"dataframe\">\n",
       "  <thead>\n",
       "    <tr style=\"text-align: right;\">\n",
       "      <th></th>\n",
       "      <th>year</th>\n",
       "      <th>suicides_no</th>\n",
       "      <th>population</th>\n",
       "      <th>suicides/100k pop</th>\n",
       "      <th>HDI for year</th>\n",
       "      <th>gdp_per_capita ($)</th>\n",
       "    </tr>\n",
       "  </thead>\n",
       "  <tbody>\n",
       "    <tr>\n",
       "      <th>year</th>\n",
       "      <td>1.000000</td>\n",
       "      <td>-0.004546</td>\n",
       "      <td>0.008850</td>\n",
       "      <td>-0.039037</td>\n",
       "      <td>0.366786</td>\n",
       "      <td>0.339134</td>\n",
       "    </tr>\n",
       "    <tr>\n",
       "      <th>suicides_no</th>\n",
       "      <td>-0.004546</td>\n",
       "      <td>1.000000</td>\n",
       "      <td>0.616162</td>\n",
       "      <td>0.306604</td>\n",
       "      <td>0.151399</td>\n",
       "      <td>0.061330</td>\n",
       "    </tr>\n",
       "    <tr>\n",
       "      <th>population</th>\n",
       "      <td>0.008850</td>\n",
       "      <td>0.616162</td>\n",
       "      <td>1.000000</td>\n",
       "      <td>0.008285</td>\n",
       "      <td>0.102943</td>\n",
       "      <td>0.081510</td>\n",
       "    </tr>\n",
       "    <tr>\n",
       "      <th>suicides/100k pop</th>\n",
       "      <td>-0.039037</td>\n",
       "      <td>0.306604</td>\n",
       "      <td>0.008285</td>\n",
       "      <td>1.000000</td>\n",
       "      <td>0.074279</td>\n",
       "      <td>0.001785</td>\n",
       "    </tr>\n",
       "    <tr>\n",
       "      <th>HDI for year</th>\n",
       "      <td>0.366786</td>\n",
       "      <td>0.151399</td>\n",
       "      <td>0.102943</td>\n",
       "      <td>0.074279</td>\n",
       "      <td>1.000000</td>\n",
       "      <td>0.771228</td>\n",
       "    </tr>\n",
       "    <tr>\n",
       "      <th>gdp_per_capita ($)</th>\n",
       "      <td>0.339134</td>\n",
       "      <td>0.061330</td>\n",
       "      <td>0.081510</td>\n",
       "      <td>0.001785</td>\n",
       "      <td>0.771228</td>\n",
       "      <td>1.000000</td>\n",
       "    </tr>\n",
       "  </tbody>\n",
       "</table>\n",
       "</div>"
      ],
      "text/plain": [
       "                        year  suicides_no  population  suicides/100k pop  \\\n",
       "year                1.000000    -0.004546    0.008850          -0.039037   \n",
       "suicides_no        -0.004546     1.000000    0.616162           0.306604   \n",
       "population          0.008850     0.616162    1.000000           0.008285   \n",
       "suicides/100k pop  -0.039037     0.306604    0.008285           1.000000   \n",
       "HDI for year        0.366786     0.151399    0.102943           0.074279   \n",
       "gdp_per_capita ($)  0.339134     0.061330    0.081510           0.001785   \n",
       "\n",
       "                    HDI for year  gdp_per_capita ($)  \n",
       "year                    0.366786            0.339134  \n",
       "suicides_no             0.151399            0.061330  \n",
       "population              0.102943            0.081510  \n",
       "suicides/100k pop       0.074279            0.001785  \n",
       "HDI for year            1.000000            0.771228  \n",
       "gdp_per_capita ($)      0.771228            1.000000  "
      ]
     },
     "execution_count": 6,
     "metadata": {},
     "output_type": "execute_result"
    }
   ],
   "source": [
    "pearsoncorr = SuicideRate.corr(method='pearson')\n",
    "pearsoncorr"
   ]
  },
  {
   "cell_type": "markdown",
   "metadata": {},
   "source": [
    "我们用heatmap（热图）来展示相关系数，方便查看结果"
   ]
  },
  {
   "cell_type": "code",
   "execution_count": 7,
   "metadata": {},
   "outputs": [
    {
     "data": {
      "text/plain": [
       "<AxesSubplot:>"
      ]
     },
     "execution_count": 7,
     "metadata": {},
     "output_type": "execute_result"
    },
    {
     "data": {
      "image/png": "[encoded data removed]",
      "text/plain": [
       "<Figure size 432x288 with 2 Axes>"
      ]
     },
     "metadata": {},
     "output_type": "display_data"
    }
   ],
   "source": [
    "import seaborn as sb\n",
    "\n",
    "sb.heatmap(pearsoncorr, \n",
    "            xticklabels=pearsoncorr.columns,\n",
    "            yticklabels=pearsoncorr.columns,\n",
    "            cmap='RdBu_r',\n",
    "            annot=True,\n",
    "            linewidth=0.5)"
   ]
  },
  {
   "cell_type": "markdown",
   "metadata": {},
   "source": [
    "结果解释：\n",
    "系数越接近1越表示两个变量之间存在非常强的正相关性。\n",
    "\n",
    "在我们的案例中，栗色显示出非常强的相关性。对角线是变量与它们自身的相关性，因此它们显然为1。\n",
    "\n",
    "看这个图，我们可以很快看到：\n",
    "* 人类发展指数（HDI）与人均GDP高度相关。\n",
    "* 人口与自杀人数也有很强的相关性。这是我们所期望的吗？人口众多将导致自杀人数增加，反之亦然。"
   ]
  },
  {
   "cell_type": "markdown",
   "metadata": {},
   "source": [
    "### 我们也可以在 pandas.DataFram.corr 里改成用其它的相关系数计算"
   ]
  },
  {
   "cell_type": "code",
   "execution_count": 17,
   "metadata": {},
   "outputs": [
    {
     "data": {
      "text/html": [
       "<div>\n",
       "<style scoped>\n",
       "    .dataframe tbody tr th:only-of-type {\n",
       "        vertical-align: middle;\n",
       "    }\n",
       "\n",
       "    .dataframe tbody tr th {\n",
       "        vertical-align: top;\n",
       "    }\n",
       "\n",
       "    .dataframe thead th {\n",
       "        text-align: right;\n",
       "    }\n",
       "</style>\n",
       "<table border=\"1\" class=\"dataframe\">\n",
       "  <thead>\n",
       "    <tr style=\"text-align: right;\">\n",
       "      <th></th>\n",
       "      <th>year</th>\n",
       "      <th>suicides_no</th>\n",
       "      <th>population</th>\n",
       "      <th>suicides/100k pop</th>\n",
       "      <th>HDI for year</th>\n",
       "      <th>gdp_per_capita ($)</th>\n",
       "    </tr>\n",
       "  </thead>\n",
       "  <tbody>\n",
       "    <tr>\n",
       "      <th>year</th>\n",
       "      <td>1.000000</td>\n",
       "      <td>-0.004146</td>\n",
       "      <td>0.014215</td>\n",
       "      <td>-0.029178</td>\n",
       "      <td>0.329094</td>\n",
       "      <td>0.349895</td>\n",
       "    </tr>\n",
       "    <tr>\n",
       "      <th>suicides_no</th>\n",
       "      <td>-0.004146</td>\n",
       "      <td>1.000000</td>\n",
       "      <td>0.775580</td>\n",
       "      <td>0.724183</td>\n",
       "      <td>0.184755</td>\n",
       "      <td>0.100735</td>\n",
       "    </tr>\n",
       "    <tr>\n",
       "      <th>population</th>\n",
       "      <td>0.014215</td>\n",
       "      <td>0.775580</td>\n",
       "      <td>1.000000</td>\n",
       "      <td>0.215128</td>\n",
       "      <td>0.133076</td>\n",
       "      <td>0.070745</td>\n",
       "    </tr>\n",
       "    <tr>\n",
       "      <th>suicides/100k pop</th>\n",
       "      <td>-0.029178</td>\n",
       "      <td>0.724183</td>\n",
       "      <td>0.215128</td>\n",
       "      <td>1.000000</td>\n",
       "      <td>0.152627</td>\n",
       "      <td>0.073063</td>\n",
       "    </tr>\n",
       "    <tr>\n",
       "      <th>HDI for year</th>\n",
       "      <td>0.329094</td>\n",
       "      <td>0.184755</td>\n",
       "      <td>0.133076</td>\n",
       "      <td>0.152627</td>\n",
       "      <td>1.000000</td>\n",
       "      <td>0.928608</td>\n",
       "    </tr>\n",
       "    <tr>\n",
       "      <th>gdp_per_capita ($)</th>\n",
       "      <td>0.349895</td>\n",
       "      <td>0.100735</td>\n",
       "      <td>0.070745</td>\n",
       "      <td>0.073063</td>\n",
       "      <td>0.928608</td>\n",
       "      <td>1.000000</td>\n",
       "    </tr>\n",
       "  </tbody>\n",
       "</table>\n",
       "</div>"
      ],
      "text/plain": [
       "                        year  suicides_no  population  suicides/100k pop  \\\n",
       "year                1.000000    -0.004146    0.014215          -0.029178   \n",
       "suicides_no        -0.004146     1.000000    0.775580           0.724183   \n",
       "population          0.014215     0.775580    1.000000           0.215128   \n",
       "suicides/100k pop  -0.029178     0.724183    0.215128           1.000000   \n",
       "HDI for year        0.329094     0.184755    0.133076           0.152627   \n",
       "gdp_per_capita ($)  0.349895     0.100735    0.070745           0.073063   \n",
       "\n",
       "                    HDI for year  gdp_per_capita ($)  \n",
       "year                    0.329094            0.349895  \n",
       "suicides_no             0.184755            0.100735  \n",
       "population              0.133076            0.070745  \n",
       "suicides/100k pop       0.152627            0.073063  \n",
       "HDI for year            1.000000            0.928608  \n",
       "gdp_per_capita ($)      0.928608            1.000000  "
      ]
     },
     "execution_count": 17,
     "metadata": {},
     "output_type": "execute_result"
    }
   ],
   "source": [
    "spearmancorr = SuicideRate.corr(method='spearman')\n",
    "spearmancorr"
   ]
  },
  {
   "cell_type": "code",
   "execution_count": 9,
   "metadata": {},
   "outputs": [
    {
     "data": {
      "text/html": [
       "<div>\n",
       "<style scoped>\n",
       "    .dataframe tbody tr th:only-of-type {\n",
       "        vertical-align: middle;\n",
       "    }\n",
       "\n",
       "    .dataframe tbody tr th {\n",
       "        vertical-align: top;\n",
       "    }\n",
       "\n",
       "    .dataframe thead th {\n",
       "        text-align: right;\n",
       "    }\n",
       "</style>\n",
       "<table border=\"1\" class=\"dataframe\">\n",
       "  <thead>\n",
       "    <tr style=\"text-align: right;\">\n",
       "      <th></th>\n",
       "      <th>year</th>\n",
       "      <th>suicides_no</th>\n",
       "      <th>population</th>\n",
       "      <th>suicides/100k pop</th>\n",
       "      <th>HDI for year</th>\n",
       "      <th>gdp_per_capita ($)</th>\n",
       "    </tr>\n",
       "  </thead>\n",
       "  <tbody>\n",
       "    <tr>\n",
       "      <th>year</th>\n",
       "      <td>1.000000</td>\n",
       "      <td>-0.002866</td>\n",
       "      <td>0.009748</td>\n",
       "      <td>-0.019777</td>\n",
       "      <td>0.234793</td>\n",
       "      <td>0.240563</td>\n",
       "    </tr>\n",
       "    <tr>\n",
       "      <th>suicides_no</th>\n",
       "      <td>-0.002866</td>\n",
       "      <td>1.000000</td>\n",
       "      <td>0.590450</td>\n",
       "      <td>0.550809</td>\n",
       "      <td>0.121828</td>\n",
       "      <td>0.067134</td>\n",
       "    </tr>\n",
       "    <tr>\n",
       "      <th>population</th>\n",
       "      <td>0.009748</td>\n",
       "      <td>0.590450</td>\n",
       "      <td>1.000000</td>\n",
       "      <td>0.141212</td>\n",
       "      <td>0.090117</td>\n",
       "      <td>0.047260</td>\n",
       "    </tr>\n",
       "    <tr>\n",
       "      <th>suicides/100k pop</th>\n",
       "      <td>-0.019777</td>\n",
       "      <td>0.550809</td>\n",
       "      <td>0.141212</td>\n",
       "      <td>1.000000</td>\n",
       "      <td>0.099305</td>\n",
       "      <td>0.047641</td>\n",
       "    </tr>\n",
       "    <tr>\n",
       "      <th>HDI for year</th>\n",
       "      <td>0.234793</td>\n",
       "      <td>0.121828</td>\n",
       "      <td>0.090117</td>\n",
       "      <td>0.099305</td>\n",
       "      <td>1.000000</td>\n",
       "      <td>0.762445</td>\n",
       "    </tr>\n",
       "    <tr>\n",
       "      <th>gdp_per_capita ($)</th>\n",
       "      <td>0.240563</td>\n",
       "      <td>0.067134</td>\n",
       "      <td>0.047260</td>\n",
       "      <td>0.047641</td>\n",
       "      <td>0.762445</td>\n",
       "      <td>1.000000</td>\n",
       "    </tr>\n",
       "  </tbody>\n",
       "</table>\n",
       "</div>"
      ],
      "text/plain": [
       "                        year  suicides_no  population  suicides/100k pop  \\\n",
       "year                1.000000    -0.002866    0.009748          -0.019777   \n",
       "suicides_no        -0.002866     1.000000    0.590450           0.550809   \n",
       "population          0.009748     0.590450    1.000000           0.141212   \n",
       "suicides/100k pop  -0.019777     0.550809    0.141212           1.000000   \n",
       "HDI for year        0.234793     0.121828    0.090117           0.099305   \n",
       "gdp_per_capita ($)  0.240563     0.067134    0.047260           0.047641   \n",
       "\n",
       "                    HDI for year  gdp_per_capita ($)  \n",
       "year                    0.234793            0.240563  \n",
       "suicides_no             0.121828            0.067134  \n",
       "population              0.090117            0.047260  \n",
       "suicides/100k pop       0.099305            0.047641  \n",
       "HDI for year            1.000000            0.762445  \n",
       "gdp_per_capita ($)      0.762445            1.000000  "
      ]
     },
     "execution_count": 9,
     "metadata": {},
     "output_type": "execute_result"
    }
   ],
   "source": [
    "kendallcorr = SuicideRate.corr(method='kendall')\n",
    "kendallcorr"
   ]
  },
  {
   "cell_type": "code",
   "execution_count": null,
   "metadata": {},
   "outputs": [],
   "source": []
  },
  {
   "cell_type": "markdown",
   "metadata": {},
   "source": [
    "\n",
    "## 3 linear regression 线性回归\n",
    "\n"
   ]
  },
  {
   "cell_type": "markdown",
   "metadata": {},
   "source": [
    "### 3.1. scipy.stats.linregress 函数， \n",
    "slope : slope of the regression line <br>\n",
    "intercept : intercept of the regression line <br>\n",
    "r-value : correlation coefficient<br>\n",
    "p-value : two-sided p-value for a hypothesis test whose null hypothesis is that the slope is zero<br>\n",
    "stderr : Standard error of the estimate<br>"
   ]
  },
  {
   "cell_type": "code",
   "execution_count": 4,
   "metadata": {},
   "outputs": [
    {
     "name": "stdout",
     "output_type": "stream",
     "text": [
      "slope斜率= 0.8842432455669179 \n",
      "intercept截距= 0.988920635501537 \n",
      "r-value相关系数= 0.705668584083345 \n",
      "p-value检验相关系数是否显著= 2.444416244105182e-16 \n",
      "standard error of the estimate斜率参数的标准误差= 0.08968577491436196\n",
      "The 0.95 CI of the slope s is 斜率参数的置信区间( 0.7084591267347685 ,  1.0600273643990674 )\n",
      "The (r,p) by stats.pearsonr (0.7056685840833448, 2.4444162441052974e-16)\n"
     ]
    },
    {
     "data": {
      "image/png": "[encoded data removed]",
      "text/plain": [
       "<Figure size 432x288 with 1 Axes>"
      ]
     },
     "metadata": {},
     "output_type": "display_data"
    }
   ],
   "source": [
    "import numpy as np\n",
    "from scipy.stats import linregress\n",
    "import matplotlib.pyplot as plt\n",
    "import seaborn as sns\n",
    "sns.set_style(\"darkgrid\")\n",
    "np.random.seed(101)\n",
    "x =np.arange(0,10,0.1)\n",
    "y =x+0.5*np.random.normal(loc=0,scale=5,size=100)\n",
    "plt.plot(x,y,\"*\")\n",
    "\n",
    "s,itc,r,p,se=linregress(x,y)\n",
    "y_reg=itc+s*x\n",
    "\n",
    "plt.plot(x,y_reg,linewidth=2,linestyle=\"dashed\",color=\"red\")\n",
    "print(\"slope斜率=\",s,\"\\nintercept截距=\",itc,\"\\nr-value相关系数=\",r,\"\\np-value检验相关系数是否显著=\",p,\n",
    "      \"\\nstandard error of the estimate斜率参数的标准误差=\",se)\n",
    "\n",
    "print(\"The 0.95 CI of the slope s is 斜率参数的置信区间(\",s-1.96*se, \", \", s+1.96*se,\")\")\n",
    "\n",
    "print(\"The (r,p) by stats.pearsonr\", stats.pearsonr(x,y))"
   ]
  },
  {
   "cell_type": "markdown",
   "metadata": {},
   "source": [
    "### 4.1 plot the regression line, and the CI  -- seaborn.lmplot()\n",
    "画线性模型的 plot "
   ]
  },
  {
   "cell_type": "code",
   "execution_count": 11,
   "metadata": {},
   "outputs": [
    {
     "data": {
      "text/plain": [
       "<seaborn.axisgrid.FacetGrid at 0x292f74eb4c0>"
      ]
     },
     "execution_count": 11,
     "metadata": {},
     "output_type": "execute_result"
    },
    {
     "data": {
      "image/png": "[encoded data removed]",
      "text/plain": [
       "<Figure size 360x360 with 1 Axes>"
      ]
     },
     "metadata": {},
     "output_type": "display_data"
    }
   ],
   "source": [
    "import seaborn as sns\n",
    "import pandas as pd\n",
    "sns.set_style(\"darkgrid\")\n",
    "np.random.seed(101)\n",
    "x =np.arange(0,10,0.1)\n",
    "y =x+0.5*np.random.normal(loc=0,scale=5,size=100)\n",
    "\n",
    "data=pd.DataFrame({\"x\":x,\"y\":y})\n",
    "# 使用 lmplot 可以把两个变量之间的相关性在一张图里画出来，包括了线性回归数值的置信区间（红色区域）\n",
    "sns.lmplot(x=\"x\", y=\"y\",data=data,ci=95, line_kws={'color': 'red',\"alpha\":1})"
   ]
  },
  {
   "cell_type": "markdown",
   "metadata": {},
   "source": [
    "### 4.2. seaborn.regplot()"
   ]
  },
  {
   "cell_type": "code",
   "execution_count": 12,
   "metadata": {
    "scrolled": true
   },
   "outputs": [
    {
     "data": {
      "text/plain": [
       "<AxesSubplot:xlabel='x', ylabel='y'>"
      ]
     },
     "execution_count": 12,
     "metadata": {},
     "output_type": "execute_result"
    },
    {
     "data": {
      "image/png": "[encoded data removed]",
      "text/plain": [
       "<Figure size 432x288 with 1 Axes>"
      ]
     },
     "metadata": {},
     "output_type": "display_data"
    }
   ],
   "source": [
    "## or using seaborn.regplot，也可以画出置信区间\n",
    "sns.regplot(x=\"x\", y=\"y\",data=data,ci=95)"
   ]
  },
  {
   "cell_type": "code",
   "execution_count": null,
   "metadata": {},
   "outputs": [],
   "source": []
  },
  {
   "cell_type": "markdown",
   "metadata": {},
   "source": [
    "\n",
    "## 我们现在来看下怎么用 statsmodels的工具来调用线性回归的函数\n",
    "\n",
    "## 5. Simple and Multiple Regression with statsmodels.api\n",
    "\n",
    "要调用里面有个叫“OLS”，就是 ordinary least square（普通最小二乘法）。\n"
   ]
  },
  {
   "cell_type": "code",
   "execution_count": 13,
   "metadata": {},
   "outputs": [
    {
     "data": {
      "text/html": [
       "<table class=\"simpletable\">\n",
       "<caption>OLS Regression Results</caption>\n",
       "<tr>\n",
       "  <th>Dep. Variable:</th>            <td>y</td>        <th>  R-squared:         </th> <td>   0.498</td>\n",
       "</tr>\n",
       "<tr>\n",
       "  <th>Model:</th>                   <td>OLS</td>       <th>  Adj. R-squared:    </th> <td>   0.493</td>\n",
       "</tr>\n",
       "<tr>\n",
       "  <th>Method:</th>             <td>Least Squares</td>  <th>  F-statistic:       </th> <td>   97.21</td>\n",
       "</tr>\n",
       "<tr>\n",
       "  <th>Date:</th>             <td>Wed, 18 May 2022</td> <th>  Prob (F-statistic):</th> <td>2.44e-16</td>\n",
       "</tr>\n",
       "<tr>\n",
       "  <th>Time:</th>                 <td>00:03:53</td>     <th>  Log-Likelihood:    </th> <td> -236.01</td>\n",
       "</tr>\n",
       "<tr>\n",
       "  <th>No. Observations:</th>      <td>   100</td>      <th>  AIC:               </th> <td>   476.0</td>\n",
       "</tr>\n",
       "<tr>\n",
       "  <th>Df Residuals:</th>          <td>    98</td>      <th>  BIC:               </th> <td>   481.2</td>\n",
       "</tr>\n",
       "<tr>\n",
       "  <th>Df Model:</th>              <td>     1</td>      <th>                     </th>     <td> </td>   \n",
       "</tr>\n",
       "<tr>\n",
       "  <th>Covariance Type:</th>      <td>nonrobust</td>    <th>                     </th>     <td> </td>   \n",
       "</tr>\n",
       "</table>\n",
       "<table class=\"simpletable\">\n",
       "<tr>\n",
       "    <td></td>       <th>coef</th>     <th>std err</th>      <th>t</th>      <th>P>|t|</th>  <th>[0.025</th>    <th>0.975]</th>  \n",
       "</tr>\n",
       "<tr>\n",
       "  <th>const</th> <td>    0.9889</td> <td>    0.514</td> <td>    1.924</td> <td> 0.057</td> <td>   -0.031</td> <td>    2.009</td>\n",
       "</tr>\n",
       "<tr>\n",
       "  <th>x1</th>    <td>    0.8842</td> <td>    0.090</td> <td>    9.859</td> <td> 0.000</td> <td>    0.706</td> <td>    1.062</td>\n",
       "</tr>\n",
       "</table>\n",
       "<table class=\"simpletable\">\n",
       "<tr>\n",
       "  <th>Omnibus:</th>       <td> 0.889</td> <th>  Durbin-Watson:     </th> <td>   2.154</td>\n",
       "</tr>\n",
       "<tr>\n",
       "  <th>Prob(Omnibus):</th> <td> 0.641</td> <th>  Jarque-Bera (JB):  </th> <td>   0.974</td>\n",
       "</tr>\n",
       "<tr>\n",
       "  <th>Skew:</th>          <td> 0.141</td> <th>  Prob(JB):          </th> <td>   0.615</td>\n",
       "</tr>\n",
       "<tr>\n",
       "  <th>Kurtosis:</th>      <td> 2.608</td> <th>  Cond. No.          </th> <td>    11.6</td>\n",
       "</tr>\n",
       "</table><br/><br/>Notes:<br/>[1] Standard Errors assume that the covariance matrix of the errors is correctly specified."
      ],
      "text/plain": [
       "<class 'statsmodels.iolib.summary.Summary'>\n",
       "\"\"\"\n",
       "                            OLS Regression Results                            \n",
       "==============================================================================\n",
       "Dep. Variable:                      y   R-squared:                       0.498\n",
       "Model:                            OLS   Adj. R-squared:                  0.493\n",
       "Method:                 Least Squares   F-statistic:                     97.21\n",
       "Date:                Wed, 18 May 2022   Prob (F-statistic):           2.44e-16\n",
       "Time:                        00:03:53   Log-Likelihood:                -236.01\n",
       "No. Observations:                 100   AIC:                             476.0\n",
       "Df Residuals:                      98   BIC:                             481.2\n",
       "Df Model:                           1                                         \n",
       "Covariance Type:            nonrobust                                         \n",
       "==============================================================================\n",
       "                 coef    std err          t      P>|t|      [0.025      0.975]\n",
       "------------------------------------------------------------------------------\n",
       "const          0.9889      0.514      1.924      0.057      -0.031       2.009\n",
       "x1             0.8842      0.090      9.859      0.000       0.706       1.062\n",
       "==============================================================================\n",
       "Omnibus:                        0.889   Durbin-Watson:                   2.154\n",
       "Prob(Omnibus):                  0.641   Jarque-Bera (JB):                0.974\n",
       "Skew:                           0.141   Prob(JB):                        0.615\n",
       "Kurtosis:                       2.608   Cond. No.                         11.6\n",
       "==============================================================================\n",
       "\n",
       "Notes:\n",
       "[1] Standard Errors assume that the covariance matrix of the errors is correctly specified.\n",
       "\"\"\""
      ]
     },
     "execution_count": 13,
     "metadata": {},
     "output_type": "execute_result"
    }
   ],
   "source": [
    "import statsmodels.api as sm\n",
    "np.random.seed(101)\n",
    "x =np.arange(0,10,0.1) # 输入为 x 变量\n",
    "y =x+0.5*np.random.normal(loc=0,scale=5,size=100) # y 作为输出，回归模型\n",
    "X = sm.add_constant(x) ## let's add an intercept (beta_0) to our model 需要加个常数\n",
    "\n",
    "# Note the difference in argument order\n",
    "model = sm.OLS(y, X).fit() ## sm.OLS(output, input)， 需要调用它的一个函数叫 fit 去拟合数据\n",
    "\n",
    "# Print out the statistics\n",
    "model.summary()"
   ]
  },
  {
   "cell_type": "code",
   "execution_count": 14,
   "metadata": {},
   "outputs": [
    {
     "data": {
      "text/plain": [
       "array([0.98892064, 1.07734496, 1.16576928, 1.25419361, 1.34261793,\n",
       "       1.43104226, 1.51946658, 1.60789091, 1.69631523, 1.78473956,\n",
       "       1.87316388, 1.96158821, 2.05001253, 2.13843685, 2.22686118,\n",
       "       2.3152855 , 2.40370983, 2.49213415, 2.58055848, 2.6689828 ,\n",
       "       2.75740713, 2.84583145, 2.93425578, 3.0226801 , 3.11110442,\n",
       "       3.19952875, 3.28795307, 3.3763774 , 3.46480172, 3.55322605,\n",
       "       3.64165037, 3.7300747 , 3.81849902, 3.90692335, 3.99534767,\n",
       "       4.08377199, 4.17219632, 4.26062064, 4.34904497, 4.43746929,\n",
       "       4.52589362, 4.61431794, 4.70274227, 4.79116659, 4.87959092,\n",
       "       4.96801524, 5.05643957, 5.14486389, 5.23328821, 5.32171254,\n",
       "       5.41013686, 5.49856119, 5.58698551, 5.67540984, 5.76383416,\n",
       "       5.85225849, 5.94068281, 6.02910714, 6.11753146, 6.20595578,\n",
       "       6.29438011, 6.38280443, 6.47122876, 6.55965308, 6.64807741,\n",
       "       6.73650173, 6.82492606, 6.91335038, 7.00177471, 7.09019903,\n",
       "       7.17862335, 7.26704768, 7.355472  , 7.44389633, 7.53232065,\n",
       "       7.62074498, 7.7091693 , 7.79759363, 7.88601795, 7.97444228,\n",
       "       8.0628666 , 8.15129092, 8.23971525, 8.32813957, 8.4165639 ,\n",
       "       8.50498822, 8.59341255, 8.68183687, 8.7702612 , 8.85868552,\n",
       "       8.94710985, 9.03553417, 9.12395849, 9.21238282, 9.30080714,\n",
       "       9.38923147, 9.47765579, 9.56608012, 9.65450444, 9.74292877])"
      ]
     },
     "execution_count": 14,
     "metadata": {},
     "output_type": "execute_result"
    }
   ],
   "source": [
    "predictions = model.predict(X) # 可以让函数做下预测，输出值\n",
    "predictions"
   ]
  },
  {
   "cell_type": "code",
   "execution_count": 15,
   "metadata": {},
   "outputs": [
    {
     "data": {
      "text/plain": [
       "<statsmodels.regression.linear_model.RegressionResultsWrapper at 0x292f789c8b0>"
      ]
     },
     "execution_count": 15,
     "metadata": {},
     "output_type": "execute_result"
    }
   ],
   "source": [
    "model"
   ]
  },
  {
   "cell_type": "markdown",
   "metadata": {},
   "source": [
    "### 我们再来看一个更加方便的函数，formula.api，\n",
    "####  More conveniently , we can use statsmodels.formula.api.ols\n",
    "可以直接输入公式模式，不需要再额外定义常数，constant"
   ]
  },
  {
   "cell_type": "code",
   "execution_count": 16,
   "metadata": {},
   "outputs": [
    {
     "name": "stdout",
     "output_type": "stream",
     "text": [
      "Intercept    0.988921\n",
      "x            0.884243\n",
      "dtype: float64\n",
      "                            OLS Regression Results                            \n",
      "==============================================================================\n",
      "Dep. Variable:                      y   R-squared:                       0.498\n",
      "Model:                            OLS   Adj. R-squared:                  0.493\n",
      "Method:                 Least Squares   F-statistic:                     97.21\n",
      "Date:                Wed, 18 May 2022   Prob (F-statistic):           2.44e-16\n",
      "Time:                        00:04:00   Log-Likelihood:                -236.01\n",
      "No. Observations:                 100   AIC:                             476.0\n",
      "Df Residuals:                      98   BIC:                             481.2\n",
      "Df Model:                           1                                         \n",
      "Covariance Type:            nonrobust                                         \n",
      "==============================================================================\n",
      "                 coef    std err          t      P>|t|      [0.025      0.975]\n",
      "------------------------------------------------------------------------------\n",
      "Intercept      0.9889      0.514      1.924      0.057      -0.031       2.009\n",
      "x              0.8842      0.090      9.859      0.000       0.706       1.062\n",
      "==============================================================================\n",
      "Omnibus:                        0.889   Durbin-Watson:                   2.154\n",
      "Prob(Omnibus):                  0.641   Jarque-Bera (JB):                0.974\n",
      "Skew:                           0.141   Prob(JB):                        0.615\n",
      "Kurtosis:                       2.608   Cond. No.                         11.6\n",
      "==============================================================================\n",
      "\n",
      "Notes:\n",
      "[1] Standard Errors assume that the covariance matrix of the errors is correctly specified.\n"
     ]
    }
   ],
   "source": [
    "import statsmodels.formula.api as smf\n",
    "data=pd.DataFrame({\"x\":x,\"y\":y})\n",
    "\n",
    "# 这里就是直接输入公式，公式里的 \"=\" 号就用“~”来表示，constant 常数会自动加入。\n",
    "# 一个自变量 y~x, 多个自变量可以写成 y~x+x1+x2\n",
    "# 和之前的 stasmodel 里的 OLS 函数的差别就是，这里是 smf.ols 小写的 ols, 上面是大写的 OLS\n",
    "model = smf.ols('y~x', data=data)\n",
    "results = model.fit()\n",
    "\n",
    "print(results.params)\n",
    "print(results.summary())"
   ]
  },
  {
   "cell_type": "markdown",
   "metadata": {},
   "source": [
    "#####  Tests the null hypothesis that a sample comes from a normal distribution. It is based on D’Agostino and Pearson’s [1], [2] test that combines skew and kurtosis to produce an omnibus test of normality.\n",
    "\n",
    "1\n",
    "D’Agostino, R. B. (1971), “An omnibus test of normality for moderate and large sample size”, Biometrika, 58, 341-348 <br>\n",
    "2\n",
    "D’Agostino, R. and Pearson, E. S. (1973), “Tests for departure from normality”, Biometrika, 60, 613-622"
   ]
  },
  {
   "cell_type": "code",
   "execution_count": 6,
   "metadata": {},
   "outputs": [
    {
     "ename": "NameError",
     "evalue": "name 'results' is not defined",
     "output_type": "error",
     "traceback": [
      "\u001b[1;31m---------------------------------------------------------------------------\u001b[0m",
      "\u001b[1;31mNameError\u001b[0m                                 Traceback (most recent call last)",
      "\u001b[1;32m<ipython-input-6-46a514d648cf>\u001b[0m in \u001b[0;36m<module>\u001b[1;34m\u001b[0m\n\u001b[0;32m      2\u001b[0m \u001b[1;32mimport\u001b[0m \u001b[0mscipy\u001b[0m\u001b[1;33m.\u001b[0m\u001b[0mstats\u001b[0m \u001b[1;32mas\u001b[0m \u001b[0mstats\u001b[0m\u001b[1;33m\u001b[0m\u001b[1;33m\u001b[0m\u001b[0m\n\u001b[0;32m      3\u001b[0m \u001b[1;31m### Test the results.resid\u001b[0m\u001b[1;33m\u001b[0m\u001b[1;33m\u001b[0m\u001b[1;33m\u001b[0m\u001b[0m\n\u001b[1;32m----> 4\u001b[1;33m \u001b[0mz\u001b[0m\u001b[1;33m,\u001b[0m \u001b[0mp\u001b[0m \u001b[1;33m=\u001b[0m \u001b[0mstats\u001b[0m\u001b[1;33m.\u001b[0m\u001b[0mnormaltest\u001b[0m\u001b[1;33m(\u001b[0m\u001b[0mresults\u001b[0m\u001b[1;33m.\u001b[0m\u001b[0mresid\u001b[0m\u001b[1;33m.\u001b[0m\u001b[0mvalues\u001b[0m\u001b[1;33m)\u001b[0m\u001b[1;33m\u001b[0m\u001b[1;33m\u001b[0m\u001b[0m\n\u001b[0m\u001b[0;32m      5\u001b[0m \u001b[0mprint\u001b[0m\u001b[1;33m(\u001b[0m\u001b[0mz\u001b[0m\u001b[1;33m,\u001b[0m\u001b[0mp\u001b[0m\u001b[1;33m)\u001b[0m  \u001b[1;31m### corresponding to the Omnibus /Pro in the results.summary\u001b[0m\u001b[1;33m\u001b[0m\u001b[1;33m\u001b[0m\u001b[0m\n\u001b[0;32m      6\u001b[0m \u001b[0mprint\u001b[0m\u001b[1;33m(\u001b[0m\u001b[1;34m\"skew=\"\u001b[0m\u001b[1;33m,\u001b[0m\u001b[0mstats\u001b[0m\u001b[1;33m.\u001b[0m\u001b[0mskew\u001b[0m\u001b[1;33m(\u001b[0m\u001b[0mresults\u001b[0m\u001b[1;33m.\u001b[0m\u001b[0mresid\u001b[0m\u001b[1;33m)\u001b[0m\u001b[1;33m)\u001b[0m\u001b[1;33m\u001b[0m\u001b[1;33m\u001b[0m\u001b[0m\n",
      "\u001b[1;31mNameError\u001b[0m: name 'results' is not defined"
     ]
    }
   ],
   "source": [
    "### test of residuals Ominibus test\n",
    "import scipy.stats as stats\n",
    "### Test the results.resid\n",
    "z, p = stats.normaltest(results.resid.values) \n",
    "print(z,p)  ### corresponding to the Omnibus /Pro in the results.summary\n",
    "print(\"skew=\",stats.skew(results.resid))\n",
    "print(\"kurtosis=\",stats.kurtosis(results.resid,fisher=False))"
   ]
  },
  {
   "cell_type": "markdown",
   "metadata": {},
   "source": [
    "#### \n",
    "The Durbin Watson (DW) statistic is a test for autocorrelation in the residuals from a statistical regression analysis. The Durbin-Watson statistic will always have a value between 0 and 4. A value of $\\color{red}{ 2.0 }$ means that there is no autocorrelation detected in the sample. Values from 0 to less than 2 indicate positive autocorrelation and values from from 2 to 4 indicate negative autocorrelation.\n"
   ]
  },
  {
   "cell_type": "code",
   "execution_count": 18,
   "metadata": {},
   "outputs": [
    {
     "name": "stdout",
     "output_type": "stream",
     "text": [
      "2.1543114484488313\n"
     ]
    }
   ],
   "source": [
    "from statsmodels.stats.stattools import durbin_watson\n",
    "print(durbin_watson(results.resid))"
   ]
  },
  {
   "cell_type": "markdown",
   "metadata": {},
   "source": [
    "#### \n",
    "In statistics, the Jarque–Bera test is a goodness-of-fit test of whether sample data have the skewness and kurtosis matching a normal distribution. The test is named after Carlos Jarque and Anil K. Bera. The test statistic is always nonnegative. If it is far from zero, it signals the data do not have a normal distribution. <br>\n",
    "#### Jarque–Bera检验是对样本数据是否具有符合正态分布的偏度和峰度的拟合优度的检验\n",
    "\n",
    "statsmodels.stats.stattools.jarque_bera(resids, axis=0)[source]\n"
   ]
  },
  {
   "cell_type": "code",
   "execution_count": 19,
   "metadata": {},
   "outputs": [
    {
     "name": "stdout",
     "output_type": "stream",
     "text": [
      "0.9735723183965785 0.614598445117722 0.14131258243889616 2.6078515936625783\n"
     ]
    }
   ],
   "source": [
    "from statsmodels.stats.stattools import jarque_bera\n",
    "JB,JPpv,Skew, Kurt=jarque_bera(results.resid)\n",
    "print(JB,JPpv,Skew, Kurt)"
   ]
  },
  {
   "cell_type": "markdown",
   "metadata": {},
   "source": [
    "### 我们再来看下多个自变量的线性叠加模型\n",
    "### An example of multiple linear regression y=b0+b1x+b2x^2"
   ]
  },
  {
   "cell_type": "code",
   "execution_count": 20,
   "metadata": {
    "scrolled": true
   },
   "outputs": [
    {
     "name": "stdout",
     "output_type": "stream",
     "text": [
      "Intercept    1.136680\n",
      "x1           2.039483\n",
      "x2           2.494913\n",
      "dtype: float64\n",
      "                            OLS Regression Results                            \n",
      "==============================================================================\n",
      "Dep. Variable:                      y   R-squared:                       1.000\n",
      "Model:                            OLS   Adj. R-squared:                  1.000\n",
      "Method:                 Least Squares   F-statistic:                 1.161e+06\n",
      "Date:                Wed, 18 May 2022   Prob (F-statistic):          4.06e-213\n",
      "Time:                        00:04:05   Log-Likelihood:                -75.163\n",
      "No. Observations:                 100   AIC:                             156.3\n",
      "Df Residuals:                      97   BIC:                             164.1\n",
      "Df Model:                           2                                         \n",
      "Covariance Type:            nonrobust                                         \n",
      "==============================================================================\n",
      "                 coef    std err          t      P>|t|      [0.025      0.975]\n",
      "------------------------------------------------------------------------------\n",
      "Intercept      1.1367      0.153      7.419      0.000       0.833       1.441\n",
      "x1             2.0395      0.072     28.514      0.000       1.898       2.181\n",
      "x2             2.4949      0.007    356.867      0.000       2.481       2.509\n",
      "==============================================================================\n",
      "Omnibus:                        0.386   Durbin-Watson:                   2.109\n",
      "Prob(Omnibus):                  0.824   Jarque-Bera (JB):                0.316\n",
      "Skew:                           0.135   Prob(JB):                        0.854\n",
      "Kurtosis:                       2.950   Cond. No.                         142.\n",
      "==============================================================================\n",
      "\n",
      "Notes:\n",
      "[1] Standard Errors assume that the covariance matrix of the errors is correctly specified.\n"
     ]
    }
   ],
   "source": [
    "import statsmodels.formula.api as smf\n",
    "import pandas as pd\n",
    "\n",
    "# 两个自变量\n",
    "x1 =np.arange(0,10,0.1)\n",
    "x2 =np.arange(0,10,0.1)**2\n",
    "\n",
    "# 加个噪声\n",
    "noise=0.1*np.random.normal(loc=0,scale=5,size=100)\n",
    "\n",
    "b0,b1,b2=1.2,2,2.5\n",
    "\n",
    "# 产生仿真输出值\n",
    "y = b0+b1*x1+b2*x2+noise\n",
    "\n",
    "#df=pd.DataFrame({\"y\":y,\"x1\":x1,\"x2\":x2,\"x3\":x3})\n",
    "df=pd.DataFrame({\"y\":y,\"x1\":x1,\"x2\":x2})\n",
    "\n",
    "# 先用上面的仿真数据去模拟个模型，然后进行 fit 来和数量进行拟合\n",
    "model = smf.ols('y~x1+x2', data=df)\n",
    "results = model.fit()\n",
    "\n",
    "print(results.params)\n",
    "print(results.summary())\n"
   ]
  },
  {
   "cell_type": "markdown",
   "metadata": {},
   "source": [
    "我们看到模型出来的系数和仿真数据给定的值蛮近似了，如果我们把 noise 改的更小点，系数就更接近了，因为干扰小了。大家可以试试看 变大noise 看看结果. "
   ]
  },
  {
   "cell_type": "markdown",
   "metadata": {},
   "source": [
    "## 6. logistic regression for machine learning\n",
    "### (注意：这部分内容并不作为此课程的核心概念去掌握的)\n",
    "\n",
    "和线性回归的区别就在于它的输出是个逻辑答案（YES or NO）或是数个类别。\n",
    "\n",
    "predicting the diabetes from a series of clinical factors. <br>\n",
    "data from: https://www.kaggle.com/uciml/pima-indians-diabetes-database/data\n",
    "<br>\n",
    "\n",
    "Pregnancies: Number of times pregnant<br>\n",
    "Glucose: Plasma glucose concentration over 2 hours in an oral glucose tolerance test<br>\n",
    "BloodPressure: Diastolic blood pressure (mm Hg)<br>\n",
    "SkinThickness: Triceps skin fold thickness (mm)<br>\n",
    "Insulin: 2-Hour serum insulin (mu U/ml)<br>\n",
    "BMI: Body mass index (weight in kg/(height in m)2)<br>\n",
    "DiabetesPedigreeFunction: Diabetes pedigree function (a function which scores likelihood of diabetes based on family history)<br>\n",
    "Age: Age (years)<br>\n",
    "Outcome: Class variable (0 if non-diabetic, 1 if diabetic)<br>\n",
    "\n",
    "<br>\n",
    "\n",
    "More details at: https://towardsdatascience.com/end-to-end-data-science-example-predicting-diabetes-with-logistic-regression-db9bc88b4d16\n"
   ]
  },
  {
   "cell_type": "code",
   "execution_count": 21,
   "metadata": {},
   "outputs": [],
   "source": [
    "import pandas as pd\n",
    "data=pd.read_csv(\"Data_DiseaseDiabetes.csv\")\n",
    "### define the types of variables dependent(or target variable) and independent variable(or feature variables).\n",
    "#split dataset in features and target variable, in this caase. The dependent variable is \"Outcome\" (diabesity or not)\n",
    "#while the independent variables are the rest 'pregnant', 'insulin', 'bmi', 'age','glucose','bp','pedigree'\n",
    "feature_cols = data.columns[0:7]\n",
    "x = data[feature_cols] # Features\n",
    "y = data.Outcome # Target variable"
   ]
  },
  {
   "cell_type": "code",
   "execution_count": 22,
   "metadata": {},
   "outputs": [
    {
     "data": {
      "text/html": [
       "<div>\n",
       "<style scoped>\n",
       "    .dataframe tbody tr th:only-of-type {\n",
       "        vertical-align: middle;\n",
       "    }\n",
       "\n",
       "    .dataframe tbody tr th {\n",
       "        vertical-align: top;\n",
       "    }\n",
       "\n",
       "    .dataframe thead th {\n",
       "        text-align: right;\n",
       "    }\n",
       "</style>\n",
       "<table border=\"1\" class=\"dataframe\">\n",
       "  <thead>\n",
       "    <tr style=\"text-align: right;\">\n",
       "      <th></th>\n",
       "      <th>Pregnancies</th>\n",
       "      <th>Glucose</th>\n",
       "      <th>BloodPressure</th>\n",
       "      <th>SkinThickness</th>\n",
       "      <th>Insulin</th>\n",
       "      <th>BMI</th>\n",
       "      <th>DiabetesPedigreeFunction</th>\n",
       "      <th>Age</th>\n",
       "      <th>Outcome</th>\n",
       "    </tr>\n",
       "  </thead>\n",
       "  <tbody>\n",
       "    <tr>\n",
       "      <th>0</th>\n",
       "      <td>6</td>\n",
       "      <td>148</td>\n",
       "      <td>72</td>\n",
       "      <td>35</td>\n",
       "      <td>0</td>\n",
       "      <td>33.6</td>\n",
       "      <td>0.627</td>\n",
       "      <td>50</td>\n",
       "      <td>1</td>\n",
       "    </tr>\n",
       "    <tr>\n",
       "      <th>1</th>\n",
       "      <td>1</td>\n",
       "      <td>85</td>\n",
       "      <td>66</td>\n",
       "      <td>29</td>\n",
       "      <td>0</td>\n",
       "      <td>26.6</td>\n",
       "      <td>0.351</td>\n",
       "      <td>31</td>\n",
       "      <td>0</td>\n",
       "    </tr>\n",
       "    <tr>\n",
       "      <th>2</th>\n",
       "      <td>8</td>\n",
       "      <td>183</td>\n",
       "      <td>64</td>\n",
       "      <td>0</td>\n",
       "      <td>0</td>\n",
       "      <td>23.3</td>\n",
       "      <td>0.672</td>\n",
       "      <td>32</td>\n",
       "      <td>1</td>\n",
       "    </tr>\n",
       "    <tr>\n",
       "      <th>3</th>\n",
       "      <td>1</td>\n",
       "      <td>89</td>\n",
       "      <td>66</td>\n",
       "      <td>23</td>\n",
       "      <td>94</td>\n",
       "      <td>28.1</td>\n",
       "      <td>0.167</td>\n",
       "      <td>21</td>\n",
       "      <td>0</td>\n",
       "    </tr>\n",
       "    <tr>\n",
       "      <th>4</th>\n",
       "      <td>0</td>\n",
       "      <td>137</td>\n",
       "      <td>40</td>\n",
       "      <td>35</td>\n",
       "      <td>168</td>\n",
       "      <td>43.1</td>\n",
       "      <td>2.288</td>\n",
       "      <td>33</td>\n",
       "      <td>1</td>\n",
       "    </tr>\n",
       "  </tbody>\n",
       "</table>\n",
       "</div>"
      ],
      "text/plain": [
       "   Pregnancies  Glucose  BloodPressure  SkinThickness  Insulin   BMI  \\\n",
       "0            6      148             72             35        0  33.6   \n",
       "1            1       85             66             29        0  26.6   \n",
       "2            8      183             64              0        0  23.3   \n",
       "3            1       89             66             23       94  28.1   \n",
       "4            0      137             40             35      168  43.1   \n",
       "\n",
       "   DiabetesPedigreeFunction  Age  Outcome  \n",
       "0                     0.627   50        1  \n",
       "1                     0.351   31        0  \n",
       "2                     0.672   32        1  \n",
       "3                     0.167   21        0  \n",
       "4                     2.288   33        1  "
      ]
     },
     "execution_count": 22,
     "metadata": {},
     "output_type": "execute_result"
    }
   ],
   "source": [
    "data.head()"
   ]
  },
  {
   "cell_type": "markdown",
   "metadata": {},
   "source": [
    "这是一个千把号人的数据，有怀孕次数，血糖高度，血压，等等生理指标。最后一列是最后判断值，有没有 Outcome 糖尿病（有就是1，没有就是0）。我们希望能建一个回归模型，通过输入这么多的变量/参数 （x1, x2, x3...)，能预测 Outcome (Y) 的值，有没有糖尿病。\n",
    "\n",
    "(这个是机器学习的原理）"
   ]
  },
  {
   "cell_type": "code",
   "execution_count": 23,
   "metadata": {},
   "outputs": [
    {
     "name": "stdout",
     "output_type": "stream",
     "text": [
      "Optimization terminated successfully.\n",
      "         Current function value: 0.470993\n",
      "         Iterations 6\n",
      "                           Logit Regression Results                           \n",
      "==============================================================================\n",
      "Dep. Variable:                Outcome   No. Observations:                  768\n",
      "Model:                          Logit   Df Residuals:                      759\n",
      "Method:                           MLE   Df Model:                            8\n",
      "Date:                Wed, 18 May 2022   Pseudo R-squ.:                  0.2718\n",
      "Time:                        00:04:09   Log-Likelihood:                -361.72\n",
      "converged:                       True   LL-Null:                       -496.74\n",
      "Covariance Type:            nonrobust   LLR p-value:                 9.652e-54\n",
      "============================================================================================\n",
      "                               coef    std err          z      P>|z|      [0.025      0.975]\n",
      "--------------------------------------------------------------------------------------------\n",
      "Intercept                   -8.4047      0.717    -11.728      0.000      -9.809      -7.000\n",
      "Glucose                      0.0352      0.004      9.481      0.000       0.028       0.042\n",
      "BloodPressure               -0.0133      0.005     -2.540      0.011      -0.024      -0.003\n",
      "Insulin                     -0.0012      0.001     -1.322      0.186      -0.003       0.001\n",
      "Pregnancies                  0.1232      0.032      3.840      0.000       0.060       0.186\n",
      "SkinThickness                0.0006      0.007      0.090      0.929      -0.013       0.014\n",
      "BMI                          0.0897      0.015      5.945      0.000       0.060       0.119\n",
      "Age                          0.0149      0.009      1.593      0.111      -0.003       0.033\n",
      "DiabetesPedigreeFunction     0.9452      0.299      3.160      0.002       0.359       1.531\n",
      "============================================================================================\n"
     ]
    }
   ],
   "source": [
    "import statsmodels.formula.api as smf\n",
    "f = 'Outcome ~ Glucose + BloodPressure + Insulin +Pregnancies+SkinThickness+BMI+Age+DiabetesPedigreeFunction' # 因为比较长，所以先用字符串写出来\n",
    "\n",
    "# 这里用的函数是 “logit\"\n",
    "logitmodel = smf.logit(formula = str(f), data = data).fit()\n",
    "print(logitmodel.summary())\n",
    "#print(logitmodel.fittedvalues)"
   ]
  },
  {
   "cell_type": "markdown",
   "metadata": {},
   "source": [
    "### Data Exploration 我们这里仔细点来看下，当你拿到数据后，应该怎么去探索一个数据"
   ]
  },
  {
   "cell_type": "markdown",
   "metadata": {},
   "source": [
    "可以先做个相关分析，先看下数据中的各个参数间到底是什么关系，两两相关系数"
   ]
  },
  {
   "cell_type": "code",
   "execution_count": 24,
   "metadata": {},
   "outputs": [
    {
     "data": {
      "text/plain": [
       "<AxesSubplot:>"
      ]
     },
     "execution_count": 24,
     "metadata": {},
     "output_type": "execute_result"
    },
    {
     "data": {
      "image/png": "[encoded data removed]",
      "text/plain": [
       "<Figure size 432x288 with 2 Axes>"
      ]
     },
     "metadata": {},
     "output_type": "display_data"
    }
   ],
   "source": [
    "import seaborn as sns\n",
    "\n",
    "corr = data.corr()\n",
    "sns.heatmap(corr, \n",
    "         xticklabels=corr.columns, \n",
    "         yticklabels=corr.columns)"
   ]
  },
  {
   "cell_type": "code",
   "execution_count": 25,
   "metadata": {},
   "outputs": [
    {
     "data": {
      "text/html": [
       "<div>\n",
       "<style scoped>\n",
       "    .dataframe tbody tr th:only-of-type {\n",
       "        vertical-align: middle;\n",
       "    }\n",
       "\n",
       "    .dataframe tbody tr th {\n",
       "        vertical-align: top;\n",
       "    }\n",
       "\n",
       "    .dataframe thead th {\n",
       "        text-align: right;\n",
       "    }\n",
       "</style>\n",
       "<table border=\"1\" class=\"dataframe\">\n",
       "  <thead>\n",
       "    <tr style=\"text-align: right;\">\n",
       "      <th></th>\n",
       "      <th>Pregnancies</th>\n",
       "      <th>Glucose</th>\n",
       "      <th>BloodPressure</th>\n",
       "      <th>SkinThickness</th>\n",
       "      <th>Insulin</th>\n",
       "      <th>BMI</th>\n",
       "      <th>DiabetesPedigreeFunction</th>\n",
       "      <th>Age</th>\n",
       "      <th>Outcome</th>\n",
       "    </tr>\n",
       "  </thead>\n",
       "  <tbody>\n",
       "    <tr>\n",
       "      <th>Pregnancies</th>\n",
       "      <td>1.000000</td>\n",
       "      <td>0.129459</td>\n",
       "      <td>0.141282</td>\n",
       "      <td>-0.081672</td>\n",
       "      <td>-0.073535</td>\n",
       "      <td>0.017683</td>\n",
       "      <td>-0.033523</td>\n",
       "      <td>0.544341</td>\n",
       "      <td>0.221898</td>\n",
       "    </tr>\n",
       "    <tr>\n",
       "      <th>Glucose</th>\n",
       "      <td>0.129459</td>\n",
       "      <td>1.000000</td>\n",
       "      <td>0.152590</td>\n",
       "      <td>0.057328</td>\n",
       "      <td>0.331357</td>\n",
       "      <td>0.221071</td>\n",
       "      <td>0.137337</td>\n",
       "      <td>0.263514</td>\n",
       "      <td>0.466581</td>\n",
       "    </tr>\n",
       "    <tr>\n",
       "      <th>BloodPressure</th>\n",
       "      <td>0.141282</td>\n",
       "      <td>0.152590</td>\n",
       "      <td>1.000000</td>\n",
       "      <td>0.207371</td>\n",
       "      <td>0.088933</td>\n",
       "      <td>0.281805</td>\n",
       "      <td>0.041265</td>\n",
       "      <td>0.239528</td>\n",
       "      <td>0.065068</td>\n",
       "    </tr>\n",
       "    <tr>\n",
       "      <th>SkinThickness</th>\n",
       "      <td>-0.081672</td>\n",
       "      <td>0.057328</td>\n",
       "      <td>0.207371</td>\n",
       "      <td>1.000000</td>\n",
       "      <td>0.436783</td>\n",
       "      <td>0.392573</td>\n",
       "      <td>0.183928</td>\n",
       "      <td>-0.113970</td>\n",
       "      <td>0.074752</td>\n",
       "    </tr>\n",
       "    <tr>\n",
       "      <th>Insulin</th>\n",
       "      <td>-0.073535</td>\n",
       "      <td>0.331357</td>\n",
       "      <td>0.088933</td>\n",
       "      <td>0.436783</td>\n",
       "      <td>1.000000</td>\n",
       "      <td>0.197859</td>\n",
       "      <td>0.185071</td>\n",
       "      <td>-0.042163</td>\n",
       "      <td>0.130548</td>\n",
       "    </tr>\n",
       "    <tr>\n",
       "      <th>BMI</th>\n",
       "      <td>0.017683</td>\n",
       "      <td>0.221071</td>\n",
       "      <td>0.281805</td>\n",
       "      <td>0.392573</td>\n",
       "      <td>0.197859</td>\n",
       "      <td>1.000000</td>\n",
       "      <td>0.140647</td>\n",
       "      <td>0.036242</td>\n",
       "      <td>0.292695</td>\n",
       "    </tr>\n",
       "    <tr>\n",
       "      <th>DiabetesPedigreeFunction</th>\n",
       "      <td>-0.033523</td>\n",
       "      <td>0.137337</td>\n",
       "      <td>0.041265</td>\n",
       "      <td>0.183928</td>\n",
       "      <td>0.185071</td>\n",
       "      <td>0.140647</td>\n",
       "      <td>1.000000</td>\n",
       "      <td>0.033561</td>\n",
       "      <td>0.173844</td>\n",
       "    </tr>\n",
       "    <tr>\n",
       "      <th>Age</th>\n",
       "      <td>0.544341</td>\n",
       "      <td>0.263514</td>\n",
       "      <td>0.239528</td>\n",
       "      <td>-0.113970</td>\n",
       "      <td>-0.042163</td>\n",
       "      <td>0.036242</td>\n",
       "      <td>0.033561</td>\n",
       "      <td>1.000000</td>\n",
       "      <td>0.238356</td>\n",
       "    </tr>\n",
       "    <tr>\n",
       "      <th>Outcome</th>\n",
       "      <td>0.221898</td>\n",
       "      <td>0.466581</td>\n",
       "      <td>0.065068</td>\n",
       "      <td>0.074752</td>\n",
       "      <td>0.130548</td>\n",
       "      <td>0.292695</td>\n",
       "      <td>0.173844</td>\n",
       "      <td>0.238356</td>\n",
       "      <td>1.000000</td>\n",
       "    </tr>\n",
       "  </tbody>\n",
       "</table>\n",
       "</div>"
      ],
      "text/plain": [
       "                          Pregnancies   Glucose  BloodPressure  SkinThickness  \\\n",
       "Pregnancies                  1.000000  0.129459       0.141282      -0.081672   \n",
       "Glucose                      0.129459  1.000000       0.152590       0.057328   \n",
       "BloodPressure                0.141282  0.152590       1.000000       0.207371   \n",
       "SkinThickness               -0.081672  0.057328       0.207371       1.000000   \n",
       "Insulin                     -0.073535  0.331357       0.088933       0.436783   \n",
       "BMI                          0.017683  0.221071       0.281805       0.392573   \n",
       "DiabetesPedigreeFunction    -0.033523  0.137337       0.041265       0.183928   \n",
       "Age                          0.544341  0.263514       0.239528      -0.113970   \n",
       "Outcome                      0.221898  0.466581       0.065068       0.074752   \n",
       "\n",
       "                           Insulin       BMI  DiabetesPedigreeFunction  \\\n",
       "Pregnancies              -0.073535  0.017683                 -0.033523   \n",
       "Glucose                   0.331357  0.221071                  0.137337   \n",
       "BloodPressure             0.088933  0.281805                  0.041265   \n",
       "SkinThickness             0.436783  0.392573                  0.183928   \n",
       "Insulin                   1.000000  0.197859                  0.185071   \n",
       "BMI                       0.197859  1.000000                  0.140647   \n",
       "DiabetesPedigreeFunction  0.185071  0.140647                  1.000000   \n",
       "Age                      -0.042163  0.036242                  0.033561   \n",
       "Outcome                   0.130548  0.292695                  0.173844   \n",
       "\n",
       "                               Age   Outcome  \n",
       "Pregnancies               0.544341  0.221898  \n",
       "Glucose                   0.263514  0.466581  \n",
       "BloodPressure             0.239528  0.065068  \n",
       "SkinThickness            -0.113970  0.074752  \n",
       "Insulin                  -0.042163  0.130548  \n",
       "BMI                       0.036242  0.292695  \n",
       "DiabetesPedigreeFunction  0.033561  0.173844  \n",
       "Age                       1.000000  0.238356  \n",
       "Outcome                   0.238356  1.000000  "
      ]
     },
     "execution_count": 25,
     "metadata": {},
     "output_type": "execute_result"
    }
   ],
   "source": [
    "corr"
   ]
  },
  {
   "cell_type": "markdown",
   "metadata": {},
   "source": [
    "然后呢，一般在机器学习里，会把拿到的数据分成训练集和测试集。训练集就是说，你拿出一部分数据去搭建你的回归模型，再用另外一部分数据来检验测试你搭建出来模型的准确率有多好。\n",
    "\n",
    "这边我们调用了 slearn.model_selection 模块里的函数 train_test_split（训练_测试_分割），比如 test_size=0.2 就是取数据的20%来测试，80%去训练。"
   ]
  },
  {
   "cell_type": "code",
   "execution_count": 28,
   "metadata": {},
   "outputs": [
    {
     "name": "stderr",
     "output_type": "stream",
     "text": [
      "C:\\Users\\zzh19\\AppData\\Local\\Temp/ipykernel_6032/1081954434.py:10: SettingWithCopyWarning: \n",
      "A value is trying to be set on a copy of a slice from a DataFrame.\n",
      "Try using .loc[row_indexer,col_indexer] = value instead\n",
      "\n",
      "See the caveats in the documentation: https://pandas.pydata.org/pandas-docs/stable/user_guide/indexing.html#returning-a-view-versus-a-copy\n",
      "  train[cols_to_norm] = train[cols_to_norm].apply(lambda x: (x - x.mean()) / (x.std()))\n",
      "C:\\Users\\zzh19\\AppData\\Local\\Temp/ipykernel_6032/1081954434.py:11: SettingWithCopyWarning: \n",
      "A value is trying to be set on a copy of a slice from a DataFrame.\n",
      "Try using .loc[row_indexer,col_indexer] = value instead\n",
      "\n",
      "See the caveats in the documentation: https://pandas.pydata.org/pandas-docs/stable/user_guide/indexing.html#returning-a-view-versus-a-copy\n",
      "  test[cols_to_norm] = test[cols_to_norm].apply(lambda x: (x - x.mean()) / (x.std()))\n"
     ]
    }
   ],
   "source": [
    "##Now let's separate the data into training set (80%) and test set (20%) \n",
    "### and normalize the data except the Outcome\n",
    "from sklearn.model_selection import train_test_split\n",
    "train, test = train_test_split(data, test_size=0.2)\n",
    "\n",
    "###Normalization，因为数据里每个变量的量纲是不一样，有的是体重，有的是血压，有的是年龄，所以需要做个标准化/归一化处理，去掉量纲的影响\n",
    "# Assuming same lines from your example\n",
    "cols_to_norm = [\"Pregnancies\",\"Glucose\",\"BloodPressure\",\"SkinThickness\",\n",
    "                \"Insulin\",\"BMI\",\"DiabetesPedigreeFunction\",\"Age\"]\n",
    "train[cols_to_norm] = train[cols_to_norm].apply(lambda x: (x - x.mean()) / (x.std()))\n",
    "test[cols_to_norm] = test[cols_to_norm].apply(lambda x: (x - x.mean()) / (x.std()))\n"
   ]
  },
  {
   "cell_type": "code",
   "execution_count": 29,
   "metadata": {},
   "outputs": [
    {
     "name": "stdout",
     "output_type": "stream",
     "text": [
      "Optimization terminated successfully.\n",
      "         Current function value: 0.474432\n",
      "         Iterations 6\n",
      "                           Logit Regression Results                           \n",
      "==============================================================================\n",
      "Dep. Variable:                Outcome   No. Observations:                  614\n",
      "Model:                          Logit   Df Residuals:                      605\n",
      "Method:                           MLE   Df Model:                            8\n",
      "Date:                Wed, 18 May 2022   Pseudo R-squ.:                  0.2662\n",
      "Time:                        00:04:27   Log-Likelihood:                -291.30\n",
      "converged:                       True   LL-Null:                       -396.97\n",
      "Covariance Type:            nonrobust   LLR p-value:                 2.593e-41\n",
      "============================================================================================\n",
      "                               coef    std err          z      P>|z|      [0.025      0.975]\n",
      "--------------------------------------------------------------------------------------------\n",
      "Intercept                   -0.8855      0.109     -8.138      0.000      -1.099      -0.672\n",
      "Glucose                      1.0713      0.133      8.072      0.000       0.811       1.331\n",
      "BloodPressure               -0.3301      0.115     -2.873      0.004      -0.555      -0.105\n",
      "Insulin                     -0.1636      0.115     -1.418      0.156      -0.390       0.063\n",
      "Pregnancies                  0.4740      0.119      3.967      0.000       0.240       0.708\n",
      "SkinThickness                0.0138      0.120      0.115      0.908      -0.222       0.250\n",
      "BMI                          0.7743      0.133      5.834      0.000       0.514       1.034\n",
      "Age                          0.1876      0.120      1.562      0.118      -0.048       0.423\n",
      "DiabetesPedigreeFunction     0.2527      0.108      2.346      0.019       0.042       0.464\n",
      "============================================================================================\n"
     ]
    }
   ],
   "source": [
    "### modeling the data with training dataset\n",
    "f = 'Outcome ~ Glucose + BloodPressure + Insulin +Pregnancies+SkinThickness+BMI+Age+DiabetesPedigreeFunction'\n",
    "logitmodel = smf.logit(formula = str(f), data = train).fit()\n",
    "print(logitmodel.summary())"
   ]
  },
  {
   "cell_type": "markdown",
   "metadata": {},
   "source": [
    "看完模型的结果后，我们还可以把这些系数可视化出来看下。\n",
    "\n",
    "我们把每个变量在模型里的系数的绝对值展示出来。绝对值越大，说明它在模型中的重要性就越大"
   ]
  },
  {
   "cell_type": "code",
   "execution_count": 30,
   "metadata": {
    "scrolled": true
   },
   "outputs": [
    {
     "data": {
      "text/plain": [
       "Text(0.5, 0, 'Importance')"
      ]
     },
     "execution_count": 30,
     "metadata": {},
     "output_type": "execute_result"
    },
    {
     "data": {
      "image/png": "[encoded data removed]",
      "text/plain": [
       "<Figure size 792x432 with 1 Axes>"
      ]
     },
     "metadata": {},
     "output_type": "display_data"
    }
   ],
   "source": [
    "### Interpreting the model \n",
    "coeff1 = list(logitmodel.params.values)\n",
    "labels1 = list(logitmodel.params.index)\n",
    "coeff = coeff1[0:]\n",
    "labels = labels1[0:]\n",
    "\n",
    "features = pd.DataFrame()\n",
    "features['Features'] = labels\n",
    "features['importance'] = coeff\n",
    "features.sort_values(by=['importance'], ascending=True, inplace=True)\n",
    "features['positive'] = features['importance'] > 0\n",
    "features.set_index('Features', inplace=True)\n",
    "features.importance.plot(kind='barh', figsize=(11, 6),color = features.positive.map({True: 'blue', False: 'red'}))\n",
    "plt.xlabel('Importance')\n"
   ]
  },
  {
   "cell_type": "markdown",
   "metadata": {},
   "source": [
    "模型出来后，我们来看下到底这个模型对训练集数据的拟合度有多高，如果差的话，那后面压根都不要去在测试集上做了。直接回去换个模型。\n",
    "\n",
    "怎么看呢，很简单，直接在做出来的模型“logitmodel”后面加个“.pred_table()”来查看训练的结果"
   ]
  },
  {
   "cell_type": "code",
   "execution_count": 31,
   "metadata": {},
   "outputs": [
    {
     "data": {
      "text/html": [
       "<div>\n",
       "<style scoped>\n",
       "    .dataframe tbody tr th:only-of-type {\n",
       "        vertical-align: middle;\n",
       "    }\n",
       "\n",
       "    .dataframe tbody tr th {\n",
       "        vertical-align: top;\n",
       "    }\n",
       "\n",
       "    .dataframe thead th {\n",
       "        text-align: right;\n",
       "    }\n",
       "</style>\n",
       "<table border=\"1\" class=\"dataframe\">\n",
       "  <thead>\n",
       "    <tr style=\"text-align: right;\">\n",
       "      <th></th>\n",
       "      <th>Predicted Outcome 0</th>\n",
       "      <th>Predicted Outcome 1</th>\n",
       "    </tr>\n",
       "  </thead>\n",
       "  <tbody>\n",
       "    <tr>\n",
       "      <th>Actual Outcome 0</th>\n",
       "      <td>353.0</td>\n",
       "      <td>47.0</td>\n",
       "    </tr>\n",
       "    <tr>\n",
       "      <th>Actually Outcome 1</th>\n",
       "      <td>90.0</td>\n",
       "      <td>124.0</td>\n",
       "    </tr>\n",
       "  </tbody>\n",
       "</table>\n",
       "</div>"
      ],
      "text/plain": [
       "                    Predicted Outcome 0  Predicted Outcome 1\n",
       "Actual Outcome 0                  353.0                 47.0\n",
       "Actually Outcome 1                 90.0                124.0"
      ]
     },
     "execution_count": 31,
     "metadata": {},
     "output_type": "execute_result"
    }
   ],
   "source": [
    "## Accuracy for the training data\n",
    "## confusion matrix\n",
    "trainingRes=pd.DataFrame(logitmodel.pred_table())\n",
    "trainingRes.columns=[\"Predicted Outcome 0\",\"Predicted Outcome 1\"]\n",
    "trainingRes=trainingRes.rename(index={0:\"Actual Outcome 0\", 1:\"Actually Outcome 1\"})\n",
    "trainingRes"
   ]
  },
  {
   "cell_type": "markdown",
   "metadata": {},
   "source": [
    "看结果表的对角线，对角线就是真实和预测一致的数据量，越高，说明拟合的越好。把对角线数字加起来除以总数就是这个模型在训练集上的准确率了"
   ]
  },
  {
   "cell_type": "markdown",
   "metadata": {},
   "source": [
    "现在，我们来看下这个模型在测试数据上的表现如果？预测的准确率是多高\n",
    "\n",
    "在模型“logitmodel”后面加“.predict(test)”来查看预测的结果"
   ]
  },
  {
   "cell_type": "code",
   "execution_count": 32,
   "metadata": {},
   "outputs": [
    {
     "name": "stdout",
     "output_type": "stream",
     "text": [
      "The prediction accuracy for the test data is : 0.7857142857142857\n"
     ]
    },
    {
     "data": {
      "text/html": [
       "<div>\n",
       "<style scoped>\n",
       "    .dataframe tbody tr th:only-of-type {\n",
       "        vertical-align: middle;\n",
       "    }\n",
       "\n",
       "    .dataframe tbody tr th {\n",
       "        vertical-align: top;\n",
       "    }\n",
       "\n",
       "    .dataframe thead th {\n",
       "        text-align: right;\n",
       "    }\n",
       "</style>\n",
       "<table border=\"1\" class=\"dataframe\">\n",
       "  <thead>\n",
       "    <tr style=\"text-align: right;\">\n",
       "      <th></th>\n",
       "      <th>Predicted Outcome 0</th>\n",
       "      <th>Predicted Outcome 1</th>\n",
       "    </tr>\n",
       "  </thead>\n",
       "  <tbody>\n",
       "    <tr>\n",
       "      <th>Actual Outcome 0</th>\n",
       "      <td>90.0</td>\n",
       "      <td>10.0</td>\n",
       "    </tr>\n",
       "    <tr>\n",
       "      <th>Actually Outcome 1</th>\n",
       "      <td>23.0</td>\n",
       "      <td>31.0</td>\n",
       "    </tr>\n",
       "  </tbody>\n",
       "</table>\n",
       "</div>"
      ],
      "text/plain": [
       "                    Predicted Outcome 0  Predicted Outcome 1\n",
       "Actual Outcome 0                   90.0                 10.0\n",
       "Actually Outcome 1                 23.0                 31.0"
      ]
     },
     "execution_count": 32,
     "metadata": {},
     "output_type": "execute_result"
    }
   ],
   "source": [
    "pred_values = logitmodel.predict(test)\n",
    "# 用0.5来划分，高于0.5有糖尿病，低于0.5没有糖尿病\n",
    "bins=np.array([0,0.5,1])\n",
    "\n",
    "cm = np.histogram2d(test.Outcome, pred_values, bins=bins)[0]\n",
    "accuracy = (cm[0,0]+cm[1,1])/cm.sum()\n",
    "print(\"The prediction accuracy for the test data is :\", accuracy)\n",
    "\n",
    "testRes=pd.DataFrame(cm)\n",
    "testRes.columns=[\"Predicted Outcome 0\",\"Predicted Outcome 1\"]\n",
    "testRes=testRes.rename(index={0:\"Actual Outcome 0\", 1:\"Actually Outcome 1\"})\n",
    "testRes"
   ]
  },
  {
   "cell_type": "markdown",
   "metadata": {},
   "source": [
    "可以可视化出来看下模型对预测真实值的效果如何"
   ]
  },
  {
   "cell_type": "code",
   "execution_count": 33,
   "metadata": {},
   "outputs": [
    {
     "data": {
      "text/plain": [
       "[<matplotlib.lines.Line2D at 0x292fa876eb0>]"
      ]
     },
     "execution_count": 33,
     "metadata": {},
     "output_type": "execute_result"
    },
    {
     "data": {
      "image/png": "[encoded data removed]",
      "text/plain": [
       "<Figure size 1440x360 with 1 Axes>"
      ]
     },
     "metadata": {},
     "output_type": "display_data"
    }
   ],
   "source": [
    "## Now check the test data with the fitted mmodel:\n",
    "#y_pred=logitmodel.fit().predict(test)\n",
    "\n",
    "y_pred=logitmodel.predict(test)\n",
    "sns.set_style(\"darkgrid\")\n",
    "plt.figure(figsize=(20,5))\n",
    "plt.plot(test.Outcome,\"*\")\n",
    "plt.plot(np.rint(y_pred),\"o\",mfc=\"none\",ms=10)\n",
    "\n",
    "#}curacy = logitmodel.\n",
    "#print(\"accuracy = \", accuracy * 100, \"%\")\n"
   ]
  },
  {
   "cell_type": "code",
   "execution_count": 34,
   "metadata": {},
   "outputs": [
    {
     "data": {
      "text/plain": [
       "array([[353.,  47.],\n",
       "       [ 90., 124.]])"
      ]
     },
     "execution_count": 34,
     "metadata": {},
     "output_type": "execute_result"
    }
   ],
   "source": [
    "logitmodel.pred_table(0.5)"
   ]
  },
  {
   "cell_type": "markdown",
   "metadata": {},
   "source": [
    "## Accuracy <br>\n",
    "you got a classification rate of 80%, considered as good accuracy\n",
    "\n",
    "## Precision: <br> \n",
    "Precision is about being precise, i.e., how accurate your model is. In other words, you can say, when a model makes a prediction, how often it is correct. In your prediction case, when your Logistic Regression model predicted patients are going to suffer from diabetes, that patients have 76% of the time.\n",
    "\n",
    "## Recall: <br>\n",
    "If there are patients who have diabetes in the test set and your Logistic Regression model can identify it 58% of the time."
   ]
  },
  {
   "cell_type": "markdown",
   "metadata": {},
   "source": [
    "## ROC Curve <br>\n",
    "Receiver Operating Characteristic(ROC) curve is a plot of the true positive rate against the false positive rate. It shows the tradeoff between sensitivity and specificity."
   ]
  },
  {
   "cell_type": "code",
   "execution_count": null,
   "metadata": {},
   "outputs": [],
   "source": []
  }
 ],
 "metadata": {
  "kernelspec": {
   "display_name": "Python 3",
   "language": "python",
   "name": "python3"
  },
  "language_info": {
   "codemirror_mode": {
    "name": "ipython",
    "version": 3
   },
   "file_extension": ".py",
   "mimetype": "text/x-python",
   "name": "python",
   "nbconvert_exporter": "python",
   "pygments_lexer": "ipython3",
   "version": "3.7.6"
  }
 },
 "nbformat": 4,
 "nbformat_minor": 4
}
