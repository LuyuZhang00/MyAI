{
 "cells": [
  {
   "cell_type": "markdown",
   "metadata": {},
   "source": [
    "# 第2单元 - 第8-9周 - @林关宁\n",
    "\n",
    "## 1. Introduction to ANOVA (One-Way)\n",
    "The analysis of variance (ANOVA) can be thought of as an extension to the t-test. \n",
    "* The independent t-test is used to compare the means of a condition between 2 groups. \n",
    "* ANOVA is used when one wants to compare the means of a condition between 2+ groups. \n",
    "\n",
    "ANOVA is an omnibus test, meaning it tests the data as a whole. Another way to say that is this, ANOVA tests if there is a difference in the mean somewhere in the model (testing if there was an overall effect), but it does not tell one where the difference is if the there is one. To find out where the difference is between the groups, one has to conduct post-hoc tests. This is also covered here.\n",
    "\n",
    "* $H_0$: No difference between means, i.e. $x_1 = x_2 = x_3$\n",
    "* $H_a$: Difference between means exist somewhere, i.e. $x_1 \\ne x_2 \\ne x_3, or  x_1 = x_2 \\ne x_3, or x1 \\ne x2 = x_3$\n",
    "\n",
    "### 1.1 ANOVA Assumptions\n",
    "There are 3 assumptions that need to be met for the results of an ANOVA test to be considered accurate and trust worthy. It’s important to note the the assumptions apply to the residuals and not the variables themselves. The ANOVA assumptions are the same as for linear regression and are:\n",
    "\n",
    "1.Normality\n",
    "* Caveat to this is, if group sizes are equal, the F-statistic is robust to violations of normality\n",
    "\n",
    "2.Homogeneity of variance\n",
    "* Same caveat as above, if group sizes are equal, the F-statistic is robust to this violation\n",
    "\n",
    "3.Independent observations\n",
    "\n",
    "If possible, it is best to have groups the same size so corrections to the data do not need to be made. However, with real world data, that is often not the case and one will have to make corrections to the data. If these assumptions are not met, and one does not want to transform the data, an alternative test that could be used is the Kruskal-Wallis H-test or Welch’s ANOVA."
   ]
  },
  {
   "cell_type": "markdown",
   "metadata": {},
   "source": [
    "# 可能需要到Anaconda去安装下：pip install researchpy \n",
    "# Researchpy produces Pandas DataFrames that contain relevant statistical testing information that is commonly required for academic research"
   ]
  },
  {
   "cell_type": "code",
   "execution_count": 1,
   "metadata": {},
   "outputs": [],
   "source": [
    "import pandas as pd\n",
    "import scipy.stats as stats\n",
    "\n",
    "import researchpy as rp\n",
    "import statsmodels.api as sm\n",
    "from statsmodels.formula.api import ols\n",
    "    \n",
    "import matplotlib.pyplot as plt"
   ]
  },
  {
   "cell_type": "markdown",
   "metadata": {},
   "source": [
    "#### Data used in this example\n",
    "It is a made-up data that is measuring the effects of different doses of a clinical drug, \"Difficile\", on libido. It contains 2 columns of interest, “dose” and “libido”. Dose contains information on the dosing, “placebo”, “low”, and “high”, and libido is a measure of low-high libido on a 7 point Likert scale with 7 being the highest and 1 being the lowest. Now let’s import the libraries needed for the analysis, load the data and take a look! While were at it, let’s drop the ‘person’ column since we don’t need it.\n",
    "\n",
    "这是一个伪数据组，这个数据测量不同剂量的临床药物“ Difficile”对性欲的影响。\n",
    "\n",
    "它包含两列感兴趣的列：“剂量”和“性欲”程度。剂量包含有关剂量，“安慰剂”，“低”和“高”的信息，性欲是在7点李克特量表(Likert scale)上衡量低-高性欲，其中7最高，1最低。\n",
    "\n",
    "现在，我们导入分析所需的库，加载数据并进行查看。在进行此操作时，我们可以去掉“人员”这列，因为我们不需要它。"
   ]
  },
  {
   "cell_type": "code",
   "execution_count": 2,
   "metadata": {},
   "outputs": [
    {
     "data": {
      "text/html": [
       "<div>\n",
       "<style scoped>\n",
       "    .dataframe tbody tr th:only-of-type {\n",
       "        vertical-align: middle;\n",
       "    }\n",
       "\n",
       "    .dataframe tbody tr th {\n",
       "        vertical-align: top;\n",
       "    }\n",
       "\n",
       "    .dataframe thead th {\n",
       "        text-align: right;\n",
       "    }\n",
       "</style>\n",
       "<table border=\"1\" class=\"dataframe\">\n",
       "  <thead>\n",
       "    <tr style=\"text-align: right;\">\n",
       "      <th></th>\n",
       "      <th>person</th>\n",
       "      <th>dose</th>\n",
       "      <th>libido</th>\n",
       "    </tr>\n",
       "  </thead>\n",
       "  <tbody>\n",
       "    <tr>\n",
       "      <th>0</th>\n",
       "      <td>1</td>\n",
       "      <td>placebo</td>\n",
       "      <td>3</td>\n",
       "    </tr>\n",
       "    <tr>\n",
       "      <th>1</th>\n",
       "      <td>2</td>\n",
       "      <td>placebo</td>\n",
       "      <td>2</td>\n",
       "    </tr>\n",
       "    <tr>\n",
       "      <th>2</th>\n",
       "      <td>3</td>\n",
       "      <td>placebo</td>\n",
       "      <td>1</td>\n",
       "    </tr>\n",
       "    <tr>\n",
       "      <th>3</th>\n",
       "      <td>4</td>\n",
       "      <td>placebo</td>\n",
       "      <td>1</td>\n",
       "    </tr>\n",
       "    <tr>\n",
       "      <th>4</th>\n",
       "      <td>5</td>\n",
       "      <td>placebo</td>\n",
       "      <td>4</td>\n",
       "    </tr>\n",
       "    <tr>\n",
       "      <th>5</th>\n",
       "      <td>6</td>\n",
       "      <td>low</td>\n",
       "      <td>5</td>\n",
       "    </tr>\n",
       "    <tr>\n",
       "      <th>6</th>\n",
       "      <td>7</td>\n",
       "      <td>low</td>\n",
       "      <td>2</td>\n",
       "    </tr>\n",
       "    <tr>\n",
       "      <th>7</th>\n",
       "      <td>8</td>\n",
       "      <td>low</td>\n",
       "      <td>4</td>\n",
       "    </tr>\n",
       "    <tr>\n",
       "      <th>8</th>\n",
       "      <td>9</td>\n",
       "      <td>low</td>\n",
       "      <td>2</td>\n",
       "    </tr>\n",
       "    <tr>\n",
       "      <th>9</th>\n",
       "      <td>10</td>\n",
       "      <td>low</td>\n",
       "      <td>3</td>\n",
       "    </tr>\n",
       "    <tr>\n",
       "      <th>10</th>\n",
       "      <td>11</td>\n",
       "      <td>high</td>\n",
       "      <td>7</td>\n",
       "    </tr>\n",
       "    <tr>\n",
       "      <th>11</th>\n",
       "      <td>12</td>\n",
       "      <td>high</td>\n",
       "      <td>4</td>\n",
       "    </tr>\n",
       "    <tr>\n",
       "      <th>12</th>\n",
       "      <td>13</td>\n",
       "      <td>high</td>\n",
       "      <td>5</td>\n",
       "    </tr>\n",
       "    <tr>\n",
       "      <th>13</th>\n",
       "      <td>14</td>\n",
       "      <td>high</td>\n",
       "      <td>3</td>\n",
       "    </tr>\n",
       "    <tr>\n",
       "      <th>14</th>\n",
       "      <td>15</td>\n",
       "      <td>high</td>\n",
       "      <td>6</td>\n",
       "    </tr>\n",
       "  </tbody>\n",
       "</table>\n",
       "</div>"
      ],
      "text/plain": [
       "    person     dose  libido\n",
       "0        1  placebo       3\n",
       "1        2  placebo       2\n",
       "2        3  placebo       1\n",
       "3        4  placebo       1\n",
       "4        5  placebo       4\n",
       "5        6      low       5\n",
       "6        7      low       2\n",
       "7        8      low       4\n",
       "8        9      low       2\n",
       "9       10      low       3\n",
       "10      11     high       7\n",
       "11      12     high       4\n",
       "12      13     high       5\n",
       "13      14     high       3\n",
       "14      15     high       6"
      ]
     },
     "execution_count": 2,
     "metadata": {},
     "output_type": "execute_result"
    }
   ],
   "source": [
    "# Loading data\n",
    "df = pd.read_csv(\"Data_difficile.csv\")\n",
    "df.head(50)"
   ]
  },
  {
   "cell_type": "code",
   "execution_count": 3,
   "metadata": {},
   "outputs": [
    {
     "data": {
      "text/html": [
       "<div>\n",
       "<style scoped>\n",
       "    .dataframe tbody tr th:only-of-type {\n",
       "        vertical-align: middle;\n",
       "    }\n",
       "\n",
       "    .dataframe tbody tr th {\n",
       "        vertical-align: top;\n",
       "    }\n",
       "\n",
       "    .dataframe thead th {\n",
       "        text-align: right;\n",
       "    }\n",
       "</style>\n",
       "<table border=\"1\" class=\"dataframe\">\n",
       "  <thead>\n",
       "    <tr style=\"text-align: right;\">\n",
       "      <th></th>\n",
       "      <th>dose</th>\n",
       "      <th>libido</th>\n",
       "    </tr>\n",
       "  </thead>\n",
       "  <tbody>\n",
       "    <tr>\n",
       "      <th>0</th>\n",
       "      <td>placebo</td>\n",
       "      <td>3</td>\n",
       "    </tr>\n",
       "    <tr>\n",
       "      <th>1</th>\n",
       "      <td>placebo</td>\n",
       "      <td>2</td>\n",
       "    </tr>\n",
       "    <tr>\n",
       "      <th>2</th>\n",
       "      <td>placebo</td>\n",
       "      <td>1</td>\n",
       "    </tr>\n",
       "    <tr>\n",
       "      <th>3</th>\n",
       "      <td>placebo</td>\n",
       "      <td>1</td>\n",
       "    </tr>\n",
       "    <tr>\n",
       "      <th>4</th>\n",
       "      <td>placebo</td>\n",
       "      <td>4</td>\n",
       "    </tr>\n",
       "  </tbody>\n",
       "</table>\n",
       "</div>"
      ],
      "text/plain": [
       "      dose  libido\n",
       "0  placebo       3\n",
       "1  placebo       2\n",
       "2  placebo       1\n",
       "3  placebo       1\n",
       "4  placebo       4"
      ]
     },
     "execution_count": 3,
     "metadata": {},
     "output_type": "execute_result"
    }
   ],
   "source": [
    "df.drop('person', axis= 1, inplace= True)\n",
    "df.head()"
   ]
  },
  {
   "cell_type": "code",
   "execution_count": 4,
   "metadata": {},
   "outputs": [
    {
     "name": "stdout",
     "output_type": "stream",
     "text": [
      "\n",
      "\n"
     ]
    },
    {
     "data": {
      "text/html": [
       "<div>\n",
       "<style scoped>\n",
       "    .dataframe tbody tr th:only-of-type {\n",
       "        vertical-align: middle;\n",
       "    }\n",
       "\n",
       "    .dataframe tbody tr th {\n",
       "        vertical-align: top;\n",
       "    }\n",
       "\n",
       "    .dataframe thead th {\n",
       "        text-align: right;\n",
       "    }\n",
       "</style>\n",
       "<table border=\"1\" class=\"dataframe\">\n",
       "  <thead>\n",
       "    <tr style=\"text-align: right;\">\n",
       "      <th></th>\n",
       "      <th>Variable</th>\n",
       "      <th>N</th>\n",
       "      <th>Mean</th>\n",
       "      <th>SD</th>\n",
       "      <th>SE</th>\n",
       "      <th>95% Conf.</th>\n",
       "      <th>Interval</th>\n",
       "    </tr>\n",
       "  </thead>\n",
       "  <tbody>\n",
       "    <tr>\n",
       "      <th>0</th>\n",
       "      <td>libido</td>\n",
       "      <td>15.0</td>\n",
       "      <td>3.4667</td>\n",
       "      <td>1.7674</td>\n",
       "      <td>0.4563</td>\n",
       "      <td>2.4879</td>\n",
       "      <td>4.4454</td>\n",
       "    </tr>\n",
       "  </tbody>\n",
       "</table>\n",
       "</div>"
      ],
      "text/plain": [
       "  Variable     N    Mean      SD      SE  95% Conf.  Interval\n",
       "0   libido  15.0  3.4667  1.7674  0.4563     2.4879    4.4454"
      ]
     },
     "execution_count": 4,
     "metadata": {},
     "output_type": "execute_result"
    }
   ],
   "source": [
    "# Recoding value from numeric to string\n",
    "#df['dose'].replace({1: 'placebo', 2: 'low', 3: 'high'}, inplace= True)\n",
    "    \n",
    "# Gettin summary statistics\n",
    "rp.summary_cont(df['libido'])"
   ]
  },
  {
   "cell_type": "markdown",
   "metadata": {},
   "source": [
    "That’s good to see the data as a whole, but we are really interested in the data by dosing."
   ]
  },
  {
   "cell_type": "code",
   "execution_count": 5,
   "metadata": {},
   "outputs": [
    {
     "name": "stdout",
     "output_type": "stream",
     "text": [
      "\n",
      "\n"
     ]
    },
    {
     "data": {
      "text/html": [
       "<div>\n",
       "<style scoped>\n",
       "    .dataframe tbody tr th:only-of-type {\n",
       "        vertical-align: middle;\n",
       "    }\n",
       "\n",
       "    .dataframe tbody tr th {\n",
       "        vertical-align: top;\n",
       "    }\n",
       "\n",
       "    .dataframe thead th {\n",
       "        text-align: right;\n",
       "    }\n",
       "</style>\n",
       "<table border=\"1\" class=\"dataframe\">\n",
       "  <thead>\n",
       "    <tr style=\"text-align: right;\">\n",
       "      <th></th>\n",
       "      <th>N</th>\n",
       "      <th>Mean</th>\n",
       "      <th>SD</th>\n",
       "      <th>SE</th>\n",
       "      <th>95% Conf.</th>\n",
       "      <th>Interval</th>\n",
       "    </tr>\n",
       "    <tr>\n",
       "      <th>dose</th>\n",
       "      <th></th>\n",
       "      <th></th>\n",
       "      <th></th>\n",
       "      <th></th>\n",
       "      <th></th>\n",
       "      <th></th>\n",
       "    </tr>\n",
       "  </thead>\n",
       "  <tbody>\n",
       "    <tr>\n",
       "      <th>high</th>\n",
       "      <td>5</td>\n",
       "      <td>5.0</td>\n",
       "      <td>1.5811</td>\n",
       "      <td>0.7071</td>\n",
       "      <td>3.0368</td>\n",
       "      <td>6.9632</td>\n",
       "    </tr>\n",
       "    <tr>\n",
       "      <th>low</th>\n",
       "      <td>5</td>\n",
       "      <td>3.2</td>\n",
       "      <td>1.3038</td>\n",
       "      <td>0.5831</td>\n",
       "      <td>1.5811</td>\n",
       "      <td>4.8189</td>\n",
       "    </tr>\n",
       "    <tr>\n",
       "      <th>placebo</th>\n",
       "      <td>5</td>\n",
       "      <td>2.2</td>\n",
       "      <td>1.3038</td>\n",
       "      <td>0.5831</td>\n",
       "      <td>0.5811</td>\n",
       "      <td>3.8189</td>\n",
       "    </tr>\n",
       "  </tbody>\n",
       "</table>\n",
       "</div>"
      ],
      "text/plain": [
       "         N  Mean      SD      SE  95% Conf.  Interval\n",
       "dose                                                 \n",
       "high     5   5.0  1.5811  0.7071     3.0368    6.9632\n",
       "low      5   3.2  1.3038  0.5831     1.5811    4.8189\n",
       "placebo  5   2.2  1.3038  0.5831     0.5811    3.8189"
      ]
     },
     "execution_count": 5,
     "metadata": {},
     "output_type": "execute_result"
    }
   ],
   "source": [
    "rp.summary_cont(df['libido'].groupby(df['dose']))"
   ]
  },
  {
   "cell_type": "markdown",
   "metadata": {},
   "source": [
    "## 2，ANOVA Example\n",
    "There are a few ways this can be done with Python. One is with the stats.f_oneway() method which is apart of the scipy.stats library, and the other is using statsmodels.\n",
    "\n",
    "### 2.1. ANOVA with scipy.stats\n",
    "If using scipy.stats, the method needed is stats.f_oneway(). The general applied method looks like this:\n",
    "\n",
    "stats.f_oneway(data_group1, data_group2, data_group3, data_groupN)"
   ]
  },
  {
   "cell_type": "code",
   "execution_count": 6,
   "metadata": {},
   "outputs": [
    {
     "data": {
      "text/plain": [
       "F_onewayResult(statistic=5.11864406779661, pvalue=0.024694289538222603)"
      ]
     },
     "execution_count": 6,
     "metadata": {},
     "output_type": "execute_result"
    }
   ],
   "source": [
    "stats.f_oneway(df['libido'][df['dose'] == 'high'], \n",
    "             df['libido'][df['dose'] == 'low'],\n",
    "             df['libido'][df['dose'] == 'placebo'])"
   ]
  },
  {
   "cell_type": "markdown",
   "metadata": {},
   "source": [
    "The F-statistic= 5.119 and the p-value= 0.025 which is indicating that there is an overall significant effect of medication on libido. However, we don’t know where the difference between dosing/groups is yet. This is in the post-hoc section. A thing to note, is that if you are doing this for academic research purposes, this method is missing some of the information that is required for publication. For example, one would need the degrees of freedom, have to calculate the sum of squares, and conduct post-hoc tests by hand. It’s not difficult to do in Python, but there is a much easier way. Next is how to conduct an ANOVA using the regression formula; since after all, it is a generalized linear model (GLM).\n",
    "\n",
    "F统计量= 5.119，p-值= 0.025，这表明药物对性欲有总体显著影响。但是，我们不知道剂量/组之间的差异在哪里。这是在post-hoc分析部分了。"
   ]
  },
  {
   "cell_type": "markdown",
   "metadata": {},
   "source": [
    "### 2. ANOVA with statsmodels\n",
    "Using statsmodels, we get a bit more information and enter the model as a regression formula. The general input using this method looks like this:\n",
    "\n",
    "model_name = ols('outcome_variable ~ group1 + group2 + groupN', data=your_data).fit()\n",
    "\n",
    "If you dummy code the groups, you have to not include 1 of the groups in the formula. This group’s data will still get captured in the model’s intercept and is the base (control) group. If you use the following method of entering the formula Python takes care of this for you.\n",
    "\n",
    "model_name = ols('outcome_variable ~ C(group_variable)', data=your_data).fit()"
   ]
  },
  {
   "cell_type": "code",
   "execution_count": 8,
   "metadata": {},
   "outputs": [
    {
     "data": {
      "text/html": [
       "<div>\n",
       "<style scoped>\n",
       "    .dataframe tbody tr th:only-of-type {\n",
       "        vertical-align: middle;\n",
       "    }\n",
       "\n",
       "    .dataframe tbody tr th {\n",
       "        vertical-align: top;\n",
       "    }\n",
       "\n",
       "    .dataframe thead th {\n",
       "        text-align: right;\n",
       "    }\n",
       "</style>\n",
       "<table border=\"1\" class=\"dataframe\">\n",
       "  <thead>\n",
       "    <tr style=\"text-align: right;\">\n",
       "      <th></th>\n",
       "      <th>sum_sq</th>\n",
       "      <th>df</th>\n",
       "      <th>F</th>\n",
       "      <th>PR(&gt;F)</th>\n",
       "    </tr>\n",
       "  </thead>\n",
       "  <tbody>\n",
       "    <tr>\n",
       "      <th>C(dose)</th>\n",
       "      <td>20.133333</td>\n",
       "      <td>2.0</td>\n",
       "      <td>5.118644</td>\n",
       "      <td>0.024694</td>\n",
       "    </tr>\n",
       "    <tr>\n",
       "      <th>Residual</th>\n",
       "      <td>23.600000</td>\n",
       "      <td>12.0</td>\n",
       "      <td>NaN</td>\n",
       "      <td>NaN</td>\n",
       "    </tr>\n",
       "  </tbody>\n",
       "</table>\n",
       "</div>"
      ],
      "text/plain": [
       "             sum_sq    df         F    PR(>F)\n",
       "C(dose)   20.133333   2.0  5.118644  0.024694\n",
       "Residual  23.600000  12.0       NaN       NaN"
      ]
     },
     "execution_count": 8,
     "metadata": {},
     "output_type": "execute_result"
    }
   ],
   "source": [
    "results = ols('libido ~ C(dose)', data=df).fit()\n",
    "aov_table = sm.stats.anova_lm(results, typ=2)\n",
    "aov_table"
   ]
  },
  {
   "cell_type": "markdown",
   "metadata": {},
   "source": [
    "Let's break down this ANOVA table. The dose row is the between groups effect which is the overall experimental effect. The sum of squares for the model (SSM; value 20.133 in the table) is how much variance is explained by our model. The current model explains a significant amount of variance, F(2,12)= 5.12, p < 0.05. The residual row is the unsystematic variation in the data (SSR; also called the unexplained variance; value 23.600 in the table). In this case, the unsystematic variation represents the natural individual differences in libido and natural different reactions to the drug, \"Difficile\".\n",
    "\n",
    "让我们分解下这个方差分析表。剂量行是组间效应，是总体实验效应。模型的平方和（SSM；表中的值20.133）是我们的模型解释了多少方差。当前模型解释了很大的方差，F（2,12）= 5.12，p <0.05。错误行是数据中的非系统性变化（SSR；也称为无法解释的方差；表中值为23.600）。在这种情况下，非系统性变化代表个体本身有性欲差异和对药物Difficile的自然不同反应。"
   ]
  },
  {
   "cell_type": "markdown",
   "metadata": {},
   "source": [
    "### 3. CALCULATING MODEL EFFECT SIZE 计算模型效应量大小\n",
    "效果量是非常有用的一个参数。它的大小告诉我们该实验会对现实世界会有多大的影响。\n",
    "\n",
    "有几种不同的效应量公式：eta平方（eta squared）和Ω平方（Omega squared）。与eta平方相比，Omega平方被认为是衡量效果大小的更好指标，因为它在计算中没有偏见。\n",
    "\n",
    "需要注意的是，$R^2$在ANOVA框架内称为eta squared，他们是一样的东西。 $R^2$是模型解释多少方差的度量，并通过方差和（SSM）除以总方差（SST；也称为平方总和）来计算。总方差（SST）等于模型的平方和（SSM）加上残差的平方和（SSR）。因此，$R^2$和eta squared的公式为以下：\n",
    "\n",
    "$R^2$ and eta squared = SS_M/SS_T\n",
    "\n",
    "$R^2$ and eta squared = 20.133/43.733 = 0.460\n",
    "\n",
    "这意味着当前的模型解释了性欲贡献差异的46.0％。就像刚刚提到的那样，在ANOVA框架内，R2也称为eta平方，可以解释为解释的方差量以及效应量度。"
   ]
  },
  {
   "cell_type": "code",
   "execution_count": 9,
   "metadata": {},
   "outputs": [
    {
     "data": {
      "text/html": [
       "<div>\n",
       "<style scoped>\n",
       "    .dataframe tbody tr th:only-of-type {\n",
       "        vertical-align: middle;\n",
       "    }\n",
       "\n",
       "    .dataframe tbody tr th {\n",
       "        vertical-align: top;\n",
       "    }\n",
       "\n",
       "    .dataframe thead th {\n",
       "        text-align: right;\n",
       "    }\n",
       "</style>\n",
       "<table border=\"1\" class=\"dataframe\">\n",
       "  <thead>\n",
       "    <tr style=\"text-align: right;\">\n",
       "      <th></th>\n",
       "      <th>sum_sq</th>\n",
       "      <th>df</th>\n",
       "      <th>mean_sq</th>\n",
       "      <th>F</th>\n",
       "      <th>PR(&gt;F)</th>\n",
       "      <th>eta_sq</th>\n",
       "      <th>omega_sq</th>\n",
       "    </tr>\n",
       "  </thead>\n",
       "  <tbody>\n",
       "    <tr>\n",
       "      <th>C(dose)</th>\n",
       "      <td>20.133333</td>\n",
       "      <td>2.0</td>\n",
       "      <td>10.066667</td>\n",
       "      <td>5.118644</td>\n",
       "      <td>0.024694</td>\n",
       "      <td>0.460366</td>\n",
       "      <td>0.354486</td>\n",
       "    </tr>\n",
       "    <tr>\n",
       "      <th>Residual</th>\n",
       "      <td>23.600000</td>\n",
       "      <td>12.0</td>\n",
       "      <td>1.966667</td>\n",
       "      <td>NaN</td>\n",
       "      <td>NaN</td>\n",
       "      <td>NaN</td>\n",
       "      <td>NaN</td>\n",
       "    </tr>\n",
       "  </tbody>\n",
       "</table>\n",
       "</div>"
      ],
      "text/plain": [
       "             sum_sq    df    mean_sq         F    PR(>F)    eta_sq  omega_sq\n",
       "C(dose)   20.133333   2.0  10.066667  5.118644  0.024694  0.460366  0.354486\n",
       "Residual  23.600000  12.0   1.966667       NaN       NaN       NaN       NaN"
      ]
     },
     "execution_count": 9,
     "metadata": {},
     "output_type": "execute_result"
    }
   ],
   "source": [
    "def anova_table(aov):\n",
    "    aov['mean_sq'] = aov[:]['sum_sq']/aov[:]['df']\n",
    "    \n",
    "    aov['eta_sq'] = aov[:-1]['sum_sq']/sum(aov['sum_sq'])\n",
    "    \n",
    "    aov['omega_sq'] = (aov[:-1]['sum_sq']-(aov[:-1]['df']*aov['mean_sq'][-1]))/(sum(aov['sum_sq'])+aov['mean_sq'][-1])\n",
    "    \n",
    "    cols = ['sum_sq', 'df', 'mean_sq', 'F', 'PR(>F)', 'eta_sq', 'omega_sq']\n",
    "    aov = aov[cols]\n",
    "    return aov\n",
    "\n",
    "anova_table(aov_table)"
   ]
  },
  {
   "cell_type": "markdown",
   "metadata": {},
   "source": [
    "### 4. Assumption Checks/Model Diagnostics 假设检查/模型诊断\n",
    "#### 4.1 Assumption: Homogeneity of Variance 方差齐性\n",
    "\n",
    "可以使用Levene检验来检验组间的方差齐性。这是scipy.stats库的一部分。对于分类变量的每个层次，都应该检查方差假设的同质性。\n",
    "\n",
    "当Levene的方差齐性检验为不显著时，才表明两组具有相同的方差。"
   ]
  },
  {
   "cell_type": "code",
   "execution_count": 9,
   "metadata": {},
   "outputs": [
    {
     "data": {
      "text/plain": [
       "LeveneResult(statistic=0.11764705882352934, pvalue=0.8900225182757423)"
      ]
     },
     "execution_count": 9,
     "metadata": {},
     "output_type": "execute_result"
    }
   ],
   "source": [
    "stats.levene(df['libido'][df['dose'] == 'placebo'],\n",
    "             df['libido'][df['dose'] == 'low'],\n",
    "             df['libido'][df['dose'] == 'high'])"
   ]
  },
  {
   "cell_type": "markdown",
   "metadata": {},
   "source": [
    "#### 4.2 Assumption: Normality 正态性\n",
    "\n",
    "我们可以使用提供的Jarque-Bera测试，也可以使用Shapiro或其他测试。我将演示如何使用Shapiro方法测试正态性。输出没有标记，但数字是测试统计值，后跟p值。\n",
    "\n",
    "Shapiro-Wilk检验的结果如果是不显著的，没有统计学意义，这表明是正态分布的。"
   ]
  },
  {
   "cell_type": "code",
   "execution_count": 40,
   "metadata": {},
   "outputs": [
    {
     "data": {
      "text/plain": [
       "(0.9166916012763977, 0.17146942019462585)"
      ]
     },
     "execution_count": 40,
     "metadata": {},
     "output_type": "execute_result"
    }
   ],
   "source": [
    "stats.shapiro(results.resid)"
   ]
  },
  {
   "cell_type": "markdown",
   "metadata": {},
   "source": [
    "### 5. Post-hoc Testing 事后分析（两两样本之间的多重比较）\n",
    "The overall model was significant, now to test which groups differ. Deciding which groups to compare should be theory driven. There are a few different techniques that can be used. Each of these techniques have different ways of controlling for familywise error rate. 3 common methods are:\n",
    "\n",
    "如果上面的分析是说整个模型是有显著性的，那就需要来测试具体哪些组是不同。可以使用一些不同的方法来控制误差率的方法。例如2种常用方法是：\n"
   ]
  },
  {
   "cell_type": "markdown",
   "metadata": {},
   "source": [
    "#### 5.1 BONFERRONI CORRECTION POST-HOC COMPARISON\n",
    "First the corrected p-value needs to be calculated. This can be done using the formula:\n",
    "\n",
    "p-value/# of comparisons = 0.05/3 = 0.01667\n",
    "\n",
    "Now the t-tests that are conducted have to have a p-value less than 0.01667 in order to be considered significant."
   ]
  },
  {
   "cell_type": "code",
   "execution_count": 47,
   "metadata": {},
   "outputs": [
    {
     "data": {
      "text/plain": [
       "Ttest_indResult(statistic=1.963961012123931, pvalue=0.08513507177899203)"
      ]
     },
     "execution_count": 47,
     "metadata": {},
     "output_type": "execute_result"
    }
   ],
   "source": [
    "stats.ttest_ind(df['libido'][df['dose'] == 'high'], df['libido'][df['dose'] == 'low'])"
   ]
  },
  {
   "cell_type": "code",
   "execution_count": 45,
   "metadata": {},
   "outputs": [
    {
     "data": {
      "text/plain": [
       "Ttest_indResult(statistic=1.2126781251816647, pvalue=0.2598450452137845)"
      ]
     },
     "execution_count": 45,
     "metadata": {},
     "output_type": "execute_result"
    }
   ],
   "source": [
    "stats.ttest_ind(df['libido'][df['dose'] == 'low'], df['libido'][df['dose'] == 'placebo'])"
   ]
  },
  {
   "cell_type": "code",
   "execution_count": 48,
   "metadata": {},
   "outputs": [
    {
     "data": {
      "text/plain": [
       "Ttest_indResult(statistic=3.0550504633038926, pvalue=0.015700141250047695)"
      ]
     },
     "execution_count": 48,
     "metadata": {},
     "output_type": "execute_result"
    }
   ],
   "source": [
    "stats.ttest_ind(df['libido'][df['dose'] == 'high'], df['libido'][df['dose'] == 'placebo'])"
   ]
  },
  {
   "cell_type": "markdown",
   "metadata": {},
   "source": [
    "Using the Bonferroni correction, only the difference between the high dose and placebo groups are significantly different. We can calculate the high dosing’s effect size! To calculate the effect size for the treatment dosing we also need to calculate the degrees of freedom since it’s not provided. The following equations can be used:\n",
    "使用Bonferroni校正，只有高剂量组和安慰剂组之间的差异显著不同。我们可以计算高剂量的效应大小！为了计算治疗剂量的效应大小，我们还需要计算自由度，因为它没有提供。可以使用以下方程式：\n",
    "\n",
    "* dof = #_observations_group1 + #_observations_group2 - #_of_groups\n",
    "* dof = 5 + 5 - 2 = 8\n",
    "* effect size r = square root of ($t^2$/$t^2$ + dof)\n",
    "* effect size r = sqrt(1.213**2/(1.213**2 + 8)) = 0.39\n",
    "\n",
    "The high dose has a medium effect size."
   ]
  },
  {
   "cell_type": "markdown",
   "metadata": {},
   "source": [
    "#### 5.2 TUKEY’S HSD POST-HOC COMPARISON\n",
    "Tukey's HSD: Method also controls for familywise error rate (FWER) and is also considered conservative.\n",
    "\n",
    "Tukey HSD事后比较测试控制 I型错误，并将家族错误率保持在0.05（FWER=0.05，在表顶部）。group1和group2列是被比较的组，meandiff列是被计算为group2–group1的两个组的平均值的差异，下/上列是95%置信区间的下/上边界，拒绝列说明是否应拒绝零假设。可信的是，这种方法目前没有提供t统计量，因此无法计算治疗效应量大小。"
   ]
  },
  {
   "cell_type": "code",
   "execution_count": 41,
   "metadata": {},
   "outputs": [
    {
     "name": "stdout",
     "output_type": "stream",
     "text": [
      " Multiple Comparison of Means - Tukey HSD, FWER=0.05 \n",
      "=====================================================\n",
      "group1  group2 meandiff p-adj   lower   upper  reject\n",
      "-----------------------------------------------------\n",
      "  high     low     -1.8 0.1472 -4.1651  0.5651  False\n",
      "  high placebo     -2.8 0.0209 -5.1651 -0.4349   True\n",
      "   low placebo     -1.0 0.5171 -3.3651  1.3651  False\n",
      "-----------------------------------------------------\n"
     ]
    }
   ],
   "source": [
    "from statsmodels.stats.multicomp import pairwise_tukeyhsd\n",
    "from statsmodels.stats.multicomp import MultiComparison\n",
    "\n",
    "mc = MultiComparison(df['libido'], df['dose'])\n",
    "mc_results = mc.tukeyhsd()\n",
    "print(mc_results)"
   ]
  },
  {
   "cell_type": "markdown",
   "metadata": {},
   "source": [
    "### 6. ANOVA Results Interpretation\n",
    "While interpreting the ANOVA results, the Bonferroni post-hoc analysis results will be used here.\n",
    "\n",
    "There was a significant effect of Difficile on the level of libido, F(2,12)= 5.12, p < 0.05, omega_sq = 0.35. Planned post-hoc testing, using the Bonferroni correction P= 0.0167, revealed that high dose of Difficile significantly increased libido compared to the placebo, t(8)=3.06, p < 0.0167, r= 0.39. There were no other statistically significant differences between groups."
   ]
  },
  {
   "cell_type": "markdown",
   "metadata": {},
   "source": [
    "## 3. Repeated measure ANOVA (One-Way & Two-way)\n",
    "\n",
    "This code examples show you how to carry out a repeated measures ANOVA using Statsmodels AnovaRM. There are also more Python ANOVA guides found on https://www.marsja.se"
   ]
  },
  {
   "cell_type": "code",
   "execution_count": 8,
   "metadata": {},
   "outputs": [],
   "source": [
    "import pandas as pd\n",
    "from statsmodels.stats.anova import AnovaRM\n",
    "\n",
    "# help(AnovaRM)"
   ]
  },
  {
   "cell_type": "markdown",
   "metadata": {},
   "source": [
    "### One-way repeated measure ANOVA"
   ]
  },
  {
   "cell_type": "code",
   "execution_count": 9,
   "metadata": {},
   "outputs": [
    {
     "name": "stdout",
     "output_type": "stream",
     "text": [
      "               Anova\n",
      "===================================\n",
      "     F Value  Num DF  Den DF Pr > F\n",
      "-----------------------------------\n",
      "cond 499.1549 1.0000 59.0000 0.0000\n",
      "===================================\n",
      "\n"
     ]
    }
   ],
   "source": [
    "df = pd.read_csv('Data_rmAOV1way.csv')\n",
    "\n",
    "aovrm = AnovaRM(df, 'rt', 'Sub_id', within=['cond'])\n",
    "res = aovrm.fit()\n",
    "\n",
    "print(res)"
   ]
  },
  {
   "cell_type": "markdown",
   "metadata": {},
   "source": [
    "### Two-way repeated measure ANOVA"
   ]
  },
  {
   "cell_type": "code",
   "execution_count": 11,
   "metadata": {},
   "outputs": [
    {
     "data": {
      "text/html": [
       "<div>\n",
       "<style scoped>\n",
       "    .dataframe tbody tr th:only-of-type {\n",
       "        vertical-align: middle;\n",
       "    }\n",
       "\n",
       "    .dataframe tbody tr th {\n",
       "        vertical-align: top;\n",
       "    }\n",
       "\n",
       "    .dataframe thead th {\n",
       "        text-align: right;\n",
       "    }\n",
       "</style>\n",
       "<table border=\"1\" class=\"dataframe\">\n",
       "  <thead>\n",
       "    <tr style=\"text-align: right;\">\n",
       "      <th></th>\n",
       "      <th>Sub_id</th>\n",
       "      <th>rt</th>\n",
       "      <th>iv1</th>\n",
       "      <th>iv2</th>\n",
       "    </tr>\n",
       "  </thead>\n",
       "  <tbody>\n",
       "    <tr>\n",
       "      <th>0</th>\n",
       "      <td>1</td>\n",
       "      <td>1082.986553</td>\n",
       "      <td>noise</td>\n",
       "      <td>down</td>\n",
       "    </tr>\n",
       "    <tr>\n",
       "      <th>1</th>\n",
       "      <td>2</td>\n",
       "      <td>938.799689</td>\n",
       "      <td>noise</td>\n",
       "      <td>down</td>\n",
       "    </tr>\n",
       "    <tr>\n",
       "      <th>2</th>\n",
       "      <td>3</td>\n",
       "      <td>1101.470970</td>\n",
       "      <td>noise</td>\n",
       "      <td>down</td>\n",
       "    </tr>\n",
       "    <tr>\n",
       "      <th>3</th>\n",
       "      <td>4</td>\n",
       "      <td>1123.030275</td>\n",
       "      <td>noise</td>\n",
       "      <td>down</td>\n",
       "    </tr>\n",
       "    <tr>\n",
       "      <th>4</th>\n",
       "      <td>5</td>\n",
       "      <td>938.051589</td>\n",
       "      <td>noise</td>\n",
       "      <td>down</td>\n",
       "    </tr>\n",
       "  </tbody>\n",
       "</table>\n",
       "</div>"
      ],
      "text/plain": [
       "   Sub_id           rt    iv1   iv2\n",
       "0       1  1082.986553  noise  down\n",
       "1       2   938.799689  noise  down\n",
       "2       3  1101.470970  noise  down\n",
       "3       4  1123.030275  noise  down\n",
       "4       5   938.051589  noise  down"
      ]
     },
     "execution_count": 11,
     "metadata": {},
     "output_type": "execute_result"
    }
   ],
   "source": [
    "df = pd.read_csv('Data_rmAOV2way.csv')\n",
    "df.head()"
   ]
  },
  {
   "cell_type": "code",
   "execution_count": 10,
   "metadata": {},
   "outputs": [
    {
     "name": "stdout",
     "output_type": "stream",
     "text": [
      "                 Anova\n",
      "========================================\n",
      "         F Value  Num DF  Den DF  Pr > F\n",
      "----------------------------------------\n",
      "iv1     2207.0162 1.0000  59.0000 0.0000\n",
      "iv2      275.4144 2.0000 118.0000 0.0000\n",
      "iv1:iv2    1.8651 2.0000 118.0000 0.1594\n",
      "========================================\n",
      "\n"
     ]
    }
   ],
   "source": [
    "df2way = pd.read_csv('Data_rmAOV2way.csv')\n",
    "aovrm2way = AnovaRM(df2way, 'rt', 'Sub_id', within=['iv1', 'iv2'])\n",
    "res2way = aovrm2way.fit()\n",
    "\n",
    "print(res2way)"
   ]
  }
 ],
 "metadata": {
  "kernelspec": {
   "display_name": "Python 3 (ipykernel)",
   "language": "python",
   "name": "python3"
  },
  "language_info": {
   "codemirror_mode": {
    "name": "ipython",
    "version": 3
   },
   "file_extension": ".py",
   "mimetype": "text/x-python",
   "name": "python",
   "nbconvert_exporter": "python",
   "pygments_lexer": "ipython3",
   "version": "3.9.7"
  }
 },
 "nbformat": 4,
 "nbformat_minor": 4
}
