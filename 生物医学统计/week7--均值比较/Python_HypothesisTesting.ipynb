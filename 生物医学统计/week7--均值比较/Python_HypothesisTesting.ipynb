{
 "cells": [
  {
   "cell_type": "markdown",
   "metadata": {},
   "source": [
    "## 生物医学统计概论 - 第2单元 - @林关宁\n",
    "\n",
    "## 假设检验\n"
   ]
  },
  {
   "cell_type": "markdown",
   "metadata": {},
   "source": [
    "### T 检验的统计假设检验框架\n",
    "\n",
    "* 是否有一个样本要与指定值进行比较？做一个样本 $t$ 检验。例如，假设大家都知道橡子的平均质量是10克，你想测试一下它们来自酸雨森林的橡子质量是否有显著的不同。\n",
    "\n",
    "* 是否有两个相互比较的独立样品吗？做一个独立的样本 $t$ 检验。例如，假设你从一个上风森林和一个煤电厂的下风森林中采集橡子样本，你想测试两个样本中橡子的平均质量是否相同。\n",
    "\n",
    "* 是否有两个相依样本是从同一个人或物体中提取的？做配对样本 $t$ 检验。例如，假设你测量了当地一个森林中50棵树的橡子平均质量，你想看看在发电厂从煤转化为天然气前后的橡子的质量是否有差异。"
   ]
  },
  {
   "cell_type": "code",
   "execution_count": 1,
   "metadata": {},
   "outputs": [],
   "source": [
    "import numpy as np\n",
    "import pandas as pd\n",
    "import scipy.stats as stats\n",
    "from scipy.stats import ttest_1samp\n",
    "import matplotlib.pyplot as plt"
   ]
  },
  {
   "cell_type": "markdown",
   "metadata": {},
   "source": [
    "### 单样本假设检验 - 关于总体平均值是否等于零假设中指定值\n",
    "One-sample location test on whether the mean of a population is equal to a value specified in null hypothesis\n",
    "\n",
    "The mass of a sample of N=20 acorns from a forest subjected to acid rain from a coal power plant are m = 8.8, 6.6, 9.5, 11.2, 10.2, 7.4, 8.0, 9.6, 9.9, 9.0, 7.6, 7.4, 10.4, 11.1, 8.5, 10.0, 11.6, 10.7, 10.3, and 7.0 g. \n",
    "\n",
    "Is the average mass of this sample different from the average mass of all acorns of $\\mu$ = 10.0 g?\n",
    "\n",
    "* $H_0: \\bar{x} - \\mu = 0$, that is there is no difference between my sample mean and the value of \\mu.\n",
    "* $H_a: \\bar{x} - \\mu ≠ 0$ (two-sided test)\n",
    "* $α$ = 0.05\n",
    "\n",
    "### t-table\n",
    "\n",
    "* degrees of freedom: $df = N-1$\n",
    "* $t$-critical for specified alpha level: $t_*$ = 2.093\n",
    "* $t$-statistic: $t = (\\bar{x} - \\mu)/(s/sqrt(N))$ where s is the sample standard deviation."
   ]
  },
  {
   "cell_type": "code",
   "execution_count": 2,
   "metadata": {
    "scrolled": true
   },
   "outputs": [
    {
     "name": "stdout",
     "output_type": "stream",
     "text": [
      "t-statistic:  -2.2491611580763977\n",
      "t =  -2.2491611580763973 , p =  0.03655562279112415\n",
      "we reject null hypothesis\n"
     ]
    }
   ],
   "source": [
    "x = [8.8, 6.6, 9.5, 11.2, 10.2, 7.4, 8.0, 9.6, 9.9, 9.0,\n",
    "     7.6, 7.4, 10.4, 11.1, 8.5, 10.0, 11.6, 10.7, 10.3, 7.0]\n",
    "mu = 10\n",
    "#t_critical = 2.093\n",
    "x_bar = np.array(x).mean()\n",
    "s = np.array(x).std(ddof=1) # subtract 1 from N to get unbiased estimate of sample standard deviation\n",
    "N = len(x)\n",
    "SE = s/np.sqrt(N)\n",
    "t = (x_bar - mu)/SE\n",
    "print(\"t-statistic: \",t)\n",
    "\n",
    "# a one sample t-test that gives you the p-value too can be done with scipy as follows:\n",
    "t, p = stats.ttest_1samp(x, mu)\n",
    "print(\"t = \", t, \", p = \", p)\n",
    "\n",
    "if p <0.05:\n",
    "  print(\"we reject null hypothesis\")\n",
    "else:\n",
    "  print(\"we accept null hypothesis\")"
   ]
  },
  {
   "cell_type": "markdown",
   "metadata": {},
   "source": [
    "Note that statistical signficance doesn mean the effect is large. Let's report the 95% confidence intervals too.\n",
    "\n",
    "请注意，统计结果显著 并不意味着效应量也大。我们最好同时也报告95%的置信区间！"
   ]
  },
  {
   "cell_type": "code",
   "execution_count": 4,
   "metadata": {},
   "outputs": [
    {
     "name": "stdout",
     "output_type": "stream",
     "text": [
      "CI using scipy:  (8.532759313560822, 9.947240686439175)\n"
     ]
    }
   ],
   "source": [
    "# you can also get CIs by using the build int t-distribution function like this:\n",
    "print(\"CI using scipy: \",stats.t.interval(0.95, N-1, loc=x_bar, scale=SE))"
   ]
  },
  {
   "cell_type": "markdown",
   "metadata": {},
   "source": [
    "### 俩独立样本的假设检验\n",
    "Independent (unpaird) two-sample location test with a null hypothesis that the means of the two samples are equal (equal variance assued)\n",
    "\n",
    "The mass of $N_1=20$ acorns from oak trees up wind from a coal power plant and $N_2$=30 acorns from oak trees down wind from the same coal power plant are mesured. \n",
    "\n",
    "Are the acorns from trees downwind less massive then the ones from up wind? \n",
    "\n",
    "This will require a one-tail (on the low/left side) test. The sample sizes are not equal but we will assume that the population variance of sample 1 and sample 2 are equal. If we don't make the assumption of equal variance then we do a Welch's $t$-test.\n",
    "\n",
    "* $H_0: x̄_1 = x̄_2$,  or   $x̄_2 - x̄_1 = 0$, that is, there is no difference between the sample means\n",
    "* $H_a: x̄_2 < x̄_1$,  or   $x̄_2 - x̄_1 < 0$\n",
    "* $α$ = 0.05\n",
    "\n",
    "### t-table\n",
    "\n",
    "* degrees of freedom: $df_1= N_1 - 1 = 19, df_2= N_2 - 1 = 29, df = df_1 + df_2 = N_1 + N_2 - 2 = 48$\n",
    "* t-critical for specified alpha level: $t_* = -1.677$ (one-tailed, left-side)\n",
    "* t-statistic: $t = \\frac{x̄_2 - x̄_1} {s_p \\sqrt{\\frac{1}{N_1} + \\frac{1}{N_2}}} $\n",
    "* pooled variance: $s_p = \\sqrt{ \\frac{(d_1) s_1^2 + (d_2) s_2^2}{df}}$ "
   ]
  },
  {
   "cell_type": "code",
   "execution_count": 5,
   "metadata": {},
   "outputs": [
    {
     "name": "stdout",
     "output_type": "stream",
     "text": [
      "t-statistic -3.5981947686898033\n",
      "t =  -3.5981947686898033 , p_two-sided =  0.0007560337478801464 , p_one-sided = 0.0003780168739400732\n"
     ]
    }
   ],
   "source": [
    "# sample up wind\n",
    "x1 = [10.8, 10.0, 8.2, 9.9, 11.6, 10.1, 11.3, 10.3, 10.7, 9.7, \n",
    "      7.8, 9.6, 9.7, 11.6, 10.3, 9.8, 12.3, 11.0, 10.4, 10.4]\n",
    "\n",
    "# sample down wind\n",
    "x2 = [7.8, 7.5, 9.5, 11.7, 8.1, 8.8, 8.8, 7.7, 9.7, 7.0, \n",
    "      9.0, 9.7, 11.3, 8.7, 8.8, 10.9, 10.3, 9.6, 8.4, 6.6,\n",
    "      7.2, 7.6, 11.5, 6.6, 8.6, 10.5, 8.4, 8.5, 10.2, 9.2]\n",
    "\n",
    "# equal sample size and assume equal population variance\n",
    "t_critical = 1.677\n",
    "N1 = len(x1)\n",
    "N2 = len(x2)\n",
    "d1 = N1-1\n",
    "d2 = N2-1\n",
    "df = d1+d2\n",
    "s1 = np.std(x1,ddof=1)\n",
    "s2 = np.std(x2,ddof=1)\n",
    "x1_bar = np.mean(x1)\n",
    "x2_bar = np.mean(x2)\n",
    "\n",
    "sp = np.sqrt((d1*s1**2 + d2*s2**2)/df)\n",
    "se = sp*np.sqrt(1/N1 + 1/N2)\n",
    "t = (x2_bar - x1_bar)/(se)\n",
    "print(\"t-statistic\", t)\n",
    "\n",
    "# a two-sample independent t-test is done with scipy as follows\n",
    "# NOTE: the p-value given is two-sided so the one-sided p value would be p/2\n",
    "t, p_twosided = stats.ttest_ind(x2, x1, equal_var=True)\n",
    "print(\"t = \",t, \", p_two-sided = \", p_twosided, \", p_one-sided =\", p_twosided/2)"
   ]
  },
  {
   "cell_type": "markdown",
   "metadata": {},
   "source": [
    "### 估算效应量 Estimating Effect Size\n",
    "因为上面计算的$t$统计量小于$t$-临界，所以拒绝了零假设，接受备择假设。 \n",
    "\n",
    "仅仅因为两个样本之间存在统计上的显著差异并不一定意味着差异是有意义的。 \n",
    "\n",
    "我们需要同时计算下置信区间和效应量, Cohen's d\n",
    "* Cohen's d,  d = (mean  deviation) / (pooled  standard  deviation) = $\\frac{x̄_2 - x̄_1}{s_p} $"
   ]
  },
  {
   "cell_type": "code",
   "execution_count": 6,
   "metadata": {},
   "outputs": [
    {
     "name": "stdout",
     "output_type": "stream",
     "text": [
      "Confidence Interval:\n",
      "x2_bar - x1_bar =  -1.3350000000000026 , 95% CI  (-2.0809844644533113, -0.589015535546694)\n",
      "Cohen's Effect Size, d:\n",
      "d =  -1.0387093591498806\n"
     ]
    }
   ],
   "source": [
    "print(\"Confidence Interval:\")\n",
    "print(\"x2_bar - x1_bar = \", x2_bar - x1_bar, \", 95% CI \",stats.t.interval(0.95, df, loc=x2_bar-x1_bar, scale=se))\n",
    "print(\"Cohen's Effect Size, d:\")\n",
    "print(\"d = \", (x2_bar - x1_bar)/sp)"
   ]
  },
  {
   "cell_type": "markdown",
   "metadata": {},
   "source": [
    "### 配对样本 \n",
    "Paired samples (dependent/repeated measures) t-test with a null hypothesis that the mean difference is a specified constant (usually zero)\n",
    "\n",
    "The average mass of acorns from the same N=30 trees downwind of a power plant is measured before ($x_1$) and after ($x_2$) the power plant converts from burning coal to buring natural gas. Does the mass of the acorns increase after the conversion from coal to natural gas? This will require a one-tail (on the low/left side) test.\n",
    "\n",
    "* $H_0: x̄_2 - x̄_1 = 0$, that is , there is no difference between the sample means\n",
    "* $H_a: x̄_2 - x̄_1 > 0$\n",
    "* $α$ = 0.05\n",
    "\n",
    "### t-table\n",
    "* degrees of freedom: df = N-1 = 29\n",
    "* t-critical for specified alpha level: $t_*$ = 1.677 (one-tailed, right-side)\n",
    "* mean difference: x̄_diff = $x̄_2 - x̄_1$\n",
    "* t-statistic: t = (x̄_diff - 0)/(s_diff / sqrt(N))\n",
    "* standard deviation of difference: sd = sqrt($s_1^2/N_1 + s_2^2/N_2$)\n"
   ]
  },
  {
   "cell_type": "code",
   "execution_count": 7,
   "metadata": {},
   "outputs": [
    {
     "name": "stdout",
     "output_type": "stream",
     "text": [
      "t =  3.9054390813265063\n",
      "t =  3.905439081326491 , p =  0.0002584344912342189\n",
      "d =  0.7130323606015934\n"
     ]
    }
   ],
   "source": [
    "# sample before conversion to nat. gas\n",
    "x1 = np.array([10.8, 6.4, 8.3, 7.6, 11.4, 9.9, 10.6, 8.7, 8.1, 10.9,\n",
    "      11.0, 11.8, 7.3, 9.6, 9.3, 9.9, 9.0, 9.5, 10.6, 10.3,\n",
    "      8.8, 12.3, 8.9, 10.5, 11.6, 7.6, 8.9, 10.4, 10.2, 8.8])\n",
    "# sample after conversion to nat. gas\n",
    "x2 = np.array([10.1, 6.9, 8.6, 8.8, 12.1, 11.3, 12.4, 9.3, 9.3, 10.8,\n",
    "      12.4, 11.5, 7.4, 10.0, 11.1, 10.6, 9.4, 9.5, 10.0, 10.0,\n",
    "      9.7, 13.5, 9.6, 11.6, 11.7, 7.9, 8.6, 10.8, 9.5, 9.6])\n",
    "N = len(x2)\n",
    "xbar_diff = np.mean(x2) - np.mean(x1) # could also do np.mean(x2 - x1))\n",
    "sdiff = np.std(x2-x1,ddof=1)\n",
    "t = xbar_diff / (sdiff/np.sqrt(N))\n",
    "print(\"t = \", t)\n",
    "\n",
    "t, p = stats.ttest_rel(x2, x1) # using scipy\n",
    "print(\"t = \", t, \", p = \", p/2) # divide by two because we are doing a one-tail test\n",
    "\n",
    "d = xbar_diff / sdiff\n",
    "print(\"d = \", d) # chohen's d"
   ]
  },
  {
   "cell_type": "code",
   "execution_count": null,
   "metadata": {},
   "outputs": [],
   "source": []
  }
 ],
 "metadata": {
  "kernelspec": {
   "display_name": "Python 3",
   "language": "python",
   "name": "python3"
  },
  "language_info": {
   "codemirror_mode": {
    "name": "ipython",
    "version": 3
   },
   "file_extension": ".py",
   "mimetype": "text/x-python",
   "name": "python",
   "nbconvert_exporter": "python",
   "pygments_lexer": "ipython3",
   "version": "3.7.6"
  }
 },
 "nbformat": 4,
 "nbformat_minor": 4
}
