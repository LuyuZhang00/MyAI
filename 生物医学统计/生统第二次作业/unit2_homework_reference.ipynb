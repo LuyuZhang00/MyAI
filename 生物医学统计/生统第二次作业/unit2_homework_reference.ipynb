{
 "cells": [
  {
   "cell_type": "markdown",
   "metadata": {},
   "source": [
    "# Part-1 ：CI and Null hypothesis significance test (NHST):\n",
    "### 作业中的x2对应了本脚本中的x3"
   ]
  },
  {
   "cell_type": "code",
   "execution_count": 3,
   "metadata": {},
   "outputs": [],
   "source": [
    "import numpy as np\n",
    "import scipy.stats as stats\n",
    "import bootstrapped.bootstrap as bs\n",
    "import bootstrapped.stats_functions as bs_stats"
   ]
  },
  {
   "cell_type": "code",
   "execution_count": 3,
   "metadata": {},
   "outputs": [],
   "source": [
    "n1=25\n",
    "np.random.seed(100)\n",
    "x1=stats.norm.rvs(3,3,n1)+stats.uniform.rvs(-1,1,n1)\n",
    "x2=stats.f.rvs(2,30,0,1,n1)**2+stats.uniform.rvs(-1,1,n1)\n",
    "x3=stats.uniform.rvs(-1,1,n1)**2+x1"
   ]
  },
  {
   "cell_type": "markdown",
   "metadata": {},
   "source": [
    "## （1）请检验x1,x2,x3的正态性；然后根据正态性"
   ]
  },
  {
   "cell_type": "code",
   "execution_count": 6,
   "metadata": {},
   "outputs": [
    {
     "name": "stdout",
     "output_type": "stream",
     "text": [
      "0.814449667930603\n",
      "2.5173179096782405e-07\n",
      "0.6074895262718201\n"
     ]
    }
   ],
   "source": [
    "print(stats.shapiro(x1)[1])\n",
    "print(stats.shapiro(x2)[1])\n",
    "print(stats.shapiro(x3)[1])"
   ]
  },
  {
   "cell_type": "markdown",
   "metadata": {},
   "source": [
    "x2正态性检验p值小于0.05，不满足正态性分布；x1，x3正态性检验p值大于0.05，视为满足正态性分布要求"
   ]
  },
  {
   "cell_type": "markdown",
   "metadata": {},
   "source": [
    "## （2）计算x1,x2,x3对应总体均值的99% CI"
   ]
  },
  {
   "cell_type": "code",
   "execution_count": 8,
   "metadata": {},
   "outputs": [
    {
     "data": {
      "text/plain": [
       "(1.2936857237899495, 4.1922367478347846)"
      ]
     },
     "execution_count": 8,
     "metadata": {},
     "output_type": "execute_result"
    }
   ],
   "source": [
    "stats.t.interval(0.99, len(x1) - 1, loc=np.mean(x1), scale=stats.sem(x1))"
   ]
  },
  {
   "cell_type": "code",
   "execution_count": 12,
   "metadata": {},
   "outputs": [
    {
     "data": {
      "text/plain": [
       "3.1733801491355123    (0.26648299882659116, 7.430197473056889)"
      ]
     },
     "execution_count": 12,
     "metadata": {},
     "output_type": "execute_result"
    }
   ],
   "source": [
    "bs.bootstrap(x2, stat_func=bs_stats.mean, alpha=0.01, is_pivotal=False)"
   ]
  },
  {
   "cell_type": "code",
   "execution_count": 13,
   "metadata": {},
   "outputs": [
    {
     "data": {
      "text/plain": [
       "(1.5525518558575799, 4.4572687891730665)"
      ]
     },
     "execution_count": 13,
     "metadata": {},
     "output_type": "execute_result"
    }
   ],
   "source": [
    "stats.t.interval(0.99, len(x3) - 1, loc=np.mean(x3), scale=stats.sem(x3))"
   ]
  },
  {
   "cell_type": "markdown",
   "metadata": {},
   "source": [
    "如上，对x1, x3使用t分布进行区间估计；使用非参数方法bootstrap对x2进行区间估计。\n",
    "\n",
    "x1：(1.2936857237899495, 4.1922367478347846)\n",
    "\n",
    "x2：(0.26648299882659116, 7.430197473056889)\n",
    "\n",
    "x3：(1.5525518558575799, 4.4572687891730665)"
   ]
  },
  {
   "cell_type": "markdown",
   "metadata": {},
   "source": [
    "## （3）计算x3，x1总体均值差值的95% CI"
   ]
  },
  {
   "cell_type": "markdown",
   "metadata": {},
   "source": [
    "因题中表意不清，同学们出现了两类答案，1)认为x1, x3互为独立样本；2)因为x3=stats.uniform.rvs(-1,1,n1)**2+x1，将x1，x3视为配对样本。两类回答按照对应方法解答均给分（且与1.5题解法配对）"
   ]
  },
  {
   "cell_type": "markdown",
   "metadata": {},
   "source": [
    "### 互为独立样本解法 "
   ]
  },
  {
   "cell_type": "markdown",
   "metadata": {},
   "source": [
    "该方法需要先验证x1，x3的方差齐性，如p>0.05则可视为总体方差相等进行后续计算。"
   ]
  },
  {
   "cell_type": "code",
   "execution_count": 15,
   "metadata": {},
   "outputs": [
    {
     "name": "stdout",
     "output_type": "stream",
     "text": [
      "variance homogeneity test p-value: 0.9292708195609058\n"
     ]
    }
   ],
   "source": [
    "print('variance homogeneity test p-value: {}'.format(stats.levene(x1, x3)[1]))"
   ]
  },
  {
   "cell_type": "markdown",
   "metadata": {},
   "source": [
    "方差齐性检验p>0.05,且x1，x3均满足正态分布，所以使用方差未知但相等的公式进行后续计算（公式见课件）ps:区间正负号均取反也正确"
   ]
  },
  {
   "cell_type": "code",
   "execution_count": 16,
   "metadata": {},
   "outputs": [
    {
     "name": "stdout",
     "output_type": "stream",
     "text": [
      "CI of diff between x1 and x3 is [-1.736901428471208,1.2130032550652963]\n"
     ]
    }
   ],
   "source": [
    "alpha = 0.05\n",
    "n1, n2 = len(x1), len(x3)\n",
    "var1 = np.var(x1, ddof=1)\n",
    "var2 = np.var(x3, ddof=1)\n",
    "sp = np.sqrt(((n1 - 1) * var1 + (n2 - 1) * var2) / (n1 + n2 - 2))\n",
    "m = np.mean(x1) - np.mean(x3)\n",
    "t = stats.t.isf(alpha / 2, n1 + n2 - 2, 0, 1)\n",
    "moe = sp * t * np.sqrt(1 / n1 + 1 / n2)\n",
    "ci_low = m - moe\n",
    "ci_high = m + moe\n",
    "print('CI of diff between x1 and x3 is [{0},{1}]'.format(ci_low, ci_high))"
   ]
  },
  {
   "cell_type": "markdown",
   "metadata": {},
   "source": [
    "### 配对样本解法 "
   ]
  },
  {
   "cell_type": "code",
   "execution_count": 17,
   "metadata": {},
   "outputs": [
    {
     "data": {
      "text/plain": [
       "(-0.37434272763008009, -0.14955544577583174)"
      ]
     },
     "execution_count": 17,
     "metadata": {},
     "output_type": "execute_result"
    }
   ],
   "source": [
    "tmp = x1 - x3\n",
    "stats.t.interval(0.95, len(tmp) - 1, loc=np.mean(tmp), scale=stats.sem(tmp))"
   ]
  },
  {
   "cell_type": "markdown",
   "metadata": {},
   "source": [
    "## （4）利用置信区间和NHST两种方法推断x1来自的总体均值是否大于2.0"
   ]
  },
  {
   "cell_type": "markdown",
   "metadata": {},
   "source": [
    "一般零假设取无期望现象发生，在本题中为H0：x1总体均值小于等于2.0，所得结果为接受零假设。大部分同学取H0为x1总体均值大于2.0，得到对应结果也应为接受零假设。两者结果矛盾，但均为正确，这是由于零假设设定的差异导致的。（下文以H0为x1总体均值小于等于2.0进行演示）"
   ]
  },
  {
   "cell_type": "markdown",
   "metadata": {},
   "source": [
    "H0:x1总体均值小于等于2.0\n",
    "\n",
    "置信区间方法：使用单侧置信区间，本题零假设为小于等于，所以使用单侧置信区间下界，即(xxx, + ∞)\n",
    "\n",
    "NHST方法：使用单边NHST检验\n",
    "（两种方法其实为同一原理的不同表现方式）"
   ]
  },
  {
   "cell_type": "code",
   "execution_count": 18,
   "metadata": {},
   "outputs": [
    {
     "data": {
      "text/plain": [
       "(1.8564424183193413, 3.6294800533053926)"
      ]
     },
     "execution_count": 18,
     "metadata": {},
     "output_type": "execute_result"
    }
   ],
   "source": [
    "stats.t.interval(0.9, len(x1) - 1, loc=np.mean(x1), scale=stats.sem(x1))"
   ]
  },
  {
   "cell_type": "markdown",
   "metadata": {},
   "source": [
    "取双边0.9置信区间，通过截取下界即可获得0.95单侧置信区间(1.856, +∞)，单侧置信下界1.856小于2，说明在0.95单侧置信区间内无法说明x1总体均值大于2.0"
   ]
  },
  {
   "cell_type": "code",
   "execution_count": 21,
   "metadata": {},
   "outputs": [
    {
     "name": "stdout",
     "output_type": "stream",
     "text": [
      "2.74296123581\n",
      "0.0822606662401\n"
     ]
    }
   ],
   "source": [
    "print(np.mean(x1))\n",
    "print(stats.ttest_1samp(x1, 2)[1] / 2)"
   ]
  },
  {
   "cell_type": "markdown",
   "metadata": {},
   "source": [
    "使用单样本双边检验，检验所得p值除以2得到单边p值，p>0.05，接受零假设，无法说明x1来自的总体均值大于2.0"
   ]
  },
  {
   "cell_type": "markdown",
   "metadata": {},
   "source": [
    "## （5）利用置信区间和NHST两种方法推断x1,x3来自的总体均值是否相等；并计算effect size (Cohen's d)"
   ]
  },
  {
   "cell_type": "markdown",
   "metadata": {},
   "source": [
    "方法与1.3对应配套，H0：x1，x2来自的总体均值相等"
   ]
  },
  {
   "cell_type": "markdown",
   "metadata": {},
   "source": [
    "### 互为独立样本解法 "
   ]
  },
  {
   "cell_type": "code",
   "execution_count": 24,
   "metadata": {},
   "outputs": [
    {
     "name": "stdout",
     "output_type": "stream",
     "text": [
      "0.722593051839\n"
     ]
    }
   ],
   "source": [
    "print(stats.ttest_ind(x1, x3)[1])"
   ]
  },
  {
   "cell_type": "markdown",
   "metadata": {},
   "source": [
    "经过1.3的方差齐性检验，可将x1，x3视为总体方差相等进行cohen's d计算"
   ]
  },
  {
   "cell_type": "code",
   "execution_count": 27,
   "metadata": {},
   "outputs": [
    {
     "name": "stdout",
     "output_type": "stream",
     "text": [
      "-0.100999001346\n"
     ]
    }
   ],
   "source": [
    "def cohen_d(x,y):\n",
    "    nx = len(x)\n",
    "    ny = len(y)\n",
    "    dof = nx + ny - 2\n",
    "    return (np.mean(x) - np.mean(y)) / np.sqrt(((nx-1) * np.std(x, ddof=1) ** 2 + (ny-1) * np.std(y, ddof=1) ** 2) / dof)\n",
    "\n",
    "print(cohen_d(x1,x3))"
   ]
  },
  {
   "cell_type": "markdown",
   "metadata": {},
   "source": [
    "由1.3互为独立样本解法可得，x1与x3差值置信区间[-1.736901428471208,1.2130032550652963], 0位于95%置信区间内，接受零假设；t检验结果p值大于0.05，接受零假设；cohen's d为0.1（正负均可）"
   ]
  },
  {
   "cell_type": "markdown",
   "metadata": {},
   "source": [
    "### 配对样本解法 "
   ]
  },
  {
   "cell_type": "code",
   "execution_count": 28,
   "metadata": {},
   "outputs": [
    {
     "name": "stdout",
     "output_type": "stream",
     "text": [
      "6.7289136941e-05\n"
     ]
    }
   ],
   "source": [
    "print(stats.ttest_rel(x1, x3)[1])"
   ]
  },
  {
   "cell_type": "code",
   "execution_count": 30,
   "metadata": {},
   "outputs": [
    {
     "name": "stdout",
     "output_type": "stream",
     "text": [
      "-0.962040803744\n"
     ]
    }
   ],
   "source": [
    "cohen_d_rel = np.mean(x1 - x3) / np.std(x1 - x3, ddof=1)\n",
    "print(cohen_d_rel)"
   ]
  },
  {
   "cell_type": "markdown",
   "metadata": {},
   "source": [
    "由1.3配对样本解法，x1与x3差值置信区间[-0.37434272763008009, -0.14955544577583174]，0位于95%置信区间外，拒绝零假设；配对t检验结果p值小于0.05，拒绝零假设；cohen's d为0.96（正负均可）"
   ]
  },
  {
   "cell_type": "code",
   "execution_count": null,
   "metadata": {},
   "outputs": [],
   "source": [
    "# Part-2\n",
    "\n",
    "Solution\n",
    "(a) The p-value (0.003) is small so the decision is to reject H0 and conclude that the mean recall \n",
    "for sleep (¯xs = 15.25) is different from the mean recall for caffeine (¯xc = 12.25). Since the mean\n",
    "for the sleep group is higher than the mean for the caffeine group, we have sufficient evidence to\n",
    "conclude that mean recall after sleep is in fact better than after caffeine. Yes, sleep is really better\n",
    "for you than caffeine for enhancing recall ability.\n",
    "(b) The p-value (0.06) is not less than 0.05 so we would not reject H0 at a 5% level, but it is\n",
    "less than 0.10 so we would reject H0 at a 10% level. There is some moderate evidence of a difference \n",
    "in mean recall ability between sleep and a placebo, but not very strong evidence.\n",
    "(c) The p-value (0.22) is larger than any common significance level, so do not reject H0. The\n",
    "placebo group had a better mean recall in this sample (¯xp = 13.70 compared to ¯xc = 12.25), but\n",
    "there is not enough evidence to conclude that the mean for the population would be different for a\n",
    "placebo than the mean recall for caffeine.\n",
    "(d) Get a good night’s sleep!\n"
   ]
  },
  {
   "cell_type": "markdown",
   "metadata": {},
   "source": [
    "# Part-3 ：ANOVA   睡眠治疗实验"
   ]
  },
  {
   "cell_type": "code",
   "execution_count": 16,
   "metadata": {},
   "outputs": [],
   "source": [
    "import pingouin as pg\n",
    "import pandas as pd\n",
    "from statsmodels.formula.api import ols\n",
    "from statsmodels.stats.anova import anova_lm\n",
    "from statsmodels.stats.anova import AnovaRM"
   ]
  },
  {
   "cell_type": "markdown",
   "metadata": {},
   "source": [
    "每小题均需要对样本进行正态性和方差齐性检验，由于无论检验结果如何都进行后续anova检验，故在此省略。（缺少正态性及方差齐性检验每小题扣2分）\n",
    "\n",
    "以下所有小题均可使用同样效果的其他语句替代，所得结果不变"
   ]
  },
  {
   "cell_type": "markdown",
   "metadata": {},
   "source": [
    "##  （1）表单SleepExp_1.csv 是招募60名被试，随机分成三种不同剂量组（10mg, 50mg, 100mg)进行试验 ，表单Scores是治疗后被试的评分，请推断不同剂量组间是否有治疗效果差异？"
   ]
  },
  {
   "cell_type": "code",
   "execution_count": 11,
   "metadata": {},
   "outputs": [
    {
     "data": {
      "text/html": [
       "<div>\n",
       "<style scoped>\n",
       "    .dataframe tbody tr th:only-of-type {\n",
       "        vertical-align: middle;\n",
       "    }\n",
       "\n",
       "    .dataframe tbody tr th {\n",
       "        vertical-align: top;\n",
       "    }\n",
       "\n",
       "    .dataframe thead th {\n",
       "        text-align: right;\n",
       "    }\n",
       "</style>\n",
       "<table border=\"1\" class=\"dataframe\">\n",
       "  <thead>\n",
       "    <tr style=\"text-align: right;\">\n",
       "      <th></th>\n",
       "      <th>subjects</th>\n",
       "      <th>Dosage</th>\n",
       "      <th>Scores</th>\n",
       "    </tr>\n",
       "  </thead>\n",
       "  <tbody>\n",
       "    <tr>\n",
       "      <th>0</th>\n",
       "      <td>S1</td>\n",
       "      <td>10mg</td>\n",
       "      <td>73.686522</td>\n",
       "    </tr>\n",
       "    <tr>\n",
       "      <th>1</th>\n",
       "      <td>S2</td>\n",
       "      <td>10mg</td>\n",
       "      <td>70.611993</td>\n",
       "    </tr>\n",
       "    <tr>\n",
       "      <th>2</th>\n",
       "      <td>S3</td>\n",
       "      <td>10mg</td>\n",
       "      <td>84.661216</td>\n",
       "    </tr>\n",
       "    <tr>\n",
       "      <th>3</th>\n",
       "      <td>S4</td>\n",
       "      <td>10mg</td>\n",
       "      <td>59.702051</td>\n",
       "    </tr>\n",
       "    <tr>\n",
       "      <th>4</th>\n",
       "      <td>S5</td>\n",
       "      <td>10mg</td>\n",
       "      <td>69.836893</td>\n",
       "    </tr>\n",
       "  </tbody>\n",
       "</table>\n",
       "</div>"
      ],
      "text/plain": [
       "  subjects Dosage     Scores\n",
       "0       S1   10mg  73.686522\n",
       "1       S2   10mg  70.611993\n",
       "2       S3   10mg  84.661216\n",
       "3       S4   10mg  59.702051\n",
       "4       S5   10mg  69.836893"
      ]
     },
     "execution_count": 11,
     "metadata": {},
     "output_type": "execute_result"
    }
   ],
   "source": [
    "df = pd.read_csv('./samples/SleepExp_1.csv')\n",
    "df.head()"
   ]
  },
  {
   "cell_type": "code",
   "execution_count": 14,
   "metadata": {},
   "outputs": [
    {
     "data": {
      "text/html": [
       "<div>\n",
       "<style scoped>\n",
       "    .dataframe tbody tr th:only-of-type {\n",
       "        vertical-align: middle;\n",
       "    }\n",
       "\n",
       "    .dataframe tbody tr th {\n",
       "        vertical-align: top;\n",
       "    }\n",
       "\n",
       "    .dataframe thead th {\n",
       "        text-align: right;\n",
       "    }\n",
       "</style>\n",
       "<table border=\"1\" class=\"dataframe\">\n",
       "  <thead>\n",
       "    <tr style=\"text-align: right;\">\n",
       "      <th></th>\n",
       "      <th>df</th>\n",
       "      <th>sum_sq</th>\n",
       "      <th>mean_sq</th>\n",
       "      <th>F</th>\n",
       "      <th>PR(&gt;F)</th>\n",
       "    </tr>\n",
       "  </thead>\n",
       "  <tbody>\n",
       "    <tr>\n",
       "      <th>C(Dosage)</th>\n",
       "      <td>2.0</td>\n",
       "      <td>3438.030406</td>\n",
       "      <td>1719.015203</td>\n",
       "      <td>10.480888</td>\n",
       "      <td>0.000133</td>\n",
       "    </tr>\n",
       "    <tr>\n",
       "      <th>Residual</th>\n",
       "      <td>57.0</td>\n",
       "      <td>9348.813276</td>\n",
       "      <td>164.014268</td>\n",
       "      <td>NaN</td>\n",
       "      <td>NaN</td>\n",
       "    </tr>\n",
       "  </tbody>\n",
       "</table>\n",
       "</div>"
      ],
      "text/plain": [
       "             df       sum_sq      mean_sq          F    PR(>F)\n",
       "C(Dosage)   2.0  3438.030406  1719.015203  10.480888  0.000133\n",
       "Residual   57.0  9348.813276   164.014268        NaN       NaN"
      ]
     },
     "execution_count": 14,
     "metadata": {},
     "output_type": "execute_result"
    }
   ],
   "source": [
    "anova_lm(ols('Scores~C(Dosage)',data=df).fit())"
   ]
  },
  {
   "cell_type": "markdown",
   "metadata": {},
   "source": [
    "使用单样本ANOVA检验，p值小于0.05，说明剂量对治疗评分有显著影响"
   ]
  },
  {
   "cell_type": "markdown",
   "metadata": {},
   "source": [
    "## （2）表单SleepExp_2.csv是招募20名被试，每个被试连续进行了三种剂量治疗的（10mg, 50mg, 100mg)实验 ，表单Scores是每个剂量治疗后被试的评分，请推断不同剂量组间是否有治疗效果差异？"
   ]
  },
  {
   "cell_type": "code",
   "execution_count": 15,
   "metadata": {},
   "outputs": [
    {
     "data": {
      "text/html": [
       "<div>\n",
       "<style scoped>\n",
       "    .dataframe tbody tr th:only-of-type {\n",
       "        vertical-align: middle;\n",
       "    }\n",
       "\n",
       "    .dataframe tbody tr th {\n",
       "        vertical-align: top;\n",
       "    }\n",
       "\n",
       "    .dataframe thead th {\n",
       "        text-align: right;\n",
       "    }\n",
       "</style>\n",
       "<table border=\"1\" class=\"dataframe\">\n",
       "  <thead>\n",
       "    <tr style=\"text-align: right;\">\n",
       "      <th></th>\n",
       "      <th>Subjects</th>\n",
       "      <th>Dosage</th>\n",
       "      <th>Scores</th>\n",
       "    </tr>\n",
       "  </thead>\n",
       "  <tbody>\n",
       "    <tr>\n",
       "      <th>0</th>\n",
       "      <td>S1</td>\n",
       "      <td>10mg</td>\n",
       "      <td>59.497332</td>\n",
       "    </tr>\n",
       "    <tr>\n",
       "      <th>1</th>\n",
       "      <td>S2</td>\n",
       "      <td>10mg</td>\n",
       "      <td>95.574353</td>\n",
       "    </tr>\n",
       "    <tr>\n",
       "      <th>2</th>\n",
       "      <td>S3</td>\n",
       "      <td>10mg</td>\n",
       "      <td>79.346071</td>\n",
       "    </tr>\n",
       "    <tr>\n",
       "      <th>3</th>\n",
       "      <td>S4</td>\n",
       "      <td>10mg</td>\n",
       "      <td>65.558919</td>\n",
       "    </tr>\n",
       "    <tr>\n",
       "      <th>4</th>\n",
       "      <td>S5</td>\n",
       "      <td>10mg</td>\n",
       "      <td>68.947775</td>\n",
       "    </tr>\n",
       "  </tbody>\n",
       "</table>\n",
       "</div>"
      ],
      "text/plain": [
       "  Subjects Dosage     Scores\n",
       "0       S1   10mg  59.497332\n",
       "1       S2   10mg  95.574353\n",
       "2       S3   10mg  79.346071\n",
       "3       S4   10mg  65.558919\n",
       "4       S5   10mg  68.947775"
      ]
     },
     "execution_count": 15,
     "metadata": {},
     "output_type": "execute_result"
    }
   ],
   "source": [
    "df = pd.read_csv('./samples/SleepExp_2.csv')\n",
    "df.head()"
   ]
  },
  {
   "cell_type": "code",
   "execution_count": 17,
   "metadata": {},
   "outputs": [
    {
     "name": "stdout",
     "output_type": "stream",
     "text": [
      "               Anova\n",
      "====================================\n",
      "       F Value Num DF  Den DF Pr > F\n",
      "------------------------------------\n",
      "Dosage  2.4209 2.0000 38.0000 0.1024\n",
      "====================================\n",
      "\n"
     ]
    }
   ],
   "source": [
    "aovrm = AnovaRM(df, 'Scores', 'Subjects', within=['Dosage'])\n",
    "res = aovrm.fit()\n",
    "\n",
    "print(res)"
   ]
  },
  {
   "cell_type": "markdown",
   "metadata": {},
   "source": [
    "使用非独立样本ANOVA检验，p值大于0.05，说明剂量对治疗评分影响不显著"
   ]
  },
  {
   "cell_type": "markdown",
   "metadata": {},
   "source": [
    "##  （3）表单SleepExp_3.csv是招募了30名被试，每个被试连续进行了三种剂量治疗的（10mg, 50mg, 100mg)实验 ，表单Scores是每个剂量治疗后被试的评分，请推断剂量、性别、及剂量与性别相互作用的效应分别对治疗评分的影响是否显著？"
   ]
  },
  {
   "cell_type": "code",
   "execution_count": 18,
   "metadata": {},
   "outputs": [
    {
     "data": {
      "text/html": [
       "<div>\n",
       "<style scoped>\n",
       "    .dataframe tbody tr th:only-of-type {\n",
       "        vertical-align: middle;\n",
       "    }\n",
       "\n",
       "    .dataframe tbody tr th {\n",
       "        vertical-align: top;\n",
       "    }\n",
       "\n",
       "    .dataframe thead th {\n",
       "        text-align: right;\n",
       "    }\n",
       "</style>\n",
       "<table border=\"1\" class=\"dataframe\">\n",
       "  <thead>\n",
       "    <tr style=\"text-align: right;\">\n",
       "      <th></th>\n",
       "      <th>Subjects</th>\n",
       "      <th>Dosage</th>\n",
       "      <th>Scores</th>\n",
       "      <th>Gender</th>\n",
       "    </tr>\n",
       "  </thead>\n",
       "  <tbody>\n",
       "    <tr>\n",
       "      <th>0</th>\n",
       "      <td>S1</td>\n",
       "      <td>10mg</td>\n",
       "      <td>73.307958</td>\n",
       "      <td>Female</td>\n",
       "    </tr>\n",
       "    <tr>\n",
       "      <th>1</th>\n",
       "      <td>S2</td>\n",
       "      <td>10mg</td>\n",
       "      <td>80.138753</td>\n",
       "      <td>Female</td>\n",
       "    </tr>\n",
       "    <tr>\n",
       "      <th>2</th>\n",
       "      <td>S3</td>\n",
       "      <td>10mg</td>\n",
       "      <td>75.630965</td>\n",
       "      <td>Female</td>\n",
       "    </tr>\n",
       "    <tr>\n",
       "      <th>3</th>\n",
       "      <td>S4</td>\n",
       "      <td>10mg</td>\n",
       "      <td>77.649084</td>\n",
       "      <td>Female</td>\n",
       "    </tr>\n",
       "    <tr>\n",
       "      <th>4</th>\n",
       "      <td>S5</td>\n",
       "      <td>10mg</td>\n",
       "      <td>84.920238</td>\n",
       "      <td>Female</td>\n",
       "    </tr>\n",
       "  </tbody>\n",
       "</table>\n",
       "</div>"
      ],
      "text/plain": [
       "  Subjects Dosage     Scores  Gender\n",
       "0       S1   10mg  73.307958  Female\n",
       "1       S2   10mg  80.138753  Female\n",
       "2       S3   10mg  75.630965  Female\n",
       "3       S4   10mg  77.649084  Female\n",
       "4       S5   10mg  84.920238  Female"
      ]
     },
     "execution_count": 18,
     "metadata": {},
     "output_type": "execute_result"
    }
   ],
   "source": [
    "df = pd.read_csv('./samples/SleepExp_3.csv')\n",
    "df.head()"
   ]
  },
  {
   "cell_type": "code",
   "execution_count": 19,
   "metadata": {},
   "outputs": [
    {
     "data": {
      "text/html": [
       "<div>\n",
       "<style scoped>\n",
       "    .dataframe tbody tr th:only-of-type {\n",
       "        vertical-align: middle;\n",
       "    }\n",
       "\n",
       "    .dataframe tbody tr th {\n",
       "        vertical-align: top;\n",
       "    }\n",
       "\n",
       "    .dataframe thead th {\n",
       "        text-align: right;\n",
       "    }\n",
       "</style>\n",
       "<table border=\"1\" class=\"dataframe\">\n",
       "  <thead>\n",
       "    <tr style=\"text-align: right;\">\n",
       "      <th></th>\n",
       "      <th>Source</th>\n",
       "      <th>SS</th>\n",
       "      <th>DF1</th>\n",
       "      <th>DF2</th>\n",
       "      <th>MS</th>\n",
       "      <th>F</th>\n",
       "      <th>p-unc</th>\n",
       "      <th>np2</th>\n",
       "      <th>eps</th>\n",
       "    </tr>\n",
       "  </thead>\n",
       "  <tbody>\n",
       "    <tr>\n",
       "      <th>0</th>\n",
       "      <td>Gender</td>\n",
       "      <td>84.627</td>\n",
       "      <td>1</td>\n",
       "      <td>28</td>\n",
       "      <td>84.627</td>\n",
       "      <td>2.178</td>\n",
       "      <td>1.511432e-01</td>\n",
       "      <td>0.072</td>\n",
       "      <td>-</td>\n",
       "    </tr>\n",
       "    <tr>\n",
       "      <th>1</th>\n",
       "      <td>Dosage</td>\n",
       "      <td>931.005</td>\n",
       "      <td>2</td>\n",
       "      <td>56</td>\n",
       "      <td>465.502</td>\n",
       "      <td>19.115</td>\n",
       "      <td>4.699411e-07</td>\n",
       "      <td>0.406</td>\n",
       "      <td>0.957</td>\n",
       "    </tr>\n",
       "    <tr>\n",
       "      <th>2</th>\n",
       "      <td>Interaction</td>\n",
       "      <td>47.620</td>\n",
       "      <td>2</td>\n",
       "      <td>56</td>\n",
       "      <td>23.810</td>\n",
       "      <td>0.978</td>\n",
       "      <td>3.825007e-01</td>\n",
       "      <td>0.034</td>\n",
       "      <td>-</td>\n",
       "    </tr>\n",
       "  </tbody>\n",
       "</table>\n",
       "</div>"
      ],
      "text/plain": [
       "        Source       SS  DF1  DF2       MS       F         p-unc    np2    eps\n",
       "0       Gender   84.627    1   28   84.627   2.178  1.511432e-01  0.072      -\n",
       "1       Dosage  931.005    2   56  465.502  19.115  4.699411e-07  0.406  0.957\n",
       "2  Interaction   47.620    2   56   23.810   0.978  3.825007e-01  0.034      -"
      ]
     },
     "execution_count": 19,
     "metadata": {},
     "output_type": "execute_result"
    }
   ],
   "source": [
    "pg.mixed_anova(data=df, dv='Scores', within='Dosage', between='Gender', subject='Subjects')"
   ]
  },
  {
   "cell_type": "markdown",
   "metadata": {},
   "source": [
    "使用混合ANOVA检验，注意within='Dosage', between='Gender'，所得结果p值说明剂量对治疗得分有显著影响，性别/性别与剂量的相互作用对治疗得分没有显著影响。"
   ]
  },
  {
   "cell_type": "markdown",
   "metadata": {},
   "source": [
    "##  （4）表单SleepExp_4.csv是招募了15名被试，每个被试分别在春季，秋季都连续进行了三种剂量治疗的（10mg, 50mg, 100mg)实验 ，表单Scores是每个剂量治疗后被试的评分，请推断剂量、季节、及剂量与季节相互作用的效应分别对治疗评分的影响是否显著？"
   ]
  },
  {
   "cell_type": "code",
   "execution_count": 21,
   "metadata": {},
   "outputs": [
    {
     "data": {
      "text/html": [
       "<div>\n",
       "<style scoped>\n",
       "    .dataframe tbody tr th:only-of-type {\n",
       "        vertical-align: middle;\n",
       "    }\n",
       "\n",
       "    .dataframe tbody tr th {\n",
       "        vertical-align: top;\n",
       "    }\n",
       "\n",
       "    .dataframe thead th {\n",
       "        text-align: right;\n",
       "    }\n",
       "</style>\n",
       "<table border=\"1\" class=\"dataframe\">\n",
       "  <thead>\n",
       "    <tr style=\"text-align: right;\">\n",
       "      <th></th>\n",
       "      <th>Subjects</th>\n",
       "      <th>Dosage</th>\n",
       "      <th>Scores</th>\n",
       "      <th>Season</th>\n",
       "    </tr>\n",
       "  </thead>\n",
       "  <tbody>\n",
       "    <tr>\n",
       "      <th>0</th>\n",
       "      <td>S1</td>\n",
       "      <td>10mg</td>\n",
       "      <td>70.542837</td>\n",
       "      <td>Spring</td>\n",
       "    </tr>\n",
       "    <tr>\n",
       "      <th>1</th>\n",
       "      <td>S2</td>\n",
       "      <td>10mg</td>\n",
       "      <td>78.720910</td>\n",
       "      <td>Spring</td>\n",
       "    </tr>\n",
       "    <tr>\n",
       "      <th>2</th>\n",
       "      <td>S3</td>\n",
       "      <td>10mg</td>\n",
       "      <td>81.931458</td>\n",
       "      <td>Spring</td>\n",
       "    </tr>\n",
       "    <tr>\n",
       "      <th>3</th>\n",
       "      <td>S4</td>\n",
       "      <td>10mg</td>\n",
       "      <td>70.631059</td>\n",
       "      <td>Spring</td>\n",
       "    </tr>\n",
       "    <tr>\n",
       "      <th>4</th>\n",
       "      <td>S5</td>\n",
       "      <td>10mg</td>\n",
       "      <td>85.274465</td>\n",
       "      <td>Spring</td>\n",
       "    </tr>\n",
       "  </tbody>\n",
       "</table>\n",
       "</div>"
      ],
      "text/plain": [
       "  Subjects Dosage     Scores  Season\n",
       "0       S1   10mg  70.542837  Spring\n",
       "1       S2   10mg  78.720910  Spring\n",
       "2       S3   10mg  81.931458  Spring\n",
       "3       S4   10mg  70.631059  Spring\n",
       "4       S5   10mg  85.274465  Spring"
      ]
     },
     "execution_count": 21,
     "metadata": {},
     "output_type": "execute_result"
    }
   ],
   "source": [
    "df = pd.read_csv('./samples/SleepExp_4.csv')\n",
    "df.head()"
   ]
  },
  {
   "cell_type": "code",
   "execution_count": 22,
   "metadata": {},
   "outputs": [
    {
     "data": {
      "text/html": [
       "<div>\n",
       "<style scoped>\n",
       "    .dataframe tbody tr th:only-of-type {\n",
       "        vertical-align: middle;\n",
       "    }\n",
       "\n",
       "    .dataframe tbody tr th {\n",
       "        vertical-align: top;\n",
       "    }\n",
       "\n",
       "    .dataframe thead th {\n",
       "        text-align: right;\n",
       "    }\n",
       "</style>\n",
       "<table border=\"1\" class=\"dataframe\">\n",
       "  <thead>\n",
       "    <tr style=\"text-align: right;\">\n",
       "      <th></th>\n",
       "      <th>Source</th>\n",
       "      <th>SS</th>\n",
       "      <th>ddof1</th>\n",
       "      <th>ddof2</th>\n",
       "      <th>MS</th>\n",
       "      <th>F</th>\n",
       "      <th>p-unc</th>\n",
       "      <th>p-GG-corr</th>\n",
       "      <th>np2</th>\n",
       "      <th>eps</th>\n",
       "    </tr>\n",
       "  </thead>\n",
       "  <tbody>\n",
       "    <tr>\n",
       "      <th>0</th>\n",
       "      <td>Dosage</td>\n",
       "      <td>2400.691</td>\n",
       "      <td>2</td>\n",
       "      <td>28</td>\n",
       "      <td>1200.346</td>\n",
       "      <td>36.566</td>\n",
       "      <td>1.555154e-08</td>\n",
       "      <td>3.795746e-07</td>\n",
       "      <td>0.723</td>\n",
       "      <td>0.788</td>\n",
       "    </tr>\n",
       "    <tr>\n",
       "      <th>1</th>\n",
       "      <td>Season</td>\n",
       "      <td>368.954</td>\n",
       "      <td>1</td>\n",
       "      <td>14</td>\n",
       "      <td>368.954</td>\n",
       "      <td>6.738</td>\n",
       "      <td>2.115423e-02</td>\n",
       "      <td>2.115423e-02</td>\n",
       "      <td>0.325</td>\n",
       "      <td>1.000</td>\n",
       "    </tr>\n",
       "    <tr>\n",
       "      <th>2</th>\n",
       "      <td>Dosage * Season</td>\n",
       "      <td>78.718</td>\n",
       "      <td>2</td>\n",
       "      <td>28</td>\n",
       "      <td>39.359</td>\n",
       "      <td>0.829</td>\n",
       "      <td>4.468987e-01</td>\n",
       "      <td>4.273312e-01</td>\n",
       "      <td>0.056</td>\n",
       "      <td>0.818</td>\n",
       "    </tr>\n",
       "  </tbody>\n",
       "</table>\n",
       "</div>"
      ],
      "text/plain": [
       "            Source        SS  ddof1  ddof2        MS       F         p-unc  \\\n",
       "0           Dosage  2400.691      2     28  1200.346  36.566  1.555154e-08   \n",
       "1           Season   368.954      1     14   368.954   6.738  2.115423e-02   \n",
       "2  Dosage * Season    78.718      2     28    39.359   0.829  4.468987e-01   \n",
       "\n",
       "      p-GG-corr    np2    eps  \n",
       "0  3.795746e-07  0.723  0.788  \n",
       "1  2.115423e-02  0.325  1.000  \n",
       "2  4.273312e-01  0.056  0.818  "
      ]
     },
     "execution_count": 22,
     "metadata": {},
     "output_type": "execute_result"
    }
   ],
   "source": [
    "pg.rm_anova(data=df, dv='Scores', subject='Subjects', within=['Dosage', 'Season'])"
   ]
  },
  {
   "cell_type": "markdown",
   "metadata": {},
   "source": [
    "使用非独立样本ANOVA检验，注意within=['Dosage', 'Season']，所得结果p值说明剂量/季节对治疗得分有显著影响，但是剂量与季节的相互作用对治疗得分没有显著影响"
   ]
  },
  {
   "cell_type": "markdown",
   "metadata": {},
   "source": [
    "##  （5）表单SleepExp_5.csv从上海、北京招募了90名被试，随机分成三种剂量治疗组（10mg, 50mg, 100mg) 进行睡眠实验，表单Scores是每个被试治疗后的评分，请推断剂量、城市、及剂量与城市相互作用的效应分别对治疗评分的影响是否显著？"
   ]
  },
  {
   "cell_type": "code",
   "execution_count": 23,
   "metadata": {},
   "outputs": [
    {
     "data": {
      "text/html": [
       "<div>\n",
       "<style scoped>\n",
       "    .dataframe tbody tr th:only-of-type {\n",
       "        vertical-align: middle;\n",
       "    }\n",
       "\n",
       "    .dataframe tbody tr th {\n",
       "        vertical-align: top;\n",
       "    }\n",
       "\n",
       "    .dataframe thead th {\n",
       "        text-align: right;\n",
       "    }\n",
       "</style>\n",
       "<table border=\"1\" class=\"dataframe\">\n",
       "  <thead>\n",
       "    <tr style=\"text-align: right;\">\n",
       "      <th></th>\n",
       "      <th>Subjects</th>\n",
       "      <th>Dosage</th>\n",
       "      <th>Scores</th>\n",
       "      <th>City</th>\n",
       "    </tr>\n",
       "  </thead>\n",
       "  <tbody>\n",
       "    <tr>\n",
       "      <th>0</th>\n",
       "      <td>S1</td>\n",
       "      <td>10mg</td>\n",
       "      <td>78.686760</td>\n",
       "      <td>Shanghai</td>\n",
       "    </tr>\n",
       "    <tr>\n",
       "      <th>1</th>\n",
       "      <td>S2</td>\n",
       "      <td>10mg</td>\n",
       "      <td>71.913514</td>\n",
       "      <td>Shanghai</td>\n",
       "    </tr>\n",
       "    <tr>\n",
       "      <th>2</th>\n",
       "      <td>S3</td>\n",
       "      <td>10mg</td>\n",
       "      <td>77.314652</td>\n",
       "      <td>Shanghai</td>\n",
       "    </tr>\n",
       "    <tr>\n",
       "      <th>3</th>\n",
       "      <td>S4</td>\n",
       "      <td>10mg</td>\n",
       "      <td>73.279049</td>\n",
       "      <td>Shanghai</td>\n",
       "    </tr>\n",
       "    <tr>\n",
       "      <th>4</th>\n",
       "      <td>S5</td>\n",
       "      <td>10mg</td>\n",
       "      <td>79.897818</td>\n",
       "      <td>Shanghai</td>\n",
       "    </tr>\n",
       "  </tbody>\n",
       "</table>\n",
       "</div>"
      ],
      "text/plain": [
       "  Subjects Dosage     Scores      City\n",
       "0       S1   10mg  78.686760  Shanghai\n",
       "1       S2   10mg  71.913514  Shanghai\n",
       "2       S3   10mg  77.314652  Shanghai\n",
       "3       S4   10mg  73.279049  Shanghai\n",
       "4       S5   10mg  79.897818  Shanghai"
      ]
     },
     "execution_count": 23,
     "metadata": {},
     "output_type": "execute_result"
    }
   ],
   "source": [
    "df = pd.read_csv('./samples/SleepExp_5.csv')\n",
    "df.head()"
   ]
  },
  {
   "cell_type": "code",
   "execution_count": 24,
   "metadata": {},
   "outputs": [
    {
     "data": {
      "text/html": [
       "<div>\n",
       "<style scoped>\n",
       "    .dataframe tbody tr th:only-of-type {\n",
       "        vertical-align: middle;\n",
       "    }\n",
       "\n",
       "    .dataframe tbody tr th {\n",
       "        vertical-align: top;\n",
       "    }\n",
       "\n",
       "    .dataframe thead th {\n",
       "        text-align: right;\n",
       "    }\n",
       "</style>\n",
       "<table border=\"1\" class=\"dataframe\">\n",
       "  <thead>\n",
       "    <tr style=\"text-align: right;\">\n",
       "      <th></th>\n",
       "      <th>Source</th>\n",
       "      <th>SS</th>\n",
       "      <th>DF</th>\n",
       "      <th>MS</th>\n",
       "      <th>F</th>\n",
       "      <th>p-unc</th>\n",
       "      <th>np2</th>\n",
       "    </tr>\n",
       "  </thead>\n",
       "  <tbody>\n",
       "    <tr>\n",
       "      <th>0</th>\n",
       "      <td>Dosage</td>\n",
       "      <td>3820.314</td>\n",
       "      <td>2</td>\n",
       "      <td>1910.157</td>\n",
       "      <td>90.684590</td>\n",
       "      <td>1.042341e-21</td>\n",
       "      <td>0.683460</td>\n",
       "    </tr>\n",
       "    <tr>\n",
       "      <th>1</th>\n",
       "      <td>City</td>\n",
       "      <td>16.548</td>\n",
       "      <td>1</td>\n",
       "      <td>16.548</td>\n",
       "      <td>0.785615</td>\n",
       "      <td>3.779598e-01</td>\n",
       "      <td>0.009266</td>\n",
       "    </tr>\n",
       "    <tr>\n",
       "      <th>2</th>\n",
       "      <td>Dosage * City</td>\n",
       "      <td>292.849</td>\n",
       "      <td>2</td>\n",
       "      <td>146.425</td>\n",
       "      <td>6.951497</td>\n",
       "      <td>1.608049e-03</td>\n",
       "      <td>0.142008</td>\n",
       "    </tr>\n",
       "    <tr>\n",
       "      <th>3</th>\n",
       "      <td>Residual</td>\n",
       "      <td>1769.355</td>\n",
       "      <td>84</td>\n",
       "      <td>21.064</td>\n",
       "      <td>NaN</td>\n",
       "      <td>NaN</td>\n",
       "      <td>NaN</td>\n",
       "    </tr>\n",
       "  </tbody>\n",
       "</table>\n",
       "</div>"
      ],
      "text/plain": [
       "          Source        SS  DF        MS          F         p-unc       np2\n",
       "0         Dosage  3820.314   2  1910.157  90.684590  1.042341e-21  0.683460\n",
       "1           City    16.548   1    16.548   0.785615  3.779598e-01  0.009266\n",
       "2  Dosage * City   292.849   2   146.425   6.951497  1.608049e-03  0.142008\n",
       "3       Residual  1769.355  84    21.064        NaN           NaN       NaN"
      ]
     },
     "execution_count": 24,
     "metadata": {},
     "output_type": "execute_result"
    }
   ],
   "source": [
    "pg.anova(data=df, dv='Scores', between=['Dosage', 'City'])"
   ]
  },
  {
   "cell_type": "markdown",
   "metadata": {},
   "source": [
    "使用独立样本ANOVA检验，注意between=['Dosage', 'City']，所得结果p值说明剂量/剂量与城市的相互作用对治疗得分有显著影响，城市对治疗得分影响不显著"
   ]
  },
  {
   "cell_type": "code",
   "execution_count": null,
   "metadata": {},
   "outputs": [],
   "source": []
  }
 ],
 "metadata": {
  "kernelspec": {
   "display_name": "Python 3",
   "language": "python",
   "name": "python3"
  },
  "language_info": {
   "codemirror_mode": {
    "name": "ipython",
    "version": 3
   },
   "file_extension": ".py",
   "mimetype": "text/x-python",
   "name": "python",
   "nbconvert_exporter": "python",
   "pygments_lexer": "ipython3",
   "version": "3.7.6"
  }
 },
 "nbformat": 4,
 "nbformat_minor": 4
}
