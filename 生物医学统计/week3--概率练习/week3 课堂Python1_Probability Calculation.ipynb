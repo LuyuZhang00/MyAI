{
 "cells": [
  {
   "cell_type": "code",
   "execution_count": 1,
   "metadata": {},
   "outputs": [],
   "source": [
    "import numpy as np\n",
    "import pandas as pd\n",
    "from scipy.stats import binom, norm,poisson"
   ]
  },
  {
   "cell_type": "code",
   "execution_count": 2,
   "metadata": {},
   "outputs": [
    {
     "name": "stdout",
     "output_type": "stream",
     "text": [
      "Binomial Probability:  0.14423819921874995\n"
     ]
    }
   ],
   "source": [
    "# I have a 0.35 probability of making a free throw. What's the probability of making 4 out of 7 free throws?\n",
    "\n",
    "#calculate binomial probability of P(x=4)\n",
    "result = binom.pmf(k=4, n=7, p=0.35)   ##二项分布\n",
    "\n",
    "#Print the result\n",
    "print(\"Binomial Probability: \",result)"
   ]
  },
  {
   "cell_type": "code",
   "execution_count": 3,
   "metadata": {},
   "outputs": [
    {
     "name": "stdout",
     "output_type": "stream",
     "text": [
      "Binomial Probability:  0.9443924648437501\n"
     ]
    }
   ],
   "source": [
    "# I have a 0.35 probability of making a free throw. What's the probability of making less tham 5 free throws?\n",
    "result = binom.cdf(k=4, n=7, p=0.35)   \n",
    "\n",
    "#Print the result\n",
    "print(\"Binomial Probability: \",result)"
   ]
  },
  {
   "cell_type": "markdown",
   "metadata": {},
   "source": [
    "### python 产生二项分布图练习\n",
    "要求产生 B(10, 0.5) B(5, 0,5) B(1, 0,5) 二项分布图\n",
    "\n",
    "（分别从二项分布B(10, 0.5) B(5, 0,5) B(1, 0,5) 中产生10000个样本存入数据）"
   ]
  },
  {
   "cell_type": "code",
   "execution_count": 4,
   "metadata": {},
   "outputs": [
    {
     "data": {
      "image/png": "[encoded data removed]",
      "text/plain": [
       "<Figure size 432x288 with 1 Axes>"
      ]
     },
     "metadata": {
      "needs_background": "light"
     },
     "output_type": "display_data"
    }
   ],
   "source": [
    "import numpy as np\n",
    "from numpy import random\n",
    "import matplotlib.pyplot as plt\n",
    "%matplotlib inline\n",
    "random.seed(666)\n",
    "\n",
    "data_10 = random.binomial(n=10, p=0.5, size=10000)\n",
    "data_5 = random.binomial(n=5, p=0.5, size=10000)\n",
    "data_1 = random.binomial(n=1, p=0.5, size=10000)    ##越来越正太\n",
    "\n",
    "# 以下为画图部分\n",
    "data = [data_10, data_5, data_1]\n",
    "n_list = [10,5,1]\n",
    "color = ['#5dbe80','#2d9ed8','#efab40']\n",
    "fig, ax = plt.subplots()\n",
    "for row,c,n in zip(data, color, n_list):\n",
    "    ax.hist(row,\n",
    "           color = c,\n",
    "           label = '$B($'+str(n)+', 0.5'+'$)$')\n",
    "ax.legend(loc = 'upper right', fontsize = 10)\n",
    "plt.axis('tight')\n",
    "plt.grid('off')    "
   ]
  },
  {
   "cell_type": "code",
   "execution_count": 5,
   "metadata": {},
   "outputs": [
    {
     "name": "stdout",
     "output_type": "stream",
     "text": [
      "喝7杯水概率： 0.13958653195059664\n",
      "喝9杯水以下的概率： 0.716624258727011\n"
     ]
    }
   ],
   "source": [
    "# 假设我每天喝水的次数服从泊松分布，并且经统计平均每天我会喝8杯水 （λ=8）\n",
    "# 某一天喝7杯水的概率（n=7）\n",
    "p = poisson.pmf(7, 8)\n",
    "print(\"喝7杯水概率：\",p)\n",
    "# 某一天喝9杯水以下的概率\n",
    "p = poisson.cdf(9, 8)\n",
    "print(\"喝9杯水以下的概率：\",p)"
   ]
  },
  {
   "cell_type": "code",
   "execution_count": 6,
   "metadata": {},
   "outputs": [
    {
     "name": "stdout",
     "output_type": "stream",
     "text": [
      "Standard normal distribution Probability:  0.004661188023718732\n"
     ]
    }
   ],
   "source": [
    "# Consider the standard normal distribution with mean µ = 0 and standard deviation σ = 1.\n",
    "# the probability that an outcome Z is greater than 2.60\n",
    "result = 1 - norm.cdf(2.6)\n",
    "\n",
    "#Print the result\n",
    "print(\"Standard normal distribution Probability: \",result)"
   ]
  },
  {
   "cell_type": "code",
   "execution_count": 7,
   "metadata": {},
   "outputs": [
    {
     "name": "stdout",
     "output_type": "stream",
     "text": [
      "Standard normal distribution Probability:  0.911492008562598\n"
     ]
    }
   ],
   "source": [
    "# the probability that Z is less than 1.35\n",
    "result = norm.cdf(1.35)\n",
    "\n",
    "#Print the result\n",
    "print(\"Standard normal distribution Probability: \",result)"
   ]
  },
  {
   "cell_type": "code",
   "execution_count": 8,
   "metadata": {},
   "outputs": [
    {
     "name": "stdout",
     "output_type": "stream",
     "text": [
      "Standard normal distribution Probability:  0.9544669340282387\n"
     ]
    }
   ],
   "source": [
    "#  the probability that Z is between -1.70 and 3.10\n",
    "result = norm.cdf(3.1) - norm.cdf(-1.7)\n",
    "\n",
    "#Print the result\n",
    "print(\"Standard normal distribution Probability: \",result)"
   ]
  },
  {
   "cell_type": "code",
   "execution_count": 9,
   "metadata": {},
   "outputs": [
    {
     "name": "stdout",
     "output_type": "stream",
     "text": [
      "The upper cut off:  1.0364333894937898\n"
     ]
    }
   ],
   "source": [
    "# value of Z cuts off the upper 15% of the distribution\n",
    "result = -norm.ppf(0.15)\n",
    "\n",
    "#Print the result\n",
    "print(\"The upper cut off: \",result)"
   ]
  },
  {
   "cell_type": "code",
   "execution_count": 10,
   "metadata": {},
   "outputs": [
    {
     "name": "stdout",
     "output_type": "stream",
     "text": [
      "The lower cut off:  -0.8416212335729142\n"
     ]
    }
   ],
   "source": [
    "# value of Z marks off the lower 20% of the distribution\n",
    "result = norm.ppf(0.2)\n",
    "\n",
    "#Print the result\n",
    "print(\"The lower cut off: \",result)"
   ]
  },
  {
   "cell_type": "code",
   "execution_count": 11,
   "metadata": {},
   "outputs": [
    {
     "name": "stdout",
     "output_type": "stream",
     "text": [
      "The probability:  0.11506967022170822\n"
     ]
    }
   ],
   "source": [
    "# The average daily high temperature in June in LA is 77◦F with a standard deviation of 5◦F. Suppose that the temperatures in June closely follow a normal distribution.\n",
    "# What is the probability of observing an 83◦F temperature or higher in LA during a randomly chosen day in June\n",
    "result = 1 - norm.cdf(83, loc = 77, scale = 5)\n",
    "\n",
    "#Print the result\n",
    "print(\"The probability: \",result)"
   ]
  },
  {
   "cell_type": "code",
   "execution_count": 12,
   "metadata": {},
   "outputs": [
    {
     "name": "stdout",
     "output_type": "stream",
     "text": [
      "The lower cut off:  70.592242172277\n"
     ]
    }
   ],
   "source": [
    "# How cold are the coldest 10% of the days during June in LA\n",
    "result = norm.ppf(0.1, loc = 77, scale = 5)\n",
    "\n",
    "#Print the result\n",
    "print(\"The lower cut off: \",result)"
   ]
  },
  {
   "cell_type": "code",
   "execution_count": 13,
   "metadata": {},
   "outputs": [
    {
     "name": "stdout",
     "output_type": "stream",
     "text": [
      "The middle range:  [0.26005402318991866, 6.139945976810081]\n"
     ]
    }
   ],
   "source": [
    "# Arsenic blood concentration is normally distributed with mean µ = 3.2 µg/dl and standard deviation σ = 1.5 µg/dl. What range of arsenic blood concentration defines the middle 95% of this distribution\n",
    "result = [norm.ppf(0.025, loc = 3.2, scale = 1.5), norm.ppf(1 - 0.025, loc = 3.2, scale = 1.5)]\n",
    "\n",
    "#Print the result\n",
    "print(\"The middle range: \",result)"
   ]
  },
  {
   "cell_type": "markdown",
   "metadata": {},
   "source": [
    "### 1. Example Implementation of Normal Distribution"
   ]
  },
  {
   "cell_type": "code",
   "execution_count": 19,
   "metadata": {},
   "outputs": [
    {
     "data": {
      "text/plain": [
       "Text(0, 0.5, 'Probability Density')"
      ]
     },
     "execution_count": 19,
     "metadata": {},
     "output_type": "execute_result"
    },
    {
     "data": {
      "image/png": "[encoded data removed]",
      "text/plain": [
       "<Figure size 432x288 with 1 Axes>"
      ]
     },
     "metadata": {
      "needs_background": "light"
     },
     "output_type": "display_data"
    }
   ],
   "source": [
    "# Importing required libraries\n",
    " \n",
    "import numpy as np\n",
    "import matplotlib.pyplot as plt\n",
    " \n",
    "# Creating a series of data of in range of 1-50.\n",
    "x = np.linspace(1,50,200)\n",
    "\n",
    "#Creating a Function.\n",
    "def normal_dist(x , mean , sd):\n",
    "    prob_density = (np.pi*sd) * np.exp(-0.5*((x-mean)/sd)**2)\n",
    "    return prob_density\n",
    " \n",
    "#Calculate mean and Standard deviation.\n",
    "mean = np.mean(x)\n",
    "sd = np.std(x)\n",
    " \n",
    "#Apply function to the data.\n",
    "pdf = normal_dist(x,mean,sd)\n",
    " \n",
    "#Plotting the Results\n",
    "plt.plot(x,pdf , color = 'red')\n",
    "plt.xlabel('Data points')\n",
    "plt.ylabel('Probability Density')"
   ]
  },
  {
   "cell_type": "markdown",
   "metadata": {},
   "source": [
    "### Properties of Normal Distribution\n",
    "我们可以通过改变平均值和标准偏差来改变钟形曲线的形状。改变平均值将使曲线朝着平均值移动，这意味着我们可以通过改变平均值来改变曲线的位置，同时曲线的形状保持不变。\n",
    "\n",
    "曲线的形状可以由标准偏差值控制。标准偏差越小，曲线越有界，而标准偏差越大，曲线越分散。\n",
    "\n",
    "#### Some excellent properties of a normal distribution:\n",
    "平均值、模式和中值都是相等的。\n",
    "\n",
    "曲线下的总面积等于1。\n",
    "\n",
    "曲线围绕平均值对称。"
   ]
  },
  {
   "cell_type": "code",
   "execution_count": 20,
   "metadata": {},
   "outputs": [
    {
     "data": {
      "text/plain": [
       "Text(0, 0.5, 'Probability Density')"
      ]
     },
     "execution_count": 20,
     "metadata": {},
     "output_type": "execute_result"
    },
    {
     "data": {
      "image/png": "[encoded data removed]",
      "text/plain": [
       "<Figure size 432x288 with 1 Axes>"
      ]
     },
     "metadata": {},
     "output_type": "display_data"
    }
   ],
   "source": [
    "# import required libraries\n",
    "from scipy.stats import norm\n",
    "import numpy as np\n",
    "import matplotlib.pyplot as plt\n",
    "import seaborn as sb\n",
    " \n",
    "# Creating the distribution\n",
    "data = np.arange(1,10,0.01)\n",
    "pdf = norm.pdf(data , loc = 5.3 , scale = 1 ) #loc is mean and the scale is the standard deviation of data\n",
    " \n",
    "#Visualizing the distribution\n",
    " \n",
    "sb.set_style('whitegrid')\n",
    "sb.lineplot(data, pdf , color = 'black')\n",
    "plt.xlabel('Heights')\n",
    "plt.ylabel('Probability Density')\n"
   ]
  },
  {
   "cell_type": "markdown",
   "metadata": {},
   "source": [
    "### Calculating Probability of Specific Data Occurance\n",
    "现在，如果我们被要求从这个分布中随机挑选一个人，那么这个人身高小于4.5英尺（1.37米）的概率是多少？"
   ]
  },
  {
   "cell_type": "code",
   "execution_count": 21,
   "metadata": {},
   "outputs": [
    {
     "data": {
      "text/plain": [
       "0.21185539858339675"
      ]
     },
     "execution_count": 21,
     "metadata": {},
     "output_type": "execute_result"
    }
   ],
   "source": [
    "norm(loc = 5.3 , scale = 1).cdf(4.5)"
   ]
  },
  {
   "cell_type": "markdown",
   "metadata": {},
   "source": [
    "The single line of code above finds the probability that there is a 21.18% chance that if a person is chosen randomly from the normal distribution with a mean of 5.3 and a standard deviation of 1, then the height of the person will be below 4.5 ft.\n",
    "\n",
    "上面的一行代码显示，如果从（平均值为5.3，标准偏差为1的）正态分布中随机选择一个人，，那么此人身高低于4.5英尺的概率为21.18%。"
   ]
  },
  {
   "cell_type": "markdown",
   "metadata": {},
   "source": [
    "\n",
    "现在，我们再次被要求从这个分布中随机挑选一个人，那么这个人的身高在6.5到4.5英尺之间的概率是多少？"
   ]
  },
  {
   "cell_type": "code",
   "execution_count": 22,
   "metadata": {},
   "outputs": [
    {
     "name": "stdout",
     "output_type": "stream",
     "text": [
      "0.673074931194895\n"
     ]
    }
   ],
   "source": [
    "cdf_upper_limit = norm(loc = 5.3 , scale = 1).cdf(6.5)\n",
    "cdf_lower_limit = norm(loc = 5.3 , scale = 1).cdf(4.5)\n",
    " \n",
    "prob = cdf_upper_limit - cdf_lower_limit\n",
    "print(prob)"
   ]
  },
  {
   "cell_type": "markdown",
   "metadata": {},
   "source": [
    "现在，那一个随机选择的人身高超过6.5英尺的概率会怎样？"
   ]
  },
  {
   "cell_type": "code",
   "execution_count": 23,
   "metadata": {},
   "outputs": [
    {
     "name": "stdout",
     "output_type": "stream",
     "text": [
      "0.11506967022170822\n"
     ]
    }
   ],
   "source": [
    "cdf_value = norm(loc = 5.3 , scale = 1).cdf(6.5)\n",
    "prob = 1- cdf_value\n",
    "print(prob)"
   ]
  },
  {
   "cell_type": "code",
   "execution_count": null,
   "metadata": {},
   "outputs": [],
   "source": []
  },
  {
   "cell_type": "code",
   "execution_count": null,
   "metadata": {},
   "outputs": [],
   "source": []
  }
 ],
 "metadata": {
  "interpreter": {
   "hash": "95ab7303ed2746327945aa376054eddca8c4eca362915ff95db932dbe7e7ee41"
  },
  "kernelspec": {
   "display_name": "Python 3",
   "language": "python",
   "name": "python3"
  },
  "language_info": {
   "codemirror_mode": {
    "name": "ipython",
    "version": 3
   },
   "file_extension": ".py",
   "mimetype": "text/x-python",
   "name": "python",
   "nbconvert_exporter": "python",
   "pygments_lexer": "ipython3",
   "version": "3.7.6"
  }
 },
 "nbformat": 4,
 "nbformat_minor": 4
}
