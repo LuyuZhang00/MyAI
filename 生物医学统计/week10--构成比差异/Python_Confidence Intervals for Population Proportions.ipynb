{
 "cells": [
  {
   "cell_type": "markdown",
   "metadata": {},
   "source": [
    "# 单元4 - Test of proportions - 生物医学统计概论 @林关宁\n",
    "\n",
    "## Confidence Interval for a single proportion\n",
    "\n",
    "我们可以使用 statsmodels 来计算一些试验中给定“成功”比例的置信区间，比如某个基因型出现的频率、以特定方式投票的意图等。"
   ]
  },
  {
   "cell_type": "markdown",
   "metadata": {},
   "source": [
    "### 假设在某个网站上，在某一天的1126名访问者中，有310人点击了赞助商的广告。\n",
    "#### 计算点击广告的访客的人口比例的置信区间"
   ]
  },
  {
   "cell_type": "code",
   "execution_count": 1,
   "metadata": {},
   "outputs": [
    {
     "name": "stdout",
     "output_type": "stream",
     "text": [
      "0.2753108348134991\n"
     ]
    },
    {
     "data": {
      "text/plain": [
       "(0.24922129423231776, 0.30140037539468045)"
      ]
     },
     "execution_count": 1,
     "metadata": {},
     "output_type": "execute_result"
    }
   ],
   "source": [
    "import statsmodels.api as sm\n",
    "p = 310 / 1126    # Sample proportion\n",
    "print(p)\n",
    "# Function for computing confidence intervals\n",
    "from statsmodels.stats.proportion import proportion_confint   \n",
    "\n",
    "proportion_confint(count=310,    # Number of \"successes\"\n",
    "                   nobs=1126,    # Number of trials\n",
    "                   alpha=(1 - 0.95), method='normal')"
   ]
  },
  {
   "cell_type": "markdown",
   "metadata": {},
   "source": [
    "#### If we wanted a 99% confidence interval, we would have a wider interval, but more confidence that the true proportion lies in this interval."
   ]
  },
  {
   "cell_type": "code",
   "execution_count": 2,
   "metadata": {},
   "outputs": [
    {
     "name": "stdout",
     "output_type": "stream",
     "text": [
      "Lower confidence interval: 0.24102336643386685\n",
      "Upper confidence interval: 0.30959830319313136\n"
     ]
    }
   ],
   "source": [
    "lower, upper = proportion_confint(310, 1126, alpha=(1 - 0.99))\n",
    "print ('Lower confidence interval:', lower)\n",
    "print ('Upper confidence interval:', upper)"
   ]
  },
  {
   "cell_type": "markdown",
   "metadata": {},
   "source": [
    "### 单样本假设检验：网站管理员声称有30%的网站访问者点击了广告。这是真的吗？\n",
    "\n",
    "### hypothesis test for proportions using z-test\n",
    "\n",
    "#### 我们将做一个统计检验来测试管理员的说法\n",
    "\n",
    "H0: p=0.3\n",
    "\n",
    "我们计算𝑝-值。如果𝑝-价值很小，我们会拒绝𝐻0并断定管理员的声明是虚假的；点击广告的访客比例不是0.3。如果𝑝-价值不小，那么我们不拒绝𝐻0; 我们数据中的证据与他的说法并不矛盾\n",
    "\n",
    "什么算“小”𝑝-价值在这里，我们可以说如果𝑝-值小于0.05，则𝑝-价值是“小”的，我们拒绝零假设。如果我们看到𝑝-值大于0.05时，我们不会拒绝零假设。（我们可以选择0.05以外的数字，比如选择0.01。）"
   ]
  },
  {
   "cell_type": "code",
   "execution_count": 4,
   "metadata": {},
   "outputs": [
    {
     "name": "stdout",
     "output_type": "stream",
     "text": [
      "z statistics: -1.8547614674673856\n",
      "p value: 0.06363029677684083\n"
     ]
    }
   ],
   "source": [
    "# Performs the test just described\n",
    "from statsmodels.stats.proportion import proportions_ztest\n",
    "zstat, p = proportions_ztest(count=310,\n",
    "                        nobs=1126,\n",
    "                        value=0.3,  # The hypothesized value of population proportion p\n",
    "                        alternative='two-sided') # Tests the \"not equal to\" alternative hypothesis\n",
    "\n",
    "print ('z statistics:', zstat)\n",
    "print ('p value:', p)"
   ]
  },
  {
   "cell_type": "markdown",
   "metadata": {},
   "source": [
    "结果：我们得到了一个假设检验统计量 𝑧≈−1.85 和 𝑝-值≈0.0636 > 0.05. \n",
    "\n",
    "结论是，没有足够的统计证据证明网站管理员的说法不对"
   ]
  },
  {
   "cell_type": "code",
   "execution_count": null,
   "metadata": {},
   "outputs": [],
   "source": []
  },
  {
   "cell_type": "markdown",
   "metadata": {},
   "source": [
    "## Confidence Interval for two population proportions"
   ]
  },
  {
   "cell_type": "code",
   "execution_count": 5,
   "metadata": {},
   "outputs": [],
   "source": [
    "import numpy as np\n",
    "import pandas as pd\n",
    "import scipy.stats as stats\n",
    "\n",
    "def two_proprotions_confint(success_a, size_a, success_b, size_b, significance):  #这里定义函数，后面调用，并不是现成API调用\n",
    "    \"\"\"\n",
    "    A/B test for two proportions;\n",
    "    given a success a trial size of group A and B compute\n",
    "    its confidence interval;\n",
    "    resulting confidence interval matches R's prop.test function\n",
    "\n",
    "    Parameters\n",
    "    ----------\n",
    "    success_a, success_b : int\n",
    "        Number of successes in each group\n",
    "\n",
    "    size_a, size_b : int\n",
    "        Size, or number of observations in each group\n",
    "\n",
    "    significance : float, default 0.05\n",
    "        Often denoted as alpha. Governs the chance of a false positive.\n",
    "        A significance level of 0.05 means that there is a 5% chance of\n",
    "        a false positive. In other words, our confidence level is\n",
    "        1 - 0.05 = 0.95\n",
    "\n",
    "    Returns\n",
    "    -------\n",
    "    prop_diff : float\n",
    "        Difference between the two proportion\n",
    "\n",
    "    confint : 1d ndarray\n",
    "        Confidence interval of the two proportion test\n",
    "    \"\"\"\n",
    "    prop_a = success_a / size_a\n",
    "    prop_b = success_b / size_b\n",
    "    var = prop_a * (1 - prop_a) / size_a + prop_b * (1 - prop_b) / size_b\n",
    "    se = np.sqrt(var)\n",
    "\n",
    "    # z critical value\n",
    "    confidence = 1 - significance\n",
    "    z = stats.norm(loc = 0, scale = 1).ppf(confidence + significance / 2)\n",
    "\n",
    "    # standard formula for the confidence interval\n",
    "    # point-estimtate +- z * standard-error\n",
    "    prop_diff = prop_b - prop_a\n",
    "    confint = prop_diff + np.array([-1, 1]) * z * se\n",
    "    return prop_diff, confint"
   ]
  },
  {
   "cell_type": "code",
   "execution_count": 7,
   "metadata": {},
   "outputs": [
    {
     "name": "stdout",
     "output_type": "stream",
     "text": [
      "estimate difference: 0.008199999999999999\n",
      "confidence interval: [-0.00362633  0.02002633]\n"
     ]
    }
   ],
   "source": [
    "success_a = 486\n",
    "size_a = 5000\n",
    "success_b = 527\n",
    "size_b = 5000\n",
    "alpha = 0.05\n",
    "\n",
    "prop_diff, confint = two_proprotions_confint(success_a, size_a, success_b, size_b, alpha)\n",
    "print('estimate difference:', prop_diff)\n",
    "print('confidence interval:', confint)"
   ]
  },
  {
   "cell_type": "code",
   "execution_count": null,
   "metadata": {},
   "outputs": [],
   "source": []
  }
 ],
 "metadata": {
  "kernelspec": {
   "display_name": "Python 3 (ipykernel)",
   "language": "python",
   "name": "python3"
  },
  "language_info": {
   "codemirror_mode": {
    "name": "ipython",
    "version": 3
   },
   "file_extension": ".py",
   "mimetype": "text/x-python",
   "name": "python",
   "nbconvert_exporter": "python",
   "pygments_lexer": "ipython3",
   "version": "3.9.7"
  }
 },
 "nbformat": 4,
 "nbformat_minor": 4
}
