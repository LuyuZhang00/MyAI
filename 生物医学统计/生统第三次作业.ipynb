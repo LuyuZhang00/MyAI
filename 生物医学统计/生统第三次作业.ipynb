{
 "cells": [
  {
   "cell_type": "markdown",
   "id": "bcd3c97d-ee21-4636-b325-d70caabe94c3",
   "metadata": {},
   "source": [
    "### 张露雨 519130910018"
   ]
  },
  {
   "cell_type": "markdown",
   "id": "4e8ab454-65e0-4964-aaf8-c4d8a5dadd64",
   "metadata": {},
   "source": [
    "### HW-U4-1:  对两组病人分别进行两组（A,B)药物实验, 结果是治愈和未治愈，数据如下：\n",
    "\n",
    "|Drug |cured |uncured \n",
    "| ---  | ----  |  ----  | \n",
    "|A |510 |100 \n",
    "|B |110 |50\n",
    "|total |620 |150\n",
    "\n",
    "### (1) 计算两种药物治愈率的99%置信区间；（5分）\n",
    "\n",
    "### (2) 用卡方检验分析两种药物疗效是否有差异; （5分）\n",
    "\n",
    "### (3)用z-检验比较两种药物的治愈率差异， 并与置信区间方法比较。（5分）"
   ]
  },
  {
   "cell_type": "code",
   "execution_count": 1,
   "id": "1ab5d64e-8cc2-4afd-82c4-50735e10f289",
   "metadata": {},
   "outputs": [
    {
     "name": "stdout",
     "output_type": "stream",
     "text": [
      "药物A治愈率99%的置信区间是： (0.7974548969040598, 0.8746762506369239)\n",
      "药物B治愈率99%的置信区间是： (0.5931116378126502, 0.7818883621873498)\n",
      "药物A和B治愈率99%的置信区间是： (0.7684308298568733, 0.8419587805327372)\n"
     ]
    }
   ],
   "source": [
    "# (1) 计算两种药物治愈率的99%置信区间；  假设数据正态分布\n",
    "from statsmodels.stats.proportion import proportion_confint   \n",
    "\n",
    "print(\"药物A治愈率99%的置信区间是：\"\n",
    "      ,proportion_confint(count=510,    # Number of \"cured\"\n",
    "                   nobs=610,    # Number of trials\n",
    "                   alpha=(1 - 0.99), method='normal'))\n",
    "print(\"药物B治愈率99%的置信区间是：\"\n",
    "      ,proportion_confint(count=110,    # Number of \"cured\"\n",
    "                   nobs=160,    # Number of trials\n",
    "                   alpha=(1 - 0.99), method='normal'))\n",
    "print(\"药物A和B治愈率99%的置信区间是：\"\n",
    "      ,proportion_confint(count=620,    # Number of \"cured\"\n",
    "                   nobs=770,    # Number of trials\n",
    "                   alpha=(1 - 0.99), method='normal'))"
   ]
  },
  {
   "cell_type": "code",
   "execution_count": 2,
   "id": "3fcef240-45a7-413b-a24c-e50e81888403",
   "metadata": {
    "tags": []
   },
   "outputs": [
    {
     "name": "stdout",
     "output_type": "stream",
     "text": [
      "卡方值=16.9013, p值=0.0000, 自由度=1 \n",
      " expected_frep= \n",
      " [[491.16883117 118.83116883]\n",
      " [128.83116883  31.16883117]] \n"
     ]
    }
   ],
   "source": [
    "# (2) 用卡方检验分析两种药物疗效是否有差异;\n",
    "#独立性卡方检验\n",
    "from  scipy.stats import chi2_contingency\n",
    "import numpy as np\n",
    "import pandas as pd\n",
    "data=[[510,100],[110,50]]\n",
    "\n",
    "df=pd.DataFrame(data,index=['A','B'],columns=['cured','uncured'])\n",
    "kt=chi2_contingency(df)\n",
    "\n",
    "print('卡方值=%.4f, p值=%.4f, 自由度=%i \\n expected_frep= \\n %s '%kt)"
   ]
  },
  {
   "cell_type": "markdown",
   "id": "c4d3eda0-7ddd-4f1f-9e71-6671034ee245",
   "metadata": {},
   "source": [
    "### 由以上卡方值16.9>6.635，p值<0.01 ————————>两者药物疗效有差异"
   ]
  },
  {
   "cell_type": "code",
   "execution_count": 3,
   "id": "e9e3500d-cb49-4a11-a547-eb0d7009034c",
   "metadata": {},
   "outputs": [
    {
     "name": "stdout",
     "output_type": "stream",
     "text": [
      "4.223251857147321\n",
      "在99%的置信度下，两种药物治愈率有差异\n"
     ]
    }
   ],
   "source": [
    "# (3)用z-检验比较两种药物的治愈率差异， 并与置信区间方法比较。\n",
    "# H0：p1  =  p2  \n",
    "# H1：p1 ！=p2\n",
    "\n",
    "import math\n",
    "\n",
    "p = 620/770\n",
    "p1 = 510/610\n",
    "p2 = 110/160\n",
    "n1= 610 \n",
    "n2 = 160\n",
    "\n",
    "z = (p1-p2)/((math.sqrt(p*(1-p)))*(math.sqrt(1/n1+1/n2)))\n",
    "print(z)\n",
    "z0=2.34   #z值99%的临界值\n",
    "if z > z0:\n",
    "    print(\"在99%的置信度下，两种药物治愈率有差异\")\n",
    "else:\n",
    "    print(\"在99%的置信度下，两种药物治愈率无差异\")"
   ]
  },
  {
   "cell_type": "markdown",
   "id": "0f1584ac-7a6e-4145-ac04-3bf3125ae515",
   "metadata": {},
   "source": [
    "### 通过置信区间可知，药物A治愈率为[0.797,0.874],药物B治愈率为[0.593,0.781],两者有明显差异\n",
    "### 通过以上比较可知，置信区间法、卡方检验法和Z检验法的结果一致"
   ]
  },
  {
   "cell_type": "code",
   "execution_count": null,
   "id": "b394cb78-c5bb-45c4-8228-d87610abcf87",
   "metadata": {},
   "outputs": [],
   "source": []
  },
  {
   "cell_type": "markdown",
   "id": "4f5f02fb-2371-43b0-94e9-70fa3fbd6614",
   "metadata": {},
   "source": [
    "### HW-U4-2: 卡方检验中，如果自由度为2，卡方统计量为8.1的时候，对应的p值是多少？ （5分）"
   ]
  },
  {
   "cell_type": "code",
   "execution_count": 4,
   "id": "7da46183-80cd-4a44-a799-dbb2894bb0df",
   "metadata": {},
   "outputs": [
    {
     "name": "stdout",
     "output_type": "stream",
     "text": [
      "0.017422374639493476\n"
     ]
    }
   ],
   "source": [
    "import scipy.stats as stats\n",
    "p_value = 1 - stats.chi2.cdf(x=8.1,  # Find the p-value\n",
    "                             df=2)\n",
    "print(p_value)"
   ]
  },
  {
   "cell_type": "markdown",
   "id": "686ca772-73a3-46bd-80fc-af4b362327da",
   "metadata": {},
   "source": [
    "### HW-U4-3: 如果要研究健康教育是否会让人公众提高防疫意识，从而更加注重勤洗手/戴口罩，采用什么统计方法合适？（5分）"
   ]
  },
  {
   "cell_type": "markdown",
   "id": "78487fd7-cfe4-43ae-bf3c-c6e0c4a0b35c",
   "metadata": {},
   "source": [
    "可用卡方检验：\n",
    "\n",
    "对两组人进行分别进行研究，一组不进行健康教育，查看不勤洗手/戴口罩和勤洗手/戴口罩的人数\n",
    "\n",
    "另一组进行健康教育，查看不勤洗手/戴口罩和勤洗手/戴口罩的人数，然后进行卡方检验，可列表格如图所示：\n",
    "\n",
    "| 处理方式|不勤洗手/戴口罩 |勤洗手/戴口罩\n",
    "| ---  | ----  |  ----  | \n",
    "|不进行健康教育 | | \n",
    "|进行健康教育 | |\n"
   ]
  },
  {
   "cell_type": "code",
   "execution_count": null,
   "id": "b34130c4-48ab-4fe8-bd17-a31fa3f369d1",
   "metadata": {},
   "outputs": [],
   "source": []
  },
  {
   "cell_type": "markdown",
   "id": "43de2b68-b197-457a-a825-6e4d56c89fb9",
   "metadata": {
    "tags": []
   },
   "source": [
    "### HW-U4-4: 假设你需要分析全国34个省、自治区、直辖市、特别行政区的新冠病人确诊数是否符合正态分布，如果采用卡方检验的话，对应的自由度是多少，请说出理由？（5分）"
   ]
  },
  {
   "cell_type": "markdown",
   "id": "c6d3a7e0-aab4-4d88-9b1f-6026cc471465",
   "metadata": {},
   "source": [
    "拟合度卡方检验\n",
    "\n",
    "自由度K= C - M = 观察到类别数 - 要比较的理论分布参数个数 = 34 - 1 =33 "
   ]
  },
  {
   "cell_type": "code",
   "execution_count": null,
   "id": "c838a9dc-7f8f-4f42-8a73-61ead9a61ead",
   "metadata": {},
   "outputs": [],
   "source": []
  }
 ],
 "metadata": {
  "kernelspec": {
   "display_name": "Python 3 (ipykernel)",
   "language": "python",
   "name": "python3"
  },
  "language_info": {
   "codemirror_mode": {
    "name": "ipython",
    "version": 3
   },
   "file_extension": ".py",
   "mimetype": "text/x-python",
   "name": "python",
   "nbconvert_exporter": "python",
   "pygments_lexer": "ipython3",
   "version": "3.9.7"
  }
 },
 "nbformat": 4,
 "nbformat_minor": 5
}
